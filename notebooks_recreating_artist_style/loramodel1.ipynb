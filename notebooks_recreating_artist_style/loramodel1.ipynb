{
 "cells": [
  {
   "cell_type": "markdown",
   "id": "6481c9b0",
   "metadata": {},
   "source": [
    "# Experimenting with a LoRa Model in CivitAI"
   ]
  },
  {
   "cell_type": "markdown",
   "id": "0a0459f1",
   "metadata": {},
   "source": [
    "LoRa model dowloaded in CivitAI: https://civitai.com/models/160858/oror-hand-drawn-style-monochromelight-color\n",
    "\n",
    "To initiate the image generation process, we referenced a prompt example from the CivitAI's collection in the LoRa model dowloaded. Using this as a foundation, We made modifications with the aim of emulating the distinct style and first image of the artist Ivy Li."
   ]
  },
  {
   "cell_type": "markdown",
   "id": "54f41d42",
   "metadata": {},
   "source": [
    "Ivy's Li first image:\n",
    "<img src='images/ivyli1.jpg' width=50%>"
   ]
  },
  {
   "cell_type": "markdown",
   "id": "9274bfdc",
   "metadata": {},
   "source": [
    "## First Image\n",
    "\n",
    "After generate multiple times the same prompt, this was the result:\n",
    "\n",
    "<p><b>Prompt:</b></p>\n",
    "lora:shouhui:1, shouhui, 1man, black mid lenght hair,   face portrait, white long sleeve shirt, black vest, white background, (masterpiece, high quality, best quality), hand-painted, cartoon, realistic, holding up 1 right hand,  1 pocket watch covering his eye\n",
    "\n",
    "<p><b>Negative prompt:</b></p>\n",
    "ng_deepnegative_v1_75t, (badhandv4:1.5),(blurry background:1.3),(depth of field:1.7),(holding:2),(worst quality:2),(low quality:2), (normal quality:2),lowres, bad anatomy, bad hands,((monochrome))\n",
    "\n",
    "<img src='images/img1.png' width=30%>"
   ]
  },
  {
   "cell_type": "markdown",
   "id": "fdcfa1b7",
   "metadata": {},
   "source": [
    "## Second Image\n",
    "\n",
    "Changing the last part of the prompt and keeping the same Negative prompt.\n",
    "\n",
    "<p><b>Prompt:</b></p>\n",
    "lora:shouhui:1 shouhui, 1man, black mid lenght hair,   face portrait, white long sleeve shirt, black vest, white background, (masterpiece, high quality, best quality), hand-painted, cartoon, realistic, holding up 1 right hand,  1  pocket watch accessories in hand\n",
    "\n",
    "<img src='images/img2.png' width=30%>"
   ]
  },
  {
   "cell_type": "markdown",
   "id": "b958ceab",
   "metadata": {},
   "source": [
    "## Third Image\n",
    "\n",
    "Changing the prompt.\n",
    "\n",
    "<p><b>Prompt:</b></p> \n",
    "lora:shouhui:1 shouhui, 1man, black mid lenght hair,   face portrait, white long sleeve shirt, black vest, white background, (masterpiece, high quality, best quality), hand-painted, cartoon, realistic, holding up 1 right hand with  1  compass accessories in hand covering his eye with the compass accesorie , serious expression \n",
    "\n",
    "<img src='images/img3.png' width=30%>"
   ]
  },
  {
   "cell_type": "markdown",
   "id": "56ada48a",
   "metadata": {},
   "source": [
    "## Fourth Image\n",
    "\n",
    "Changing the prompt.\n",
    "\n",
    "<p><b>Prompt:</b></p> \n",
    "lora:shouhui:1 shouhui, 1man, black short hair,   face portrait, white long-sleeve shirt, black vest, white background, (masterpiece, high quality, best quality), hand-painted, cartoon, realistic, holding up 1 right hand with 1  compass accessories in hand covering his eye with the compass accessories, serious expression \n",
    "\n",
    "<img src='images/img4.png' width=30%>"
   ]
  },
  {
   "cell_type": "markdown",
   "id": "9ea44990",
   "metadata": {},
   "source": [
    "# Changing the checkpoint model and the range of strength in the LoRa model.\n",
    "\n",
    "After generate multiple images and select the closest ones, we made some changes in other options to see the results and we notice that change this aspects make a closer result."
   ]
  },
  {
   "cell_type": "markdown",
   "id": "12195d2a",
   "metadata": {},
   "source": [
    "## Fifth Image\n",
    "\n",
    "<li>Checkpoint revAnimater_v122EOL.safetensors</li>\n",
    "<li>Range of strength 0.95 LoRa</li>\n",
    "\n",
    "<p><b>Prompt:</b></p> \n",
    "lora:shouhui:0.95 shouhui, 1man, black short hair,  face portrait, white long-sleeve shirt, black vest, white background, (masterpiece, high quality, best quality), hand-painted, cartoon, realistic, holding up 1 right hand with 1  compass accessories in hand overlapping his right eye with the compass accessories, serious expression, eye background, compass foreground\n",
    "\n",
    "<img src='images/img5.png' width=30%>"
   ]
  },
  {
   "cell_type": "markdown",
   "id": "d97abec5",
   "metadata": {},
   "source": [
    "## Last Image\n",
    "\n",
    "<li>Checkpoint dreamshaper_8.safetensors</li>\n",
    "<li>Range of strength 1 LoRa</li>\n",
    "\n",
    "<p><b>Prompt:</b></p> \n",
    "lora:shouhui:1 shouhui, hand-painted, cartoon, photorealistic, 1man, black short hair,  face portrait, white long-sleeve shirt, black vest, holding up 1 right hand with 1 locking a pocket watch accessories in front of his face, serious expression, white background, (masterpiece, high quality, best quality)\n",
    "\n",
    "<img src='images/img6.png' width=30%>"
   ]
  },
  {
   "cell_type": "markdown",
   "id": "ea6ad3aa",
   "metadata": {},
   "source": [
    "We notice that for this model was not possible to put the accesories in front of the face and with Chatgpt help and summary explanation we got this information:\n",
    "\n",
    "\"Generating images with precise placements of objects, especially when they intersect or overlap with other elements, can be challenging for several reasons:\n",
    "\n",
    "Ambiguity: A textual description might be clear to a human but can still leave room for interpretation when translated into a visual form by a machine.\n",
    "\n",
    "Complexity of Interaction: When an accessory is placed in front of another object (like an eye), it requires the model to understand the spatial relationship between the two objects, the perspective from which the scene is viewed, and how light and shadow would play out.\n",
    "\n",
    "Training Data Limitations: If the model hasn't seen many examples of the specific request during its training (like an accessory in front of the eye), it might struggle to generate it accurately.\n",
    "\n",
    "Depth and Layering: Understanding and portraying depth in a 2D image is challenging. When objects overlap, like an accessory in front of an eye, it requires a correct representation of which object is in the foreground and which one is in the background.\""
   ]
  },
  {
   "cell_type": "markdown",
   "id": "8f06b312",
   "metadata": {},
   "source": [
    "## Questions:\n",
    "<li> What is the sampling method doing? </li>\n",
    "<li> What is the difference between the checkpoint and the LoRa model generation? </li> \n",
    "<li> Is there a method to instruct the model to retain its current generation quality and precision, or even enhance it, while continuing the generation process from that point? </li>\n"
   ]
  },
  {
   "cell_type": "code",
   "execution_count": null,
   "id": "747806ad",
   "metadata": {},
   "outputs": [],
   "source": []
  }
 ],
 "metadata": {
  "kernelspec": {
   "display_name": "Python 3 (ipykernel)",
   "language": "python",
   "name": "python3"
  },
  "language_info": {
   "codemirror_mode": {
    "name": "ipython",
    "version": 3
   },
   "file_extension": ".py",
   "mimetype": "text/x-python",
   "name": "python",
   "nbconvert_exporter": "python",
   "pygments_lexer": "ipython3",
   "version": "3.11.4"
  },
  "toc": {
   "base_numbering": 1,
   "nav_menu": {},
   "number_sections": true,
   "sideBar": true,
   "skip_h1_title": false,
   "title_cell": "Table of Contents",
   "title_sidebar": "Contents",
   "toc_cell": false,
   "toc_position": {},
   "toc_section_display": true,
   "toc_window_display": false
  }
 },
 "nbformat": 4,
 "nbformat_minor": 5
}
