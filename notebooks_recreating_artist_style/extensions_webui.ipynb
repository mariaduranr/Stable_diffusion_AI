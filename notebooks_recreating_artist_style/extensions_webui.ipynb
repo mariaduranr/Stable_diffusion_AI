{
 "cells": [
  {
   "cell_type": "markdown",
   "id": "28ede2a5",
   "metadata": {},
   "source": [
    "## Researching extensions for prompting LoRa Model\n",
    "\n",
    "General extensions web page: https://github.com/AUTOMATIC1111/stable-diffusion-webui/wiki/Extensions\n",
    "\n",
    "Clip Interrogator:\n",
    "https://github.com/pharmapsychotic/clip-interrogator\n",
    "\n",
    "Prompt gen: No instructions\n",
    "https://github.com/AUTOMATIC1111/stable-diffusion-webui-promptgen\n",
    "\n",
    "Prompt Generator:\n",
    "https://github.com/imrayya/stable-diffusion-webui-Prompt_Generator\n",
    "\n",
    "Dynamics prompt extension:\n",
    "https://github.com/adieyal/sd-dynamic-prompts?tab=readme-ov-file#basic-usage\n",
    "\n",
    "For artist styles: Inspiration\n",
    "https://github.com/yfszzx/stable-diffusion-webui-inspiration\n",
    "\n",
    "Different Extension besides Dreamboot\n",
    "https://github.com/Mikubill/sd-webui-controlnet/blob/main/README.md"
   ]
  }
 ],
 "metadata": {
  "kernelspec": {
   "display_name": "Python 3 (ipykernel)",
   "language": "python",
   "name": "python3"
  },
  "language_info": {
   "codemirror_mode": {
    "name": "ipython",
    "version": 3
   },
   "file_extension": ".py",
   "mimetype": "text/x-python",
   "name": "python",
   "nbconvert_exporter": "python",
   "pygments_lexer": "ipython3",
   "version": "3.11.4"
  },
  "toc": {
   "base_numbering": 1,
   "nav_menu": {},
   "number_sections": true,
   "sideBar": true,
   "skip_h1_title": false,
   "title_cell": "Table of Contents",
   "title_sidebar": "Contents",
   "toc_cell": false,
   "toc_position": {},
   "toc_section_display": true,
   "toc_window_display": false
  }
 },
 "nbformat": 4,
 "nbformat_minor": 5
}
