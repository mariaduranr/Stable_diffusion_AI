{
 "cells": [
  {
   "cell_type": "markdown",
   "id": "8532cf4b",
   "metadata": {},
   "source": [
    "## Installing dreambooth following the video tutorial"
   ]
  },
  {
   "cell_type": "markdown",
   "id": "f26ec35b",
   "metadata": {},
   "source": [
    "Ixchel and I work in the installation, in my case a localhost error appeared I think because I already had the extension for the Train tools and then my localhost did not open again:\n",
    "<img src='images/a.png' width=75%>\n",
    "\n",
    "\n",
    "We tried all the process describe in the video and we face a problem with the location of the images for the data set and we fix it with this path:\n",
    "<img src='images/w.png' width=40%>\n",
    "\n",
    "## Process\n",
    "<img src='images/b.png' width=75%>\n",
    "<img src='images/c.png' width=75%>\n",
    "<img src='images/d.png' width=75%>\n",
    "<img src='images/e.png' width=75%>\n",
    "<img src='images/f.png' width=75%>\n",
    "<img src='images/g.png' width=75%>\n",
    "<img src='images/h.png' width=75%>\n",
    "<img src='images/i.png' width=75%>\n",
    "<img src='images/j.png' width=75%>\n",
    "<img src='images/k.png' width=75%>\n",
    "\n",
    "\n",
    "## Prompts\n",
    "\n",
    "### Instance Prompt\n",
    "ivyliman\n",
    "\n",
    "Class Prompt\n",
    "ivy li artist style black and white sketch paint hand drawn hype realistic man \n",
    "\n",
    "Classification Image Negative Prompt\n",
    "grotesque, unsightly, misshapen, deformed, mangled, awkward, distorted, twisted, contorted, misshapen, lopsided, malformed, asymmetrical, irregular, unnatural, botched, mangled, mutilated, disfigured, unsightly, ugly, offensive, repulsive, revolting, ghastly, hideous, unappealing, terrible, awful, frightful, odious, loathsome, revolting, obnoxious, detestable, hateful, repugnant, sickening, vile, abhorrent, contemptible, execrable, loathsome, detestable, repellent, disgusting, revolting, loathsome, distasteful, abominable, ugly, tiling, poorly drawn hands, poorly drawn feet, poorly drawn face, out of frame, extra limbs, disfigured, deformed, body out of frame, blurry, bad anatomy, blurred, watermark, grainy, signature, cut off, draft, amateur, multiple, gross, weird, uneven, furnishing, decorating, decoration, furniture, text, poor, low, basic, worst, juvenile, unprofessional, failure, crayon, oil, nude, sex, label, thousand hands, barely detailed \n",
    "\n",
    "### Sample Prompts\n",
    "\n",
    "Sample Image Prompt\n",
    "ivyliman\n",
    "\n",
    "Sample Negative Prompt\n",
    "grotesque, unsightly, misshapen, deformed, mangled, awkward, distorted, twisted, contorted, misshapen, lopsided, malformed, asymmetrical, irregular, unnatural, botched, mangled, mutilated, disfigured, unsightly, ugly, offensive, repulsive, revolting, ghastly, hideous, unappealing, terrible, awful, frightful, odious, loathsome, revolting, obnoxious, detestable, hateful, repugnant, sickening, vile, abhorrent, contemptible, execrable, loathsome, detestable, repellent, disgusting, revolting, loathsome, distasteful, abominable, ugly, tiling, poorly drawn hands, poorly drawn feet, poorly drawn face, out of frame, extra limbs, disfigured, deformed, body out of frame, blurry, bad anatomy, blurred, watermark, grainy, signature, cut off, draft, amateur, multiple, gross, weird, uneven, furnishing, decorating, decoration, furniture, text, poor, low, basic, worst, juvenile, unprofessional, failure, crayon, oil, nude, sex, label, thousand hands, barely detailed \n",
    "\n",
    "## Some images creating in the training process\n",
    "\n",
    "<img src='images/x.png' width=50%>\n",
    "<img src='images/y.png' width=50%>\n",
    "<img src='images/z.png' width=50%>\n",
    "\n",
    "# Questions\n",
    "\n",
    "We do not know why is doing only Asian images\n",
    "We found in the checkpoint IvyliStyle but we are not sure if it was a folder that we made before or if is actual the LoRa that we create.\n",
    "\n",
    "\n",
    "Check plug in stable difussion for predict the prompt\n",
    "Autoanotation for every image look for it \n",
    "\n"
   ]
  },
  {
   "cell_type": "code",
   "execution_count": null,
   "id": "3e4616be",
   "metadata": {},
   "outputs": [],
   "source": []
  }
 ],
 "metadata": {
  "kernelspec": {
   "display_name": "Python 3 (ipykernel)",
   "language": "python",
   "name": "python3"
  },
  "language_info": {
   "codemirror_mode": {
    "name": "ipython",
    "version": 3
   },
   "file_extension": ".py",
   "mimetype": "text/x-python",
   "name": "python",
   "nbconvert_exporter": "python",
   "pygments_lexer": "ipython3",
   "version": "3.11.4"
  },
  "toc": {
   "base_numbering": 1,
   "nav_menu": {},
   "number_sections": true,
   "sideBar": true,
   "skip_h1_title": false,
   "title_cell": "Table of Contents",
   "title_sidebar": "Contents",
   "toc_cell": false,
   "toc_position": {},
   "toc_section_display": true,
   "toc_window_display": false
  }
 },
 "nbformat": 4,
 "nbformat_minor": 5
}
