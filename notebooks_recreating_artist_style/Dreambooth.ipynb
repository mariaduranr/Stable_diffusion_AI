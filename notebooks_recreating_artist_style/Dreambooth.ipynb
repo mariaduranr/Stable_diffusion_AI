{
 "cells": [
  {
   "cell_type": "markdown",
   "id": "3193fa02",
   "metadata": {},
   "source": [
    "# Dreambooth\n",
    "\n",
    "I have found a github repository that has scripts to train dreambooth models.  It will not run on lambda1 because it wants 24G vram.  It will run on the machine we have ordered.\n",
    "\n",
    "I have run it on my personal machine, and the results look very promising."
   ]
  },
  {
   "cell_type": "markdown",
   "id": "29ab7ea0",
   "metadata": {},
   "source": [
    "## Steps\n",
    "\n",
    "1. I took eight images found online of a very well known person.\n",
    "2. I used a version of the stable diffusion v1-5.\n",
    "3. I trained a new dreambooth model using v1-5 and the eight images.\n",
    "\n",
    "The script took over an hour to complete.\n",
    "\n",
    "The model was pruned down to a size of 2G.\n",
    "\n",
    "## Examples\n",
    "\n",
    "Here are four images produced with the new model and the prompt `zwx person`"
   ]
  },
  {
   "cell_type": "markdown",
   "id": "f714ee23",
   "metadata": {},
   "source": [
    "<table>\n",
    "    <tr><td><img src='../data/dt1.png'></td><td><img src='../data/dt2.png'></td></tr>\n",
    "    <tr><td><img src='../data/dt3.png'></td><td><img src='../data/dt4.png'></td></tr>\n",
    "</table>"
   ]
  },
  {
   "cell_type": "code",
   "execution_count": null,
   "id": "68f06d6e",
   "metadata": {},
   "outputs": [],
   "source": []
  }
 ],
 "metadata": {
  "hide_input": false,
  "kernelspec": {
   "display_name": "Python 3 (ipykernel)",
   "language": "python",
   "name": "python3"
  },
  "language_info": {
   "codemirror_mode": {
    "name": "ipython",
    "version": 3
   },
   "file_extension": ".py",
   "mimetype": "text/x-python",
   "name": "python",
   "nbconvert_exporter": "python",
   "pygments_lexer": "ipython3",
   "version": "3.11.4"
  },
  "toc": {
   "base_numbering": 1,
   "nav_menu": {},
   "number_sections": true,
   "sideBar": true,
   "skip_h1_title": true,
   "title_cell": "Table of Contents",
   "title_sidebar": "Contents",
   "toc_cell": false,
   "toc_position": {},
   "toc_section_display": true,
   "toc_window_display": false
  }
 },
 "nbformat": 4,
 "nbformat_minor": 5
}
