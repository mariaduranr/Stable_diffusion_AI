{
 "cells": [
  {
   "cell_type": "markdown",
   "id": "e915c465",
   "metadata": {},
   "source": [
    "# Schedule API Jobs\n",
    "\n",
    "I have finally figured out how to **schedule** jobs that use the Webui API to train Loras, and I will go over the required techniques in this notebook."
   ]
  },
  {
   "cell_type": "markdown",
   "id": "bbdb433c",
   "metadata": {},
   "source": [
    "## Environment Variables\n",
    "\n",
    "In module 3.5 we worked on editing the .bashrc files to set the environment variable WEBUI_PORT that is used in some bash scripts that interact with the API.\n",
    "\n",
    "When I wrote module 3.5 I thought that all users had their .local/bin folder in their paths, but that is not true. I had it in my path because of some installation that I had made.\n",
    "\n",
    "We need another change to the .bashrc files to put those folders in your paths.\n",
    "\n",
    "Here are the last few lines of the file .bashrc in my home directory:\n",
    "\n",
    "<img src='../data/api-both.png'>\n",
    "\n",
    "All of you need the two export lines in your .bashrc files.  Put your webui port number in where I have 7101.\n",
    "\n",
    "In place of \\\\${USER}, you can just use your login name.  So, I could have used brownj instead of \\${USER}.\n",
    "\n",
    "After adding those lines to your .bashrc file the command `source .bashrc` will set those environment variables in your current shell.  When you login in the future the .bashrc is sourced automatically, so you will not need that command.\n",
    "\n",
    "Now if you copy the scripts ping.sh, start.sh, and train_lora.sh in /opt/models/scripts folder to your .local/bin folders, you will be able to execute those scripts.\n",
    "\n",
    "Here are the commands to copy the scripts:\n",
    "\n",
    "**Commands**\n",
    "\n",
    ">cd .local/bin\n",
    ">\n",
    ">cp /opt/models/scripts/\\*.sh .\n",
    "\n",
    "Remember to include the last dot.\n",
    "\n",
    "**Note:** The next five sections are copied from module 3.5."
   ]
  },
  {
   "cell_type": "markdown",
   "id": "f885f290",
   "metadata": {},
   "source": [
    "## ping.sh\n",
    "\n",
    "This should return `API is available` if your webui API is running, and `API needs to be started` if it is not."
   ]
  },
  {
   "cell_type": "markdown",
   "id": "60732224",
   "metadata": {},
   "source": [
    "## start.sh\n",
    "\n",
    "<img src='../data/api-start.png'>\n",
    "\n",
    "* start.sh 3 starts the webui.sh with flags --api and --device-id=3\n",
    "* First call to ping said the API needs to be started. It was still starting up.\n",
    "\n",
    "Here is the script:"
   ]
  },
  {
   "cell_type": "code",
   "execution_count": 1,
   "id": "e90e8518",
   "metadata": {},
   "outputs": [
    {
     "name": "stdout",
     "output_type": "stream",
     "text": [
      "#!/bin/bash\r\n",
      "\r\n",
      "cd /home/${USER}/stable-diffusion-webui\r\n",
      "\r\n",
      "if [ $# -gt 0 ]\r\n",
      "then\r\n",
      "\tnohup ./webui.sh --api --device-id=$1 &\r\n",
      "else\r\n",
      "\tnohup ./webui.sh --api &\r\n",
      "fi\r\n",
      "\r\n",
      "echo $!>process_id\r\n"
     ]
    }
   ],
   "source": [
    "!cat ../data/start.sh"
   ]
  },
  {
   "cell_type": "markdown",
   "id": "ad14c4f7",
   "metadata": {},
   "source": [
    "The command start.sh with no number after it starts webui without the device-id flag set, so you will be put on GPU 0."
   ]
  },
  {
   "cell_type": "markdown",
   "id": "c7e8a55e",
   "metadata": {},
   "source": [
    "## train_lora.sh\n",
    "\n",
    "<img src='../data/api-train.png'>\n",
    "\n",
    "Here is the script:"
   ]
  },
  {
   "cell_type": "code",
   "execution_count": 4,
   "id": "1c40b262",
   "metadata": {},
   "outputs": [
    {
     "name": "stdout",
     "output_type": "stream",
     "text": [
      "#!/bin/bash\r\n",
      "\r\n",
      "if [ $# -lt 1 ]\r\n",
      "then\r\n",
      "\techo \"Supply your model name as an argument\"\r\n",
      "else\r\n",
      "\tmyping=\"`curl -X 'GET' --silent --output /dev/null \\\r\n",
      "\t\t--write-out '%{http_code}' \\\r\n",
      "\t\thttp://localhost:${WEBUI_PORT}/internal/ping`\"\r\n",
      "\r\n",
      "\tif [ $myping -eq 200 ]\r\n",
      "\tthen\r\n",
      "\t\techo \"Calling curl ...\"\r\n",
      "\t\turl=\"http://localhost:${WEBUI_PORT}/dreambooth/start_training?model_name=${1}&use_tx2img=true\"\r\n",
      "        \techo $url\r\n",
      "\r\n",
      "\t\tresp=\"`curl -X 'POST' --silent $url -H 'accept: application/json' -d ''`\"\r\n",
      "\t\techo \"Done with curl\"\r\n",
      "\t\techo $resp\r\n",
      "\telse\r\n",
      "\t\techo \"API needs to be started\"\r\n",
      "\tfi\r\n",
      "fi\r\n"
     ]
    }
   ],
   "source": [
    "!cat ../data/train_lora.sh"
   ]
  },
  {
   "cell_type": "markdown",
   "id": "c07709ad",
   "metadata": {},
   "source": [
    "## nohup.out\n",
    "\n",
    "The start.sh script changed to the stable-diffusion directory and started the webui with nohup.\n",
    "\n",
    "The output of the command is sent to the file nohup.out.\n",
    "\n",
    "tail -f nohup.out will show the nohup.out file, updating as the file changes.\n",
    "\n",
    "<img src='../data/api-tail.png'>"
   ]
  },
  {
   "cell_type": "markdown",
   "id": "8c7f9a68",
   "metadata": {},
   "source": [
    "## Stop Webui\n",
    "\n",
    "<img src='../data/api-stop.png'>\n",
    "\n",
    "ps -ef shows details of running processes.\n",
    "\n",
    "Pipe the output to grep and look for rows that contain launch.py.  The first one is the process we want to kill."
   ]
  },
  {
   "cell_type": "markdown",
   "id": "5636c49d",
   "metadata": {},
   "source": [
    "## Cron and Crontab\n",
    "\n",
    "Cron is a scheduling utility for linux machines, and the scheduled jobs are stored in files called crontabs.\n",
    "\n",
    "The command `crontab` allows you to view and edit your crontab files, and the command requires a flag.  The two most common flags are -l and -e:\n",
    "\n",
    ">crontab -l\n",
    "\n",
    "This command lists your crontab file.  If you have not scheduled any jobs, the output is `no crontab for user-name`.\n",
    "\n",
    ">crontab -e\n",
    "\n",
    "This command is for editing your crontab. It gives you a choice of editors, and it recommends nano as the simplest.\n",
    "\n",
    "When you start editing the crontab file has quite a few lines of comments that start with #.  In this notebook I will show you an image of my crontab file, and I didn't want to include all the comments, so I edited all but the last one out.\n",
    "\n",
    "The comment I left in the file is this:\n",
    "\n",
    ">\\# m h  dom mon dow   command\n",
    "\n",
    "There are five numbers of sets/ranges of numbers followed by the command to execute.\n",
    "\n",
    "m: minute\n",
    "\n",
    "h: hour\n",
    "\n",
    "dom: day of month\n",
    "\n",
    "mon: month\n",
    "\n",
    "dow: day of week\n",
    "\n",
    "The reason for 'day of week' is that you might want a job run Mon-Fri, but not on the weekend. The training jobs we will be scheduling are one time events, so dow will be a \\*.\n",
    "\n",
    "**Example** Here is the crontab for the root user on dive10:\n",
    "\n",
    ">0 4 * * * rsync -a /home /mnt/backup\n",
    "\n",
    "The 0 4 mean minute zero of hour 4, or 4:00 am.\n",
    "\n",
    "The three stars mean every day, every month, and every day of the week.\n",
    "\n",
    "The command is to have rsync backup the directory /home to the directory /mnt/backup.  So, every user's home directory is backed up to a second hard drive every day at 4:00 am.\n",
    "\n",
    "**Important Fact:**\n",
    "\n",
    ">When the cron daemon executes a job for you, **it does not have your environment variables**.\n",
    ">\n",
    ">This means that it does not have your path, so you need to use the complete path to most commands. The rsync command is on the very limited path available to the cron daemon, so in the example above the complete path to the rsync command is not needed.\n",
    ">\n",
    ">It also means that your environment variables, such as WEBUI_PORT, are not known, so if the command you want to execute needs that variable, and train_lora.sh does need it, then you have to supply it.\n",
    "\n",
    "Here is a screen shot of my crontab file that I used to train a lora named foobar:"
   ]
  },
  {
   "cell_type": "markdown",
   "id": "f200e40a",
   "metadata": {},
   "source": [
    "<img src='../data/cron-tab.png'>"
   ]
  },
  {
   "cell_type": "markdown",
   "id": "92f1cd77",
   "metadata": {},
   "source": [
    "**Notes:**\n",
    "\n",
    "* The command to execute is train_lora.sh, which needs the environment variable WEBUI_PORT, so I supplied that value.\n",
    "\n",
    "* The command was to be executed at 8:43 am on the 7th of December, and 'day of week' does not matter, so there is a \\*.\n",
    "* After the \\* is the complete path to my copy of the train_lora.sh script.  In addition to WEBUI_PORT, the script requires the name of the model to train, foobar in this case.\n",
    "* If I did not have anything after foobar, I would not see any out put from the command. The greater than sign > means to write the output of the command to the file cron.log in my home directory.\n",
    "\n",
    "Here is the contents of cron.log after the job was executed:\n",
    "\n",
    "<img src='../data/cron-log.png'>\n",
    "\n",
    "The script train_lora.sh, shown above in section 4, assembles the URL to execute, and then the line `echo $url` prints the assembled url. The last line is what the API returned."
   ]
  },
  {
   "cell_type": "markdown",
   "id": "ae8b06d1",
   "metadata": {},
   "source": [
    "## Next Semester\n",
    "\n",
    "We will go through this notebook next semester.  I am sending it early in case you want to try things out over the break.\n",
    "\n",
    "With any luck, d8ahazard will fix the bug in the dreambooth extension so that we can create models with the API. Right now we still need to create them with the GUI.\n",
    "\n",
    "Being able to schedule training jobs for off hours should make it possible to start training more complicated models."
   ]
  }
 ],
 "metadata": {
  "kernelspec": {
   "display_name": "Python 3 (ipykernel)",
   "language": "python",
   "name": "python3"
  },
  "language_info": {
   "codemirror_mode": {
    "name": "ipython",
    "version": 3
   },
   "file_extension": ".py",
   "mimetype": "text/x-python",
   "name": "python",
   "nbconvert_exporter": "python",
   "pygments_lexer": "ipython3",
   "version": "3.11.4"
  },
  "toc": {
   "base_numbering": 1,
   "nav_menu": {},
   "number_sections": true,
   "sideBar": true,
   "skip_h1_title": true,
   "title_cell": "Table of Contents",
   "title_sidebar": "Contents",
   "toc_cell": false,
   "toc_position": {},
   "toc_section_display": true,
   "toc_window_display": false
  }
 },
 "nbformat": 4,
 "nbformat_minor": 5
}
