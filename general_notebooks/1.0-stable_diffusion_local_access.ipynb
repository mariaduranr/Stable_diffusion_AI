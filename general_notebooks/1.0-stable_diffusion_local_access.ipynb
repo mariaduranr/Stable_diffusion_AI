{
 "cells": [
  {
   "cell_type": "markdown",
   "id": "8de97c25",
   "metadata": {},
   "source": [
    "## Introduction to Stable Diffusion"
   ]
  },
  {
   "cell_type": "markdown",
   "id": "0cc6b05c",
   "metadata": {},
   "source": [
    "**What is it?**\n",
    "    Stable Diffusion is an artificial intelligence (AI) tool for image generation that was released open source on August 22, 2022 by StabilityAI. Stable Diffusion has risen in popularity due to it being open source, because it is free, and because it can be run on an ordinary computer, and several other image generation tools have been built on top of Stable Diffusion models. \n",
    "    \n",
    "**Uses of Stable Diffusion**\n",
    "    \n",
    "* Text-to-Image Generation: Enter prompts, ideally both positive (aspects you do want) and negative (aspects you don't want), and receive a generated image. \n",
    "    * This is possible in many different styles, including realistic, semi-realistic, anime, game assets, landscapes, etc.)\n",
    "   \n",
    "    \n",
    "* Image-to-Image Generation: Use existing images as inspiration to create new images or transform them. \n",
    "    * Fix and edit images using inpainting (painting over a specific part and regenerate the image) and/or outpainting (extending an image by painting/generating outside the frame).\n",
    "    \n",
    "    \n",
    "* Create animations\n",
    "    \n",
    "Read more at: https://aituts.com/stable-diffusion-start and https://sandner.art/ultimate-guide-to-sd-15-photorealism/\n"
   ]
  },
  {
   "cell_type": "markdown",
   "id": "558ec940",
   "metadata": {},
   "source": [
    "## Accessing Stable Diffusion Web UI"
   ]
  },
  {
   "cell_type": "markdown",
   "id": "b7e8f46a",
   "metadata": {},
   "source": [
    "<font size=3> \n",
    "Once you have set up your SSH key so that you may access the Stable Diffusion web user interface (webui) that will be used for this project, you may run it on the server from your local computer. Follow these steps to connect to your local host. (Remember that you must be connected to the UNCW VPN if you want to use this when you are not connected to hawkwifi."
   ]
  },
  {
   "cell_type": "markdown",
   "id": "b42f487f",
   "metadata": {},
   "source": [
    "<font size=3> Begin with the line below, where #### is your specific port number and username is your UNCW username. (Ignore hyperlink.) \n",
    "   \n",
    "<font color=blue> ssh -L ####:localhost:#### username@lambda1.uncw.edu \n",
    "    \n",
    "<font color=black> Then enter your password when prompted.\n",
    "<img src = \"../data/ssh_tunnel.png\" width=80%>"
   ]
  },
  {
   "cell_type": "markdown",
   "id": "42b12da6",
   "metadata": {},
   "source": [
    "<font size=3> Change your directory into stable-diffusion-webui using the line below. (Remember that you can do tab completion to autofill the rest of the line once it is a unique value.) Do the next two lines:\n",
    " \n",
    "\n",
    "* <font color=blue> cd stable-diffusion-webui/\n",
    "* ./webui.sh <font color=black>\n",
    "    *  Note that it may be necessary to specify a specific GPU ID if many people are trying to use it at once. The default GPU is 0, so in order to specify a different one, do: <font color=blue> ./webui.sh --device-id # <font color=black>,  where # can be 0, 1, 2, or 3. \n",
    "\n",
    "(This will execute many lines, only some of which are shown.)\n",
    "    \n",
    "<font color=green> Perhaps we should assign each person a GPU for when we are all working at the same time? If so, maybe:\n",
    "\n",
    "* **0: Professors** (Dr. Brown and Dr. Song)\n",
    "* **1: Mentors** (Kilpatrick, Golden, Shannon, Snyder, Tito)\n",
    "* **2: Dr. Brown's pre-prac group** (Tango-Lee, Zayyad, Whitely, Grube)\n",
    "* **3: Dr. Song's pre-prac group** (Peralta-Martinez, Duran Rondon, Fitts, Dearing)\n",
    "\n",
    "        \n",
    "    \n"
   ]
  },
  {
   "cell_type": "markdown",
   "id": "7fa62862",
   "metadata": {
    "ExecuteTime": {
     "end_time": "2023-09-24T18:25:30.002040Z",
     "start_time": "2023-09-24T18:25:29.985846Z"
    }
   },
   "source": [
    "<img src = \"../data/start_webui.png\" width=80%>"
   ]
  },
  {
   "cell_type": "markdown",
   "id": "52df146d",
   "metadata": {},
   "source": [
    "<img src = \"../data/webui_ready.png\" width=80%>"
   ]
  },
  {
   "cell_type": "markdown",
   "id": "a73dbf90",
   "metadata": {},
   "source": [
    "## Run Stable Diffusion Locally"
   ]
  },
  {
   "cell_type": "markdown",
   "id": "0d08e770",
   "metadata": {},
   "source": [
    "<font size=3> Navigate to localhost:#### in your browser, where #### is your port number."
   ]
  },
  {
   "cell_type": "markdown",
   "id": "97fc7a4d",
   "metadata": {},
   "source": [
    "<img src = \"../data/localhost.png\" width=90%>"
   ]
  },
  {
   "cell_type": "markdown",
   "id": "ec6d5474",
   "metadata": {},
   "source": [
    "### Exercise 1\n",
    "<font size=3> Here is an example of a first attempt at trying to generate a dog like Stormy, pictured below on Virginia Beach 2/24/2021. \n",
    "<img src = \"../data/Stormy1.jpeg\" width=40%>"
   ]
  },
  {
   "cell_type": "markdown",
   "id": "443fe9f8",
   "metadata": {},
   "source": [
    "<font size=4> **First attempt**: <font size=3> These positive and negative prompts were provided. Everything else was kept at default values. The following picture resulted."
   ]
  },
  {
   "cell_type": "markdown",
   "id": "b468b1cb",
   "metadata": {
    "ExecuteTime": {
     "end_time": "2023-09-24T18:26:38.077082Z",
     "start_time": "2023-09-24T18:26:38.070259Z"
    }
   },
   "source": [
    "<img src = \"../data/prompt_stormy.png\" width=80%>"
   ]
  },
  {
   "cell_type": "markdown",
   "id": "3fd2a52e",
   "metadata": {},
   "source": [
    "<img src = \"../data/stormy_attempt1.png\" width=40%>"
   ]
  },
  {
   "cell_type": "markdown",
   "id": "9ed8e0f5",
   "metadata": {},
   "source": [
    "<font size=4> **Second attempt**: <font size=3> A few tweaks were made to the positive and negative prompts originally provided. Everything else was kept at default values. The following picture resulted."
   ]
  },
  {
   "cell_type": "markdown",
   "id": "8d8dd28b",
   "metadata": {},
   "source": [
    "<img src = \"../data/prompt2_stormy.png\" width=80%>"
   ]
  },
  {
   "cell_type": "markdown",
   "id": "dc4ac51b",
   "metadata": {},
   "source": [
    "<img src = \"../data/stormy_attempt2.png\" width=45%>"
   ]
  },
  {
   "cell_type": "markdown",
   "id": "e1096940",
   "metadata": {},
   "source": [
    "## Ending Session\n",
    "<font size=3> When you are done, close your browser window and return to your terminal. \n",
    "\n",
    "* Click ctrl + C to stop your connection to the webui.\n",
    "* Type exit and click enter to stop the connection to the server."
   ]
  },
  {
   "cell_type": "markdown",
   "id": "16aec6bc",
   "metadata": {},
   "source": [
    "## Steps Summary\n",
    "\n",
    "* Connect to VPN if not on campus WiFi.\n",
    "* Terminal Commands for:\n",
    "    * SSH tunnel\n",
    "    * Change directory into stable-diffusion-webui\n",
    "    * Execute ./webui.sh\n",
    "* Open a brower and navigate to your localhost port number\n",
    "    * Enter positive and negative prompts to practice generating images\n",
    "* To stop: \n",
    "    * Go back to command prompt and ctrl + C to stop your connection to the webui\n",
    "    * Exit the SSH"
   ]
  }
 ],
 "metadata": {
  "kernelspec": {
   "display_name": "Python 3 (ipykernel)",
   "language": "python",
   "name": "python3"
  },
  "language_info": {
   "codemirror_mode": {
    "name": "ipython",
    "version": 3
   },
   "file_extension": ".py",
   "mimetype": "text/x-python",
   "name": "python",
   "nbconvert_exporter": "python",
   "pygments_lexer": "ipython3",
   "version": "3.11.4"
  },
  "toc": {
   "base_numbering": 1,
   "nav_menu": {},
   "number_sections": true,
   "sideBar": true,
   "skip_h1_title": true,
   "title_cell": "Table of Contents",
   "title_sidebar": "Contents",
   "toc_cell": false,
   "toc_position": {},
   "toc_section_display": true,
   "toc_window_display": false
  }
 },
 "nbformat": 4,
 "nbformat_minor": 5
}
