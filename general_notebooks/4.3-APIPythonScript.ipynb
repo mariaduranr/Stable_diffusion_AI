{
 "cells": [
  {
   "cell_type": "markdown",
   "id": "e915c465",
   "metadata": {},
   "source": [
    "# API from Python Scripts\n",
    "\n",
    "At the end of last semester I sent module 3.6 where I talked about scheduling jobs to be run later.  At that time I was using bash scripts to call the webui API.\n",
    "\n",
    "In modules 4.0 and 4.2 we used the python package requests to interact with the webui API as well as the Civitai API.\n",
    "\n",
    "In this module I will demonstrate interacting with the webui API with python scripts."
   ]
  },
  {
   "cell_type": "markdown",
   "id": "dfd11d77",
   "metadata": {},
   "source": [
    "## Running webui API\n",
    "\n",
    "If you start the API with the command `./webui.sh --api --device-id=2`  on lambda1, then you logout of lambda1, your server process will end.\n",
    "\n",
    "The script start.sh starts the API in the background so that it continues to run after you log out of lambda1. There is also a script ping.sh that checks to see if the API is running. Some of you are setup to run those scripts, but I think some are not.\n",
    "\n",
    "**Check Setup:**\n",
    "\n",
    "* Log in to lambda1 with ssh.\n",
    "* Run the command ping.sh\n",
    "* If you get `command not found`, then I need to get you setup. Come see me or send me email, and I will take care of it.\n",
    "\n",
    "\n",
    "If ping.sh runs and return `API needs to be started`, then you can execute the command `start.sh`, and after a minute or two ping.sh will tell you that `API is available`.\n",
    "\n",
    "You can also start the API in the background with the command `nohup ./webui.sh --api --device-id=1` when you are in your stable-diffusion-webui directory. Using this command or running start.sh will run your API in the background so it will not die when you logout.\n",
    "\n",
    "**Stoppint the API:**\n",
    "\n",
    "To stop the API you need to find the ID of the process and kill it. In the screen shot below you see several commands I executed on lambda1:\n",
    "\n",
    "1. My API was running, so when I executed `ping.sh` the result was `API is available`\n",
    "\n",
    "2. I then executed the command `ps -ef | grep launch.py` and we see that my API has process ID \\3320252.  We also see that there are three other users with running APIs.\n",
    "\n",
    "3. I executed the command `kill 3320252` to stop my API\n",
    "\n",
    "4. Now `ping.sh` shows that the API needs to be started.\n",
    "\n",
    "5. Executing the `ps` command now shows the three others running, but not mine."
   ]
  },
  {
   "cell_type": "markdown",
   "id": "bbdb433c",
   "metadata": {},
   "source": [
    "<img src='../data/ping.png'>"
   ]
  },
  {
   "cell_type": "markdown",
   "id": "d7280b29",
   "metadata": {},
   "source": [
    "## Python Script\n",
    "\n",
    "Here is a simple python script:"
   ]
  },
  {
   "cell_type": "code",
   "execution_count": 4,
   "id": "7d932661",
   "metadata": {},
   "outputs": [
    {
     "name": "stdout",
     "output_type": "stream",
     "text": [
      "import requests\r\n",
      "from PIL import Image\r\n",
      "import io\r\n",
      "import base64\r\n",
      "\r\n",
      "resp = requests.post(url=f'http://localhost:7101/sdapi/v1/txt2img',\r\n",
      "                     json={'prompt':'cute austrailian shepherd puppy','batch_size':1})\r\n",
      "\r\n",
      "print('Status Code:',resp.status_code)\r\n",
      "\r\n",
      "rj = resp.json()\r\n",
      "\r\n",
      "img = Image.open(io.BytesIO(base64.b64decode(rj['images'][0].split(\",\",1)[0])))\r\n",
      "img.save('dog.png')\r\n",
      "print('image saved')\r\n"
     ]
    }
   ],
   "source": [
    "!cat ../data/test.py"
   ]
  },
  {
   "cell_type": "markdown",
   "id": "3450c3c0",
   "metadata": {},
   "source": [
    "**Note:**\n",
    "\n",
    "I executed this script from dive10.  For this to work I had to have an ssh tunnel from dive10 to lambda1.\n",
    "\n",
    "Here is the image created by the script:\n",
    "\n",
    "<img src='../data/dog.png'>"
   ]
  }
 ],
 "metadata": {
  "hide_input": false,
  "kernelspec": {
   "display_name": "Python 3 (ipykernel)",
   "language": "python",
   "name": "python3"
  },
  "language_info": {
   "codemirror_mode": {
    "name": "ipython",
    "version": 3
   },
   "file_extension": ".py",
   "mimetype": "text/x-python",
   "name": "python",
   "nbconvert_exporter": "python",
   "pygments_lexer": "ipython3",
   "version": "3.11.4"
  },
  "toc": {
   "base_numbering": 1,
   "nav_menu": {},
   "number_sections": true,
   "sideBar": true,
   "skip_h1_title": true,
   "title_cell": "Table of Contents",
   "title_sidebar": "Contents",
   "toc_cell": false,
   "toc_position": {},
   "toc_section_display": true,
   "toc_window_display": false
  }
 },
 "nbformat": 4,
 "nbformat_minor": 5
}
