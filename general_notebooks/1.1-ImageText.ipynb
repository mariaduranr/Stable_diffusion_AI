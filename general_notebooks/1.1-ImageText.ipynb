{
 "cells": [
  {
   "cell_type": "markdown",
   "id": "f8537ad7",
   "metadata": {},
   "source": [
    "# Text in Image Files\n",
    "\n",
    "In this notebook we look at several ways to read text embedded in image files of type PNG and JPEG."
   ]
  },
  {
   "cell_type": "code",
   "execution_count": 1,
   "id": "532bd858",
   "metadata": {},
   "outputs": [],
   "source": [
    "import numpy as np\n",
    "import matplotlib.pyplot as plt\n",
    "\n",
    "from PIL import Image\n",
    "from PIL.ExifTags import TAGS\n",
    "\n",
    "import exiftool"
   ]
  },
  {
   "cell_type": "markdown",
   "id": "2945f913",
   "metadata": {},
   "source": [
    "## Linux Command strings\n",
    "\n",
    "We saw an example of this command in module 1.1. Here we take another look.\n",
    "\n",
    "The strings command scans a file and looks for sequences of bytes that could be text.\n",
    "\n",
    "Here is an image I created while trying to make something that looks like Sarah's dog Stormy.\n",
    "\n",
    "<img src='../data/image.png'>\n",
    "\n",
    "The command `strings ../data/image.png` produces a great deal of output, most of it junk.  It does find useful information near the top of the output.  The command `strings ../data/image.png | head` produces all the text, but pipes the output to `head`, which shows the first ten lines."
   ]
  },
  {
   "cell_type": "code",
   "execution_count": 2,
   "id": "a7beef62",
   "metadata": {},
   "outputs": [
    {
     "name": "stdout",
     "output_type": "stream",
     "text": [
      "IHDR\r\n",
      "tEXtparameters\r\n",
      "((old dog)), mixed breed dachsund, and boykin spaniel, long hair, dark brown\r\n",
      "Steps: 20, Sampler: DPM++ 2M Karras, CFG scale: 7, Seed: 716484137, Size: 512x512, Model hash: aadddd3d75, Model: deliberate_v3, Version: v1.6.0\r\n",
      "IDATx\r\n",
      "*+3c\r\n",
      "F#h$h\r\n",
      "O@$A@\"!$\r\n",
      "TJJe*33\r\n",
      "9\"\"2\"\r\n"
     ]
    }
   ],
   "source": [
    "!strings ../data/image.png | head"
   ]
  },
  {
   "cell_type": "code",
   "execution_count": null,
   "id": "ad14773b",
   "metadata": {},
   "outputs": [],
   "source": []
  },
  {
   "cell_type": "markdown",
   "id": "2318212c",
   "metadata": {},
   "source": [
    "## PNG\n",
    "\n",
    "The PNG (Portable Network Graphics) format uses the `tEXt` marker, or tag, to hold text. After the tEXt marker there is a label, `parameters` in this case, which is followed by a null byte '\\x00'.\n",
    "\n",
    "After the null byte comes the text.\n",
    "\n",
    "In the cell below, I will read the first 300 bytes of image.png and store them in the byte array named dog_bytes."
   ]
  },
  {
   "cell_type": "code",
   "execution_count": 3,
   "id": "59b76ae3",
   "metadata": {},
   "outputs": [
    {
     "data": {
      "text/plain": [
       "b'\\x89PNG\\r\\n\\x1a\\n\\x00\\x00\\x00\\rIHDR\\x00\\x00\\x02\\x00\\x00\\x00\\x02\\x00\\x08\\x02\\x00\\x00\\x00{\\x1aC\\xad\\x00\\x00\\x00\\xe8tEXtparameters\\x00((old dog)), mixed breed dachsund, and boykin spaniel, long hair, dark brown\\nSteps: 20, Sampler: DPM++ 2M Karras, CFG scale: 7, Seed: 716484137, Size: 512x512, Model hash: aadddd3d75, Model: deliberate_v3, Version: v1.6.0\\xdb[\\x07\\xe3\\x00\\x01\\x00\\x00IDATx\\x9cd\\xfdY\\xb7dir\\x1d\\x06\\xeemv\\x8e'"
      ]
     },
     "execution_count": 3,
     "metadata": {},
     "output_type": "execute_result"
    }
   ],
   "source": [
    "with open('../data/image.png','rb') as file:\n",
    "    dog_bytes = file.read(300)\n",
    "    \n",
    "dog_bytes"
   ]
  },
  {
   "cell_type": "markdown",
   "id": "bae175c6",
   "metadata": {},
   "source": [
    "The tag tEXt starts at the 37th byte. You can slice a byte array just as you would a string or list. Here are bytes 0 through 36 of dog_bytes."
   ]
  },
  {
   "cell_type": "code",
   "execution_count": 8,
   "id": "56cd8604",
   "metadata": {},
   "outputs": [
    {
     "data": {
      "text/plain": [
       "b'\\x89PNG\\r\\n\\x1a\\n\\x00\\x00\\x00\\rIHDR\\x00\\x00\\x02\\x00\\x00\\x00\\x02\\x00\\x08\\x02\\x00\\x00\\x00{\\x1aC\\xad\\x00\\x00\\x00\\xe8'"
      ]
     },
     "execution_count": 8,
     "metadata": {},
     "output_type": "execute_result"
    }
   ],
   "source": [
    "dog_bytes[:37]"
   ]
  },
  {
   "cell_type": "markdown",
   "id": "fb6fe572",
   "metadata": {},
   "source": [
    "Look at the four bytes before tEXt: `\\x00\\x00\\x00\\xe8 = 14*16+8 = 232`. You can have python do that arithmetic for you:"
   ]
  },
  {
   "cell_type": "code",
   "execution_count": 19,
   "id": "7384c81d",
   "metadata": {},
   "outputs": [
    {
     "data": {
      "text/plain": [
       "232"
      ]
     },
     "execution_count": 19,
     "metadata": {},
     "output_type": "execute_result"
    }
   ],
   "source": [
    "0x000000e8"
   ]
  },
  {
   "cell_type": "markdown",
   "id": "aed029b9",
   "metadata": {},
   "source": [
    "232+4 is the length of the tEXt section. To check this, look at the slice that starts at byte 37 and ends before 37+232+4 .  I am not sure why the +4 is needed, but it is!"
   ]
  },
  {
   "cell_type": "code",
   "execution_count": 27,
   "id": "fb0faefc",
   "metadata": {},
   "outputs": [
    {
     "data": {
      "text/plain": [
       "b'tEXtparameters\\x00((old dog)), mixed breed dachsund, and boykin spaniel, long hair, dark brown\\nSteps: 20, Sampler: DPM++ 2M Karras, CFG scale: 7, Seed: 716484137, Size: 512x512, Model hash: aadddd3d75, Model: deliberate_v3, Version: v1.6.0'"
      ]
     },
     "execution_count": 27,
     "metadata": {},
     "output_type": "execute_result"
    }
   ],
   "source": [
    "dog_bytes[37:37+232+4]"
   ]
  },
  {
   "cell_type": "markdown",
   "id": "939caf16",
   "metadata": {},
   "source": [
    "Here is the part of the PNG specification that describes the tEXt chunk:\n",
    "\n",
    "https://www.w3.org/TR/png-3/#11tEXt"
   ]
  },
  {
   "cell_type": "markdown",
   "id": "4a55fb87",
   "metadata": {},
   "source": [
    "### Exercise\n",
    "\n",
    "Read the first 500 bytes of the image at the path defined below and store it in a variable. Find the length of the tEXt chunk and use a slice to extract just the tEXt chunk."
   ]
  },
  {
   "cell_type": "code",
   "execution_count": 9,
   "id": "90992720",
   "metadata": {},
   "outputs": [],
   "source": [
    "path = '../data/00002-430620326.png'"
   ]
  },
  {
   "cell_type": "markdown",
   "id": "3436dab2",
   "metadata": {},
   "source": [
    "Here is the image at that path:\n",
    "\n",
    "<img src='../data/00002-430620326.png' width=500>"
   ]
  },
  {
   "cell_type": "code",
   "execution_count": 7,
   "id": "1840b5e3",
   "metadata": {},
   "outputs": [
    {
     "name": "stdout",
     "output_type": "stream",
     "text": [
      "IHDR\r\n",
      "tEXtparameters\r\n",
      "mj, cinematic close up photo of an ethereal neural network organism, divine woman, anatomical face, ((biomechanical details))\r\n",
      "Negative prompt: [deformed | disfigured], poorly drawn, [bad : wrong] anatomy, [extra | missing | floating | disconnected] limb, (mutated hands and fingers), blurry\r\n",
      "Steps: 20, Sampler: DPM++ 2M Karras, CFG scale: 7, Seed: 430620326, Size: 768x1024, Model hash: aadddd3d75, Model: deliberate_v3, Version: v1.6.0\r\n",
      "IDATx\r\n",
      "73]D\r\n",
      "RJJQB2\r\n",
      "<Uum\r\n",
      "ovC@om\r\n"
     ]
    }
   ],
   "source": [
    "!strings ../data/00002-430620326.png | head"
   ]
  },
  {
   "cell_type": "code",
   "execution_count": 13,
   "id": "29378dbe",
   "metadata": {},
   "outputs": [
    {
     "data": {
      "text/plain": [
       "b'\\x89PNG\\r\\n\\x1a\\n\\x00\\x00\\x00\\rIHDR\\x00\\x00\\x03\\x00\\x00\\x00\\x04\\x00\\x08\\x02\\x00\\x00\\x00\\xd9D\\xa9W\\x00\\x00\\x01\\xbftEXtparameters\\x00mj, cinematic close up photo of an ethereal neural network organism, divine woman, anatomical face, ((biomechanical details))\\nNegative prompt: [deformed | disfigured], poorly drawn, [bad : wrong] anatomy, [extra | missing | floating | disconnected] limb, (mutated hands and fingers), blurry\\nSteps: 20, Sampler: DPM++ 2M Karras, CFG scale: 7, Seed: 430620326, Size: 768x1024, Model hash: aadddd3d75, Model: deliberate_v3, Version: v1.6.0\\xa0\\x97\\xcb\\xb3\\x00\\x01\\x00\\x00IDAT'"
      ]
     },
     "execution_count": 13,
     "metadata": {},
     "output_type": "execute_result"
    }
   ],
   "source": [
    "with open(path,'rb') as file:\n",
    "    womenmag_bytes = file.read(500)\n",
    "    \n",
    "womenmag_bytes"
   ]
  },
  {
   "cell_type": "code",
   "execution_count": 14,
   "id": "59a12b5e",
   "metadata": {},
   "outputs": [
    {
     "data": {
      "text/plain": [
       "447"
      ]
     },
     "execution_count": 14,
     "metadata": {},
     "output_type": "execute_result"
    }
   ],
   "source": [
    "0x0001bf"
   ]
  },
  {
   "cell_type": "code",
   "execution_count": 16,
   "id": "2f102817",
   "metadata": {},
   "outputs": [
    {
     "data": {
      "text/plain": [
       "b'tEXtparameters\\x00mj, cinematic close up photo of an ethereal neural network organism, divine woman, anatomical face, ((biomechanical details))\\nNegative prompt: [deformed | disfigured], poorly drawn, [bad : wrong] anatomy, [extra | missing | floating | disconnected] limb, (mutated hands and fingers), blurry\\nSteps: 20, Sampler: DPM++ 2M Karras, CFG scale: 7, Seed: 430620326, Size: 768x1024, Model hash: aadddd3d75, Model: deliberate_v3, Version: v1.6.0'"
      ]
     },
     "execution_count": 16,
     "metadata": {},
     "output_type": "execute_result"
    }
   ],
   "source": [
    "womenmag_bytes[37:37+447+4]"
   ]
  },
  {
   "cell_type": "markdown",
   "id": "bd1a5377",
   "metadata": {},
   "source": [
    "## JPEG\n",
    "\n",
    "JPEG files are not as easy to deal with as PNG files.\n",
    "\n",
    "The file ../data/ape.jpeg is an image I found at civitai.com\n",
    "\n",
    "<img src='../data/ape.jpeg' width=350>"
   ]
  },
  {
   "cell_type": "markdown",
   "id": "995d1a17",
   "metadata": {},
   "source": [
    "JPEG supports exif, Exchangeable Image File, format.\n",
    "\n",
    "I imported the Image package from PIL at the top of the notebook, and it has a function call _getexif().\n",
    "\n",
    "Here is what that function finds about the ape.jpeg image:"
   ]
  },
  {
   "cell_type": "code",
   "execution_count": 28,
   "id": "59b56db8",
   "metadata": {},
   "outputs": [
    {
     "data": {
      "text/plain": [
       "dict"
      ]
     },
     "execution_count": 28,
     "metadata": {},
     "output_type": "execute_result"
    }
   ],
   "source": [
    "ape = Image.open('../data/ape.jpeg')\n",
    "\n",
    "ape_exif = ape._getexif()\n",
    "type(ape_exif)"
   ]
  },
  {
   "cell_type": "code",
   "execution_count": 3,
   "id": "14f73185",
   "metadata": {},
   "outputs": [
    {
     "data": {
      "text/plain": [
       "{34665: 26,\n",
       " 37510: b'UNICODE\\x00\\x00(\\x00(\\x00(\\x00m\\x00o\\x00n\\x00k\\x00e\\x00y\\x00 \\x00(\\x00(\\x00i\\x00n\\x00 \\x00c\\x00o\\x00l\\x00o\\x00r\\x00f\\x00u\\x00l\\x00 \\x00s\\x00u\\x00i\\x00t\\x00)\\x00)\\x00 \\x00s\\x00i\\x00t\\x00t\\x00i\\x00n\\x00g\\x00 \\x00o\\x00n\\x00 \\x00t\\x00r\\x00e\\x00e\\x00 \\x00b\\x00r\\x00a\\x00n\\x00c\\x00h\\x00,\\x00 \\x00d\\x00a\\x00r\\x00k\\x00 \\x00m\\x00y\\x00s\\x00t\\x00e\\x00r\\x00i\\x00o\\x00u\\x00s\\x00 \\x00f\\x00o\\x00r\\x00e\\x00s\\x00t\\x00,\\x00 \\x00d\\x00r\\x00a\\x00m\\x00a\\x00t\\x00i\\x00c\\x00 \\x00l\\x00i\\x00g\\x00h\\x00t\\x00i\\x00n\\x00g\\x00,\\x00 \\x00d\\x00a\\x00r\\x00k\\x00 \\x00p\\x00h\\x00o\\x00t\\x00o\\x00,\\x00 \\x00n\\x00i\\x00g\\x00h\\x00t\\x00)\\x00)\\x00)\\x00,\\x00,\\x00 \\x00b\\x00e\\x00s\\x00t\\x00 \\x00q\\x00u\\x00a\\x00l\\x00i\\x00t\\x00y\\x00,\\x00 \\x00u\\x00l\\x00t\\x00r\\x00a\\x00 \\x00h\\x00i\\x00g\\x00h\\x00 \\x00r\\x00e\\x00s\\x00,\\x00 \\x00(\\x00p\\x00h\\x00o\\x00t\\x00o\\x00r\\x00e\\x00a\\x00l\\x00i\\x00s\\x00t\\x00i\\x00c\\x00:\\x001\\x00.\\x004\\x00)\\x00,\\x00,\\x00 \\x00h\\x00i\\x00g\\x00h\\x00 \\x00r\\x00e\\x00s\\x00o\\x00l\\x00u\\x00t\\x00i\\x00o\\x00n\\x00,\\x00 \\x00d\\x00e\\x00t\\x00a\\x00i\\x00l\\x00e\\x00d\\x00,\\x00 \\x00r\\x00a\\x00w\\x00 \\x00p\\x00h\\x00o\\x00t\\x00o\\x00,\\x00 \\x00s\\x00h\\x00a\\x00r\\x00p\\x00 \\x00r\\x00e\\x00,\\x00 \\x00b\\x00y\\x00 \\x00l\\x00e\\x00e\\x00 \\x00j\\x00e\\x00f\\x00f\\x00r\\x00i\\x00e\\x00s\\x00 \\x00n\\x00i\\x00k\\x00o\\x00n\\x00 \\x00d\\x008\\x005\\x000\\x00 \\x00f\\x00i\\x00l\\x00m\\x00 \\x00s\\x00t\\x00o\\x00c\\x00k\\x00 \\x00p\\x00h\\x00o\\x00t\\x00o\\x00g\\x00r\\x00a\\x00p\\x00h\\x00 \\x004\\x00 \\x00k\\x00o\\x00d\\x00a\\x00k\\x00 \\x00p\\x00o\\x00r\\x00t\\x00r\\x00a\\x00 \\x004\\x000\\x000\\x00 \\x00c\\x00a\\x00m\\x00e\\x00r\\x00a\\x00 \\x00f\\x001\\x00.\\x006\\x00 \\x00l\\x00e\\x00n\\x00s\\x00 \\x00r\\x00i\\x00c\\x00h\\x00 \\x00c\\x00o\\x00l\\x00o\\x00r\\x00s\\x00 \\x00h\\x00y\\x00p\\x00e\\x00r\\x00 \\x00r\\x00e\\x00a\\x00l\\x00i\\x00s\\x00t\\x00i\\x00c\\x00 \\x00l\\x00i\\x00f\\x00e\\x00l\\x00i\\x00k\\x00e\\x00 \\x00t\\x00e\\x00x\\x00t\\x00u\\x00r\\x00e\\x00 \\x00d\\x00r\\x00a\\x00m\\x00a\\x00t\\x00i\\x00c\\x00 \\x00l\\x00i\\x00g\\x00h\\x00t\\x00i\\x00n\\x00g\\x00 \\x00u\\x00n\\x00r\\x00e\\x00a\\x00l\\x00e\\x00n\\x00g\\x00i\\x00n\\x00e\\x00 \\x00t\\x00r\\x00e\\x00n\\x00d\\x00i\\x00n\\x00g\\x00 \\x00o\\x00n\\x00 \\x00a\\x00r\\x00t\\x00s\\x00t\\x00a\\x00t\\x00i\\x00o\\x00n\\x00 \\x00c\\x00i\\x00n\\x00e\\x00s\\x00t\\x00i\\x00l\\x00l\\x00 \\x008\\x000\\x000\\x00,\\x00,\\x00 \\x00p\\x00h\\x00o\\x00t\\x00o\\x00r\\x00e\\x00a\\x00l\\x00i\\x00s\\x00t\\x00i\\x00c\\x00,\\x00 \\x00p\\x00h\\x00o\\x00t\\x00o\\x00,\\x00 \\x00m\\x00a\\x00s\\x00t\\x00e\\x00r\\x00p\\x00i\\x00e\\x00c\\x00e\\x00,\\x00 \\x00r\\x00e\\x00a\\x00l\\x00i\\x00s\\x00t\\x00i\\x00c\\x00,\\x00 \\x00r\\x00e\\x00a\\x00l\\x00i\\x00s\\x00m\\x00,\\x00 \\x00p\\x00h\\x00o\\x00t\\x00o\\x00r\\x00e\\x00a\\x00l\\x00i\\x00s\\x00m\\x00,\\x00 \\x00h\\x00i\\x00g\\x00h\\x00 \\x00c\\x00o\\x00n\\x00t\\x00r\\x00a\\x00s\\x00t\\x00,\\x00 \\x00p\\x00h\\x00o\\x00t\\x00o\\x00r\\x00e\\x00a\\x00l\\x00i\\x00s\\x00t\\x00i\\x00c\\x00 \\x00d\\x00i\\x00g\\x00i\\x00t\\x00a\\x00l\\x00 \\x00a\\x00r\\x00t\\x00 \\x00t\\x00r\\x00e\\x00n\\x00d\\x00i\\x00n\\x00g\\x00 \\x00o\\x00n\\x00 \\x00A\\x00r\\x00t\\x00s\\x00t\\x00a\\x00t\\x00i\\x00o\\x00n\\x00 \\x008\\x00k\\x00 \\x00H\\x00D\\x00 \\x00h\\x00i\\x00g\\x00h\\x00 \\x00d\\x00e\\x00f\\x00i\\x00n\\x00i\\x00t\\x00i\\x00o\\x00n\\x00 \\x00d\\x00e\\x00t\\x00a\\x00i\\x00l\\x00e\\x00d\\x00 \\x00r\\x00e\\x00a\\x00l\\x00i\\x00s\\x00t\\x00i\\x00c\\x00,\\x00 \\x00d\\x00e\\x00t\\x00a\\x00i\\x00l\\x00e\\x00d\\x00,\\x00 \\x00s\\x00k\\x00i\\x00n\\x00 \\x00t\\x00e\\x00x\\x00t\\x00u\\x00r\\x00e\\x00,\\x00 \\x00h\\x00y\\x00p\\x00e\\x00r\\x00 \\x00d\\x00e\\x00t\\x00a\\x00i\\x00l\\x00e\\x00d\\x00,\\x00 \\x00r\\x00e\\x00a\\x00l\\x00i\\x00s\\x00t\\x00i\\x00c\\x00 \\x00s\\x00k\\x00i\\x00n\\x00 \\x00t\\x00e\\x00x\\x00t\\x00u\\x00r\\x00e\\x00,\\x00 \\x00a\\x00r\\x00m\\x00a\\x00t\\x00u\\x00r\\x00e\\x00,\\x00 \\x00(\\x00(\\x00H\\x00D\\x00,\\x00 \\x00c\\x00l\\x00e\\x00a\\x00r\\x00,\\x00 \\x00s\\x00h\\x00a\\x00r\\x00p\\x00,\\x00 \\x00i\\x00n\\x00 \\x00f\\x00o\\x00c\\x00u\\x00s\\x00)\\x00)\\x00,\\x00 \\x00(\\x00(\\x00(\\x00n\\x00a\\x00t\\x00i\\x00o\\x00n\\x00a\\x00l\\x00 \\x00g\\x00e\\x00o\\x00g\\x00r\\x00a\\x00p\\x00h\\x00i\\x00c\\x00)\\x00)\\x00)\\x00\\n\\x00N\\x00e\\x00g\\x00a\\x00t\\x00i\\x00v\\x00e\\x00 \\x00p\\x00r\\x00o\\x00m\\x00p\\x00t\\x00:\\x00 \\x00(\\x00(\\x00(\\x00p\\x00e\\x00r\\x00s\\x00o\\x00n\\x00)\\x00)\\x00)\\x00,\\x00 \\x00(\\x00(\\x00(\\x00p\\x00o\\x00r\\x00t\\x00r\\x00a\\x00i\\x00t\\x00)\\x00)\\x00)\\x00,\\x00 \\x00E\\x00a\\x00s\\x00y\\x00N\\x00e\\x00g\\x00a\\x00t\\x00i\\x00v\\x00e\\x00,\\x00 \\x00p\\x00a\\x00i\\x00n\\x00t\\x00i\\x00n\\x00g\\x00s\\x00,\\x00 \\x00s\\x00k\\x00e\\x00t\\x00c\\x00h\\x00e\\x00s\\x00,\\x00 \\x00(\\x00w\\x00o\\x00r\\x00s\\x00t\\x00 \\x00q\\x00u\\x00a\\x00l\\x00i\\x00t\\x00y\\x00:\\x002\\x00)\\x00,\\x00 \\x00(\\x00l\\x00o\\x00w\\x00 \\x00q\\x00u\\x00a\\x00l\\x00i\\x00t\\x00y\\x00:\\x002\\x00)\\x00,\\x00 \\x00(\\x00n\\x00o\\x00r\\x00m\\x00a\\x00l\\x00 \\x00q\\x00u\\x00a\\x00l\\x00i\\x00t\\x00y\\x00:\\x002\\x00)\\x00,\\x00 \\x00l\\x00o\\x00w\\x00r\\x00e\\x00s\\x00,\\x00 \\x00n\\x00o\\x00r\\x00m\\x00a\\x00l\\x00 \\x00q\\x00u\\x00a\\x00l\\x00i\\x00t\\x00y\\x00,\\x00 \\x00(\\x00(\\x00m\\x00o\\x00n\\x00o\\x00c\\x00h\\x00r\\x00o\\x00m\\x00e\\x00)\\x00)\\x00,\\x00 \\x00(\\x00(\\x00g\\x00r\\x00a\\x00y\\x00s\\x00c\\x00a\\x00l\\x00e\\x00)\\x00)\\x00,\\x00 \\x00s\\x00k\\x00i\\x00n\\x00 \\x00s\\x00p\\x00o\\x00t\\x00s\\x00,\\x00 \\x00a\\x00c\\x00n\\x00e\\x00s\\x00,\\x00 \\x00s\\x00k\\x00i\\x00n\\x00 \\x00b\\x00l\\x00e\\x00m\\x00i\\x00s\\x00h\\x00e\\x00s\\x00,\\x00 \\x00a\\x00g\\x00e\\x00 \\x00s\\x00p\\x00o\\x00t\\x00,\\x00 \\x00g\\x00l\\x00a\\x00n\\x00s\\x00,\\x00e\\x00x\\x00t\\x00r\\x00a\\x00 \\x00f\\x00i\\x00n\\x00g\\x00e\\x00r\\x00s\\x00,\\x00f\\x00e\\x00w\\x00e\\x00r\\x00 \\x00f\\x00i\\x00n\\x00g\\x00e\\x00r\\x00s\\x00,\\x00,\\x00 \\x00\"\\x00(\\x00u\\x00g\\x00l\\x00y\\x00 \\x00e\\x00y\\x00e\\x00s\\x00,\\x00 \\x00d\\x00e\\x00f\\x00o\\x00r\\x00m\\x00e\\x00d\\x00 \\x00i\\x00r\\x00i\\x00s\\x00,\\x00 \\x00d\\x00e\\x00f\\x00o\\x00r\\x00m\\x00e\\x00d\\x00 \\x00p\\x00u\\x00p\\x00i\\x00l\\x00s\\x00,\\x00 \\x00f\\x00u\\x00s\\x00e\\x00d\\x00 \\x00l\\x00i\\x00p\\x00s\\x00 \\x00a\\x00n\\x00d\\x00 \\x00t\\x00e\\x00e\\x00t\\x00h\\x00:\\x001\\x00.\\x002\\x00)\\x00,\\x00 \\x00(\\x00u\\x00n\\x00-\\x00d\\x00e\\x00t\\x00a\\x00i\\x00l\\x00e\\x00d\\x00 \\x00s\\x00k\\x00i\\x00n\\x00,\\x00 \\x00s\\x00e\\x00m\\x00i\\x00-\\x00r\\x00e\\x00a\\x00l\\x00i\\x00s\\x00t\\x00i\\x00c\\x00,\\x00 \\x00c\\x00g\\x00i\\x00,\\x00 \\x003\\x00d\\x00,\\x00 \\x00r\\x00e\\x00n\\x00d\\x00e\\x00r\\x00,\\x00 \\x00s\\x00k\\x00e\\x00t\\x00c\\x00h\\x00,\\x00 \\x00c\\x00a\\x00r\\x00t\\x00o\\x00o\\x00n\\x00,\\x00 \\x00d\\x00r\\x00a\\x00w\\x00i\\x00n\\x00g\\x00,\\x00 \\x00a\\x00n\\x00i\\x00m\\x00e\\x00:\\x001\\x00.\\x002\\x00)\\x00,\\x00 \\x00t\\x00e\\x00x\\x00t\\x00,\\x00 \\x00c\\x00l\\x00o\\x00s\\x00e\\x00 \\x00u\\x00p\\x00,\\x00 \\x00c\\x00r\\x00o\\x00p\\x00p\\x00e\\x00d\\x00,\\x00 \\x00o\\x00u\\x00t\\x00 \\x00o\\x00f\\x00 \\x00f\\x00r\\x00a\\x00m\\x00e\\x00,\\x00 \\x00w\\x00o\\x00r\\x00s\\x00t\\x00 \\x00q\\x00u\\x00a\\x00l\\x00i\\x00t\\x00y\\x00,\\x00 \\x00l\\x00o\\x00w\\x00 \\x00q\\x00u\\x00a\\x00l\\x00i\\x00t\\x00y\\x00,\\x00 \\x00j\\x00p\\x00e\\x00g\\x00 \\x00a\\x00r\\x00t\\x00i\\x00f\\x00a\\x00c\\x00t\\x00s\\x00,\\x00 \\x00u\\x00g\\x00l\\x00y\\x00,\\x00 \\x00d\\x00u\\x00p\\x00l\\x00i\\x00c\\x00a\\x00t\\x00e\\x00,\\x00 \\x00m\\x00o\\x00r\\x00b\\x00i\\x00d\\x00,\\x00 \\x00m\\x00u\\x00t\\x00i\\x00l\\x00a\\x00t\\x00e\\x00d\\x00,\\x00 \\x00e\\x00x\\x00t\\x00r\\x00a\\x00 \\x00f\\x00i\\x00n\\x00g\\x00e\\x00r\\x00s\\x00,\\x00 \\x00m\\x00u\\x00t\\x00a\\x00t\\x00e\\x00d\\x00 \\x00h\\x00a\\x00n\\x00d\\x00s\\x00,\\x00 \\x00p\\x00o\\x00o\\x00r\\x00l\\x00y\\x00 \\x00d\\x00r\\x00a\\x00w\\x00n\\x00 \\x00h\\x00a\\x00n\\x00d\\x00s\\x00,\\x00 \\x00p\\x00o\\x00o\\x00r\\x00l\\x00y\\x00 \\x00d\\x00r\\x00a\\x00w\\x00n\\x00 \\x00f\\x00a\\x00c\\x00e\\x00,\\x00 \\x00m\\x00u\\x00t\\x00a\\x00t\\x00i\\x00o\\x00n\\x00,\\x00 \\x00d\\x00e\\x00f\\x00o\\x00r\\x00m\\x00e\\x00d\\x00,\\x00 \\x00b\\x00l\\x00u\\x00r\\x00r\\x00y\\x00,\\x00 \\x00d\\x00e\\x00h\\x00y\\x00d\\x00r\\x00a\\x00t\\x00e\\x00d\\x00,\\x00 \\x00b\\x00a\\x00d\\x00 \\x00a\\x00n\\x00a\\x00t\\x00o\\x00m\\x00y\\x00,\\x00 \\x00b\\x00a\\x00d\\x00 \\x00p\\x00r\\x00o\\x00p\\x00o\\x00r\\x00t\\x00i\\x00o\\x00n\\x00s\\x00,\\x00 \\x00e\\x00x\\x00t\\x00r\\x00a\\x00 \\x00l\\x00i\\x00m\\x00b\\x00s\\x00,\\x00 \\x00c\\x00l\\x00o\\x00n\\x00e\\x00d\\x00 \\x00f\\x00a\\x00c\\x00e\\x00,\\x00 \\x00d\\x00i\\x00s\\x00f\\x00i\\x00g\\x00u\\x00r\\x00e\\x00d\\x00,\\x00 \\x00g\\x00r\\x00o\\x00s\\x00s\\x00 \\x00p\\x00r\\x00o\\x00p\\x00o\\x00r\\x00t\\x00i\\x00o\\x00n\\x00s\\x00,\\x00 \\x00m\\x00a\\x00l\\x00f\\x00o\\x00r\\x00m\\x00e\\x00d\\x00 \\x00l\\x00i\\x00m\\x00b\\x00s\\x00,\\x00 \\x00m\\x00i\\x00s\\x00s\\x00i\\x00n\\x00g\\x00 \\x00a\\x00r\\x00m\\x00s\\x00,\\x00 \\x00m\\x00i\\x00s\\x00s\\x00i\\x00n\\x00g\\x00 \\x00l\\x00e\\x00g\\x00s\\x00,\\x00 \\x00e\\x00x\\x00t\\x00r\\x00a\\x00 \\x00a\\x00r\\x00m\\x00s\\x00,\\x00 \\x00e\\x00x\\x00t\\x00r\\x00a\\x00 \\x00l\\x00e\\x00g\\x00s\\x00,\\x00 \\x00f\\x00u\\x00s\\x00e\\x00d\\x00 \\x00f\\x00i\\x00n\\x00g\\x00e\\x00r\\x00s\\x00,\\x00 \\x00t\\x00o\\x00o\\x00 \\x00m\\x00a\\x00n\\x00y\\x00 \\x00f\\x00i\\x00n\\x00g\\x00e\\x00r\\x00s\\x00,\\x00 \\x00l\\x00o\\x00n\\x00g\\x00 \\x00n\\x00e\\x00c\\x00k\\x00\"\\x00,\\x00 \\x00(\\x00(\\x003\\x00d\\x00,\\x00 \\x00c\\x00a\\x00r\\x00t\\x00o\\x00o\\x00n\\x00,\\x00 \\x00a\\x00n\\x00i\\x00m\\x00e\\x00,\\x00 \\x00s\\x00k\\x00e\\x00t\\x00c\\x00h\\x00e\\x00s\\x00)\\x00)\\x00,\\x00 \\x00(\\x00w\\x00o\\x00r\\x00s\\x00t\\x00 \\x00q\\x00u\\x00a\\x00l\\x00i\\x00t\\x00y\\x00:\\x002\\x00)\\x00,\\x00 \\x00(\\x00l\\x00o\\x00w\\x00 \\x00q\\x00u\\x00a\\x00l\\x00i\\x00t\\x00y\\x00:\\x002\\x00)\\x00,\\x00 \\x00(\\x00n\\x00o\\x00r\\x00m\\x00a\\x00l\\x00 \\x00q\\x00u\\x00a\\x00l\\x00i\\x00t\\x00y\\x00:\\x002\\x00)\\x00,\\x00 \\x00l\\x00o\\x00w\\x00r\\x00e\\x00s\\x00,\\x00 \\x00n\\x00o\\x00r\\x00m\\x00a\\x00l\\x00 \\x00q\\x00u\\x00a\\x00l\\x00i\\x00t\\x00y\\x00,\\x00 \\x00(\\x00(\\x00m\\x00o\\x00n\\x00o\\x00c\\x00h\\x00r\\x00o\\x00m\\x00e\\x00)\\x00)\\x00,\\x00 \\x00(\\x00(\\x00g\\x00r\\x00a\\x00y\\x00s\\x00c\\x00a\\x00l\\x00e\\x00)\\x00)\\x00,\\x00 \\x00b\\x00a\\x00d\\x00 \\x00a\\x00n\\x00a\\x00t\\x00o\\x00m\\x00y\\x00,\\x00 \\x00o\\x00u\\x00t\\x00 \\x00o\\x00f\\x00 \\x00v\\x00i\\x00e\\x00w\\x00,\\x00 \\x00c\\x00u\\x00t\\x00 \\x00o\\x00f\\x00f\\x00,\\x00 \\x00u\\x00g\\x00l\\x00y\\x00,\\x00 \\x00d\\x00e\\x00f\\x00o\\x00r\\x00m\\x00e\\x00d\\x00,\\x00 \\x00m\\x00u\\x00t\\x00a\\x00t\\x00e\\x00d\\x00,\\x00 \\x00(\\x00(\\x00y\\x00o\\x00u\\x00n\\x00g\\x00)\\x00)\\x00,\\x00 \\x00(\\x00(\\x00b\\x00l\\x00u\\x00r\\x00r\\x00y\\x00,\\x00 \\x00o\\x00u\\x00t\\x00 \\x00o\\x00f\\x00 \\x00f\\x00o\\x00c\\x00u\\x00s\\x00)\\x00)\\x00\\n\\x00S\\x00t\\x00e\\x00p\\x00s\\x00:\\x00 \\x002\\x000\\x00,\\x00 \\x00S\\x00a\\x00m\\x00p\\x00l\\x00e\\x00r\\x00:\\x00 \\x00D\\x00P\\x00M\\x00+\\x00+\\x00 \\x002\\x00S\\x00 \\x00a\\x00 \\x00K\\x00a\\x00r\\x00r\\x00a\\x00s\\x00,\\x00 \\x00C\\x00F\\x00G\\x00 \\x00s\\x00c\\x00a\\x00l\\x00e\\x00:\\x00 \\x008\\x00,\\x00 \\x00S\\x00e\\x00e\\x00d\\x00:\\x00 \\x003\\x003\\x005\\x009\\x004\\x001\\x004\\x004\\x003\\x005\\x00,\\x00 \\x00F\\x00a\\x00c\\x00e\\x00 \\x00r\\x00e\\x00s\\x00t\\x00o\\x00r\\x00a\\x00t\\x00i\\x00o\\x00n\\x00:\\x00 \\x00G\\x00F\\x00P\\x00G\\x00A\\x00N\\x00,\\x00 \\x00S\\x00i\\x00z\\x00e\\x00:\\x00 \\x004\\x008\\x000\\x00x\\x009\\x006\\x000\\x00,\\x00 \\x00M\\x00o\\x00d\\x00e\\x00l\\x00 \\x00h\\x00a\\x00s\\x00h\\x00:\\x00 \\x00c\\x006\\x001\\x00d\\x00f\\x006\\x001\\x003\\x000\\x00b\\x00,\\x00 \\x00M\\x00o\\x00d\\x00e\\x00l\\x00:\\x00 \\x00L\\x00e\\x00v\\x00e\\x00l\\x004\\x00_\\x00v\\x005\\x00.\\x000\\x00_\\x00f\\x00p\\x001\\x006\\x00_\\x00b\\x00a\\x00k\\x00e\\x00d\\x00_\\x00v\\x00a\\x00e'}"
      ]
     },
     "execution_count": 3,
     "metadata": {},
     "output_type": "execute_result"
    }
   ],
   "source": [
    "ape_exif"
   ]
  },
  {
   "cell_type": "markdown",
   "id": "975e3902",
   "metadata": {},
   "source": [
    "The dictionary ape_exif has two items and the keys are 34665 and 37510.\n",
    "\n",
    "The 37510 chunk is the User Comment section.\n",
    "\n",
    "http://www.digitalvitral.com/wiki/exif/fields\n",
    "\n",
    "Look at the first 150 bytes of the user comment section."
   ]
  },
  {
   "cell_type": "code",
   "execution_count": 29,
   "id": "1b4ff729",
   "metadata": {},
   "outputs": [
    {
     "data": {
      "text/plain": [
       "b'UNICODE\\x00\\x00(\\x00(\\x00(\\x00m\\x00o\\x00n\\x00k\\x00e\\x00y\\x00 \\x00(\\x00(\\x00i\\x00n\\x00 \\x00c\\x00o\\x00l\\x00o\\x00r\\x00f\\x00u\\x00l\\x00 \\x00s\\x00u\\x00i\\x00t\\x00)\\x00)\\x00 \\x00s\\x00i\\x00t\\x00t\\x00i\\x00n\\x00g\\x00 \\x00o\\x00n\\x00 \\x00t\\x00r\\x00e\\x00e\\x00 \\x00b\\x00r\\x00a\\x00n\\x00c\\x00h\\x00,\\x00 \\x00d\\x00a\\x00r\\x00k\\x00 \\x00m\\x00y\\x00s\\x00t\\x00e\\x00r\\x00i\\x00o\\x00u\\x00s\\x00 '"
      ]
     },
     "execution_count": 29,
     "metadata": {},
     "output_type": "execute_result"
    }
   ],
   "source": [
    "ape_exif[37510][:150]"
   ]
  },
  {
   "cell_type": "markdown",
   "id": "eebecdac",
   "metadata": {},
   "source": [
    "When python shows a byte array, it shows printable bytes as they would print, and other bytes as \\x followed by two hex digits."
   ]
  },
  {
   "cell_type": "code",
   "execution_count": 33,
   "id": "eb755c05",
   "metadata": {},
   "outputs": [
    {
     "data": {
      "text/plain": [
       "b'\\x00m\\x00o\\x00n\\x00k\\x00e\\x00y'"
      ]
     },
     "execution_count": 33,
     "metadata": {},
     "output_type": "execute_result"
    }
   ],
   "source": [
    "ape_exif[37510][14:26]"
   ]
  },
  {
   "cell_type": "markdown",
   "id": "f8993e32",
   "metadata": {},
   "source": [
    "This is text UTF-16 encoded, which means every character is represented as two bytes.\n",
    "\n",
    "Bytes 14 and 15 are shown as `\\x00m`, or the character `m`.\n",
    "\n",
    "The first 8 bytes are not UTF-16, they are just UNICODE followed by the null byte."
   ]
  },
  {
   "cell_type": "code",
   "execution_count": 36,
   "id": "43af7aab",
   "metadata": {},
   "outputs": [
    {
     "data": {
      "text/plain": [
       "'(((monkey ((in colorful suit)) sitting on tree branch, dark mysterious forest, dramatic lighting, dark photo, night))),, best quality, ultra high res, (photorealistic:1.4),, high resolution, detailed, raw photo, sharp re, by lee jeffries nikon d850 film stock photograph 4 kodak portra 400 camera f1.6 lens rich colors hyper realistic lifelike texture dramatic lighting unrealengine trending on artstation cinestill 800,, photorealistic, photo, masterpiece, realistic, realism, photorealism, high contrast, photorealistic digital art trending on Artstation 8k HD high definition detailed realistic, detailed, skin texture, hyper detailed, realistic skin texture, armature, ((HD, clear, sharp, in focus)), (((national geographic)))\\nNegative prompt: (((person))), (((portrait))), EasyNegative, paintings, sketches, (worst quality:2), (low quality:2), (normal quality:2), lowres, normal quality, ((monochrome)), ((grayscale)), skin spots, acnes, skin blemishes, age spot, glans,extra fingers,fewer fingers,, \"(ugly eyes, deformed iris, deformed pupils, fused lips and teeth:1.2), (un-detailed skin, semi-realistic, cgi, 3d, render, sketch, cartoon, drawing, anime:1.2), text, close up, cropped, out of frame, worst quality, low quality, jpeg artifacts, ugly, duplicate, morbid, mutilated, extra fingers, mutated hands, poorly drawn hands, poorly drawn face, mutation, deformed, blurry, dehydrated, bad anatomy, bad proportions, extra limbs, cloned face, disfigured, gross proportions, malformed limbs, missing arms, missing legs, extra arms, extra legs, fused fingers, too many fingers, long neck\", ((3d, cartoon, anime, sketches)), (worst quality:2), (low quality:2), (normal quality:2), lowres, normal quality, ((monochrome)), ((grayscale)), bad anatomy, out of view, cut off, ugly, deformed, mutated, ((young)), ((blurry, out of focus))\\nSteps: 20, Sampler: DPM++ 2S a Karras, CFG scale: 8, Seed: 3359414435, Face restoration: GFPGAN, Size: 480x960, Model hash: c61df6130b, Model: Level4_v5.0_fp16_baked_vae'"
      ]
     },
     "execution_count": 36,
     "metadata": {},
     "output_type": "execute_result"
    }
   ],
   "source": [
    "ape_exif[37510][8:].decode('utf-16-be')"
   ]
  },
  {
   "cell_type": "markdown",
   "id": "cb5b937f",
   "metadata": {},
   "source": [
    "Why is there `-be` after `utf-16`?  It stands for BIG ENDIAN, as opposed to LITTLE ENDIAN.\n"
   ]
  },
  {
   "cell_type": "markdown",
   "id": "e94a14d8",
   "metadata": {},
   "source": [
    "### Exercise\n",
    "\n",
    "The image file ../data/wolf.jpeg is another image I fould at civitai.com.\n",
    "\n",
    "Here is the image:\n",
    "\n",
    "<img src='../data/wolf.jpeg' width=600>"
   ]
  },
  {
   "cell_type": "markdown",
   "id": "dba68721",
   "metadata": {},
   "source": [
    "Extract the user comment chunk from the wolf image."
   ]
  },
  {
   "cell_type": "code",
   "execution_count": 19,
   "id": "2b92f509",
   "metadata": {},
   "outputs": [
    {
     "data": {
      "text/plain": [
       "dict"
      ]
     },
     "execution_count": 19,
     "metadata": {},
     "output_type": "execute_result"
    }
   ],
   "source": [
    "ape1 = Image.open('../data/wolf.jpeg')\n",
    "\n",
    "ape1_exif = ape1._getexif()\n",
    "type(ape1_exif)"
   ]
  },
  {
   "cell_type": "code",
   "execution_count": 20,
   "id": "4f1b2fd4",
   "metadata": {
    "scrolled": true
   },
   "outputs": [
    {
     "data": {
      "text/plain": [
       "{34665: 26,\n",
       " 37510: b'UNICODE\\x00\\x00w\\x00o\\x00l\\x00f\\x00 \\x00w\\x00e\\x00a\\x00r\\x00i\\x00n\\x00g\\x00 \\x00s\\x00h\\x00e\\x00e\\x00p\\x00 \\x00c\\x00o\\x00s\\x00t\\x00u\\x00m\\x00e\\x00,\\x00 \\x00m\\x00a\\x00n\\x00y\\x00 \\x00s\\x00h\\x00e\\x00e\\x00p\\x00 \\x00i\\x00n\\x00 \\x00t\\x00h\\x00e\\x00 \\x00b\\x00a\\x00c\\x00k\\x00g\\x00r\\x00o\\x00u\\x00n\\x00d\\x00,\\x00 \\x00o\\x00u\\x00t\\x00d\\x00o\\x00o\\x00r\\x00s\\x00,\\x00 \\x00f\\x00a\\x00r\\x00m\\x00,\\x00 \\x00m\\x00a\\x00s\\x00t\\x00e\\x00r\\x00p\\x00i\\x00e\\x00c\\x00e\\x00,\\x00 \\x00b\\x00e\\x00s\\x00t\\x00 \\x00q\\x00u\\x00a\\x00l\\x00i\\x00t\\x00y\\x00,\\x00 \\x00f\\x00u\\x00n\\x00n\\x00y\\x00\\n\\x00N\\x00e\\x00g\\x00a\\x00t\\x00i\\x00v\\x00e\\x00 \\x00p\\x00r\\x00o\\x00m\\x00p\\x00t\\x00:\\x00 \\x00l\\x00o\\x00w\\x00 \\x00q\\x00u\\x00a\\x00l\\x00i\\x00t\\x00y\\x00,\\x00 \\x00w\\x00o\\x00r\\x00s\\x00t\\x00 \\x00q\\x00u\\x00a\\x00l\\x00i\\x00t\\x00y\\x00,\\x00 \\x00m\\x00o\\x00n\\x00o\\x00c\\x00h\\x00r\\x00o\\x00m\\x00e\\x00,\\x00 \\x00l\\x00o\\x00w\\x00r\\x00e\\x00s\\x00,\\x00 \\x00p\\x00a\\x00i\\x00n\\x00t\\x00i\\x00n\\x00g\\x00,\\x00 \\x00c\\x00r\\x00a\\x00y\\x00o\\x00n\\x00,\\x00 \\x00s\\x00k\\x00e\\x00t\\x00c\\x00h\\x00,\\x00 \\x00g\\x00r\\x00a\\x00p\\x00h\\x00i\\x00t\\x00e\\x00,\\x00 \\x00i\\x00m\\x00p\\x00r\\x00e\\x00s\\x00s\\x00i\\x00o\\x00n\\x00i\\x00s\\x00t\\x00,\\x00 \\x00n\\x00o\\x00i\\x00s\\x00y\\x00,\\x00 \\x00b\\x00l\\x00u\\x00r\\x00r\\x00y\\x00,\\x00 \\x00l\\x00o\\x00n\\x00g\\x00 \\x00n\\x00e\\x00c\\x00k\\x00,\\x00 \\x00l\\x00o\\x00n\\x00g\\x00 \\x00t\\x00o\\x00r\\x00s\\x00o\\x00,\\x00 \\x00b\\x00a\\x00d\\x00 \\x00a\\x00n\\x00a\\x00t\\x00o\\x00m\\x00y\\x00,\\x00 \\x00C\\x00r\\x00o\\x00p\\x00p\\x00e\\x00d\\x00,\\x00 \\x00F\\x00a\\x00k\\x00e\\x00\\n\\x00S\\x00t\\x00e\\x00p\\x00s\\x00:\\x00 \\x002\\x000\\x00,\\x00 \\x00S\\x00a\\x00m\\x00p\\x00l\\x00e\\x00r\\x00:\\x00 \\x00E\\x00u\\x00l\\x00e\\x00r\\x00 \\x00a\\x00,\\x00 \\x00C\\x00F\\x00G\\x00 \\x00s\\x00c\\x00a\\x00l\\x00e\\x00:\\x00 \\x007\\x00,\\x00 \\x00S\\x00e\\x00e\\x00d\\x00:\\x00 \\x001\\x000\\x000\\x005\\x004\\x002\\x008\\x002\\x003\\x006\\x00,\\x00 \\x00F\\x00a\\x00c\\x00e\\x00 \\x00r\\x00e\\x00s\\x00t\\x00o\\x00r\\x00a\\x00t\\x00i\\x00o\\x00n\\x00:\\x00 \\x00C\\x00o\\x00d\\x00e\\x00F\\x00o\\x00r\\x00m\\x00e\\x00r\\x00,\\x00 \\x00S\\x00i\\x00z\\x00e\\x00:\\x00 \\x001\\x000\\x002\\x004\\x00x\\x001\\x000\\x002\\x004\\x00,\\x00 \\x00M\\x00o\\x00d\\x00e\\x00l\\x00 \\x00h\\x00a\\x00s\\x00h\\x00:\\x00 \\x003\\x001\\x00e\\x003\\x005\\x00c\\x008\\x000\\x00f\\x00c\\x00,\\x00 \\x00M\\x00o\\x00d\\x00e\\x00l\\x00:\\x00 \\x00s\\x00d\\x00_\\x00x\\x00l\\x00_\\x00b\\x00a\\x00s\\x00e\\x00_\\x001\\x00.\\x000\\x00,\\x00 \\x00V\\x00e\\x00r\\x00s\\x00i\\x00o\\x00n\\x00:\\x00 \\x00v\\x001\\x00.\\x005\\x00.\\x001'}"
      ]
     },
     "execution_count": 20,
     "metadata": {},
     "output_type": "execute_result"
    }
   ],
   "source": [
    "ape1_exif"
   ]
  },
  {
   "cell_type": "code",
   "execution_count": 28,
   "id": "576c3fcb",
   "metadata": {},
   "outputs": [
    {
     "data": {
      "text/plain": [
       "'wolf wearing sheep costume, many sheep in the background, outdoors, farm, masterpiece, best quality, funny\\nNegative prompt: low quality, worst quality, monochrome, lowres, painting, crayon, sketch, graphite, impressionist, noisy, blurry, long neck, long torso, bad anatomy, Cropped, Fake\\nSteps: 20, Sampler: Euler a, CFG scale: 7, Seed: 1005428236, Face restoration: CodeFormer, Size: 1024x1024, Model hash: 31e35c80fc, Model: sd_xl_base_1.0, Version: v1.5.1'"
      ]
     },
     "execution_count": 28,
     "metadata": {},
     "output_type": "execute_result"
    }
   ],
   "source": [
    "ape1_exif[37510][8:].decode('utf-16-be')"
   ]
  },
  {
   "cell_type": "markdown",
   "id": "fb0b5506",
   "metadata": {},
   "source": [
    "## exiftool\n",
    "\n",
    "The package exiftool is one that I found just yesterday, and it appears to be a really good package for extracting exif data from images.\n",
    "\n",
    "Note that you can use a list containing multiple image files."
   ]
  },
  {
   "cell_type": "code",
   "execution_count": 42,
   "id": "8127f48c",
   "metadata": {},
   "outputs": [
    {
     "data": {
      "text/plain": [
       "(list, 1, dict)"
      ]
     },
     "execution_count": 42,
     "metadata": {},
     "output_type": "execute_result"
    }
   ],
   "source": [
    "files = ['../data/ape.jpeg']\n",
    "\n",
    "with exiftool.ExifToolHelper() as et:\n",
    "    meta = et.get_metadata(files)\n",
    "\n",
    "type(meta),len(meta),type(meta[0])"
   ]
  },
  {
   "cell_type": "code",
   "execution_count": 44,
   "id": "9d4aaf29",
   "metadata": {},
   "outputs": [
    {
     "name": "stdout",
     "output_type": "stream",
     "text": [
      "SourceFile ../data/ape.jpeg \n",
      "\n",
      "ExifTool:ExifToolVersion 12.6 \n",
      "\n",
      "File:FileName ape.jpeg \n",
      "\n",
      "File:Directory ../data \n",
      "\n",
      "File:FileSize 65041 \n",
      "\n",
      "File:FileModifyDate 2023:09:26 15:04:34-04:00 \n",
      "\n",
      "File:FileAccessDate 2023:10:09 15:46:47-04:00 \n",
      "\n",
      "File:FileInodeChangeDate 2023:09:26 15:04:34-04:00 \n",
      "\n",
      "File:FilePermissions 100644 \n",
      "\n",
      "File:FileType JPEG \n",
      "\n",
      "File:FileTypeExtension JPG \n",
      "\n",
      "File:MIMEType image/jpeg \n",
      "\n",
      "File:ExifByteOrder II \n",
      "\n",
      "File:ImageWidth 480 \n",
      "\n",
      "File:ImageHeight 960 \n",
      "\n",
      "File:EncodingProcess 0 \n",
      "\n",
      "File:BitsPerSample 8 \n",
      "\n",
      "File:ColorComponents 3 \n",
      "\n",
      "File:YCbCrSubSampling 2 2 \n",
      "\n",
      "JFIF:JFIFVersion 1 1 \n",
      "\n",
      "JFIF:ResolutionUnit 1 \n",
      "\n",
      "JFIF:XResolution 96 \n",
      "\n",
      "JFIF:YResolution 96 \n",
      "\n",
      "EXIF:UserComment (((monkey ((in colorful suit)) sitting on tree branch, dark mysterious forest, dramatic lighting, dark photo, night))),, best quality, ultra high res, (photorealistic:1.4),, high resolution, detailed, raw photo, sharp re, by lee jeffries nikon d850 film stock photograph 4 kodak portra 400 camera f1.6 lens rich colors hyper realistic lifelike texture dramatic lighting unrealengine trending on artstation cinestill 800,, photorealistic, photo, masterpiece, realistic, realism, photorealism, high contrast, photorealistic digital art trending on Artstation 8k HD high definition detailed realistic, detailed, skin texture, hyper detailed, realistic skin texture, armature, ((HD, clear, sharp, in focus)), (((national geographic)))\n",
      "Negative prompt: (((person))), (((portrait))), EasyNegative, paintings, sketches, (worst quality:2), (low quality:2), (normal quality:2), lowres, normal quality, ((monochrome)), ((grayscale)), skin spots, acnes, skin blemishes, age spot, glans,extra fingers,fewer fingers,, \"(ugly eyes, deformed iris, deformed pupils, fused lips and teeth:1.2), (un-detailed skin, semi-realistic, cgi, 3d, render, sketch, cartoon, drawing, anime:1.2), text, close up, cropped, out of frame, worst quality, low quality, jpeg artifacts, ugly, duplicate, morbid, mutilated, extra fingers, mutated hands, poorly drawn hands, poorly drawn face, mutation, deformed, blurry, dehydrated, bad anatomy, bad proportions, extra limbs, cloned face, disfigured, gross proportions, malformed limbs, missing arms, missing legs, extra arms, extra legs, fused fingers, too many fingers, long neck\", ((3d, cartoon, anime, sketches)), (worst quality:2), (low quality:2), (normal quality:2), lowres, normal quality, ((monochrome)), ((grayscale)), bad anatomy, out of view, cut off, ugly, deformed, mutated, ((young)), ((blurry, out of focus))\n",
      "Steps: 20, Sampler: DPM++ 2S a Karras, CFG scale: 8, Seed: 3359414435, Face restoration: GFPGAN, Size: 480x960, Model hash: c61df6130b, Model: Level4_v5.0_fp16_baked_vae \n",
      "\n",
      "Composite:ImageSize 480 960 \n",
      "\n",
      "Composite:Megapixels 0.4608 \n",
      "\n"
     ]
    }
   ],
   "source": [
    "for k,v in meta[0].items():\n",
    "    print(k,v,'\\n')"
   ]
  },
  {
   "cell_type": "markdown",
   "id": "aef5c629",
   "metadata": {},
   "source": [
    "All of the images I have gotten from civitai.com have information about how the image was created.\n",
    "\n",
    "### Exercise\n",
    "\n",
    "Here is a cat image I got from civitai.com.  The path is ../data/cat.png\n",
    "\n",
    "<img src='../data/cat.png' width=600>"
   ]
  },
  {
   "cell_type": "code",
   "execution_count": 30,
   "id": "3d2054bb",
   "metadata": {},
   "outputs": [
    {
     "name": "stdout",
     "output_type": "stream",
     "text": [
      "SourceFile ../data/cat.png \n",
      "\n",
      "ExifTool:ExifToolVersion 12.6 \n",
      "\n",
      "ExifTool:Warning Install Compress::Zlib to read compressed information \n",
      "\n",
      "File:FileName cat.png \n",
      "\n",
      "File:Directory ../data \n",
      "\n",
      "File:FileSize 2677646 \n",
      "\n",
      "File:FileModifyDate 2023:10:26 10:21:53-04:00 \n",
      "\n",
      "File:FileAccessDate 2023:10:31 11:04:24-04:00 \n",
      "\n",
      "File:FileInodeChangeDate 2023:10:26 10:22:14-04:00 \n",
      "\n",
      "File:FilePermissions 100644 \n",
      "\n",
      "File:FileType PNG \n",
      "\n",
      "File:FileTypeExtension PNG \n",
      "\n",
      "File:MIMEType image/png \n",
      "\n",
      "File:ExifByteOrder II \n",
      "\n",
      "PNG:ImageWidth 1024 \n",
      "\n",
      "PNG:ImageHeight 1536 \n",
      "\n",
      "PNG:BitDepth 8 \n",
      "\n",
      "PNG:ColorType 6 \n",
      "\n",
      "PNG:Compression 0 \n",
      "\n",
      "PNG:Filter 0 \n",
      "\n",
      "PNG:Interlace 0 \n",
      "\n",
      "PNG:PixelsPerUnitX 3780 \n",
      "\n",
      "PNG:PixelsPerUnitY 3780 \n",
      "\n",
      "PNG:PixelUnits 1 \n",
      "\n",
      "PNG:Parameters (Binary data 674 bytes, use -b option to extract) \n",
      "\n",
      "EXIF:UserComment a cute kitten made out of metal, (cyborg:1.1), ([tail | detailed wire]:1.3), (intricate details), hdr, (intricate details, hyperdetailed:1.2), cinematic shot, vignette, centered\n",
      "\n",
      "Negative prompt: (worst quality, low quality, normal quality, lowres, low details, oversaturated, undersaturated, overexposed, underexposed, grayscale, bw, bad photo, bad photography, bad art:1.4), (watermark, signature, text font, username, error, logo, words, letters, digits, autograph, trademark, name:1.2), (blur, blurry, grainy), morbid, ugly, asymmetrical, mutated malformed, mutilated, poorly lit, bad shadow, draft, cropped, out of frame, cut off, censored, jpeg artifacts, out of focus, glitch, duplicate, (airbrushed, cartoon, anime, semi-realistic, cgi, render, blender, digital art, manga, amateur:1.3), (3D ,3D Game, 3D Game Scene, 3D Character:1.1), (bad hands, bad anatomy, bad body, bad face, bad teeth, bad arms, bad legs, deformities:1.3)\n",
      "\n",
      "Steps: 30, Sampler: DPM++ 2M Karras, CFG scale: 5.5, Seed: 3115824003, Size: 512x768, Model: Juggernaut_Aftermath_NinjaFix, Denoising strength: 0.35, CFG Rescale phi: 0, Hires upscale: 2, Hires steps: 15, Hires upscaler: 4x-UltraSharp, Version: v1.5.0 \n",
      "\n",
      "Composite:ImageSize 1024 1536 \n",
      "\n",
      "Composite:Megapixels 1.572864 \n",
      "\n"
     ]
    }
   ],
   "source": [
    "with exiftool.ExifToolHelper() as et:\n",
    "    meta = et.get_metadata(['../data/cat.png'])\n",
    "    \n",
    "for k,v in meta[0].items():\n",
    "    print(k,v,'\\n')"
   ]
  },
  {
   "cell_type": "markdown",
   "id": "a0cbcb8b",
   "metadata": {},
   "source": [
    "Use exiftool to extract information about the cat image."
   ]
  },
  {
   "cell_type": "markdown",
   "id": "8ea694e1",
   "metadata": {},
   "source": [
    "Bella\n",
    "\n",
    "<img src='../data/bella.JPG' width=600>"
   ]
  },
  {
   "cell_type": "code",
   "execution_count": 3,
   "id": "d271c8ef",
   "metadata": {},
   "outputs": [
    {
     "name": "stdout",
     "output_type": "stream",
     "text": [
      "SourceFile ../data/bella.JPG \n",
      "\n",
      "ExifTool:ExifToolVersion 12.6 \n",
      "\n",
      "File:FileName bella.JPG \n",
      "\n",
      "File:Directory ../data \n",
      "\n",
      "File:FileSize 3907329 \n",
      "\n",
      "File:FileModifyDate 2023:10:09 15:53:15-04:00 \n",
      "\n",
      "File:FileAccessDate 2023:10:09 15:54:39-04:00 \n",
      "\n",
      "File:FileInodeChangeDate 2023:10:09 15:53:15-04:00 \n",
      "\n",
      "File:FilePermissions 100644 \n",
      "\n",
      "File:FileType JPEG \n",
      "\n",
      "File:FileTypeExtension JPG \n",
      "\n",
      "File:MIMEType image/jpeg \n",
      "\n",
      "File:ExifByteOrder MM \n",
      "\n",
      "File:ImageWidth 4032 \n",
      "\n",
      "File:ImageHeight 3024 \n",
      "\n",
      "File:EncodingProcess 0 \n",
      "\n",
      "File:BitsPerSample 8 \n",
      "\n",
      "File:ColorComponents 3 \n",
      "\n",
      "File:YCbCrSubSampling 2 2 \n",
      "\n",
      "EXIF:Make Apple \n",
      "\n",
      "EXIF:Model iPhone SE (3rd generation) \n",
      "\n",
      "EXIF:Orientation 6 \n",
      "\n",
      "EXIF:XResolution 72 \n",
      "\n",
      "EXIF:YResolution 72 \n",
      "\n",
      "EXIF:ResolutionUnit 2 \n",
      "\n",
      "EXIF:Software 16.5 \n",
      "\n",
      "EXIF:ModifyDate 2023:09:09 21:49:20 \n",
      "\n",
      "EXIF:HostComputer iPhone SE (3rd generation) \n",
      "\n",
      "EXIF:YCbCrPositioning 1 \n",
      "\n",
      "EXIF:ExposureTime 0.04166666667 \n",
      "\n",
      "EXIF:FNumber 1.8 \n",
      "\n",
      "EXIF:ExposureProgram 2 \n",
      "\n",
      "EXIF:ISO 640 \n",
      "\n",
      "EXIF:ExifVersion 0232 \n",
      "\n",
      "EXIF:DateTimeOriginal 2023:09:09 21:49:20 \n",
      "\n",
      "EXIF:CreateDate 2023:09:09 21:49:20 \n",
      "\n",
      "EXIF:OffsetTime -04:00 \n",
      "\n",
      "EXIF:OffsetTimeOriginal -04:00 \n",
      "\n",
      "EXIF:OffsetTimeDigitized -04:00 \n",
      "\n",
      "EXIF:ComponentsConfiguration 1 2 3 0 \n",
      "\n",
      "EXIF:ShutterSpeedValue 0.0416500000053092 \n",
      "\n",
      "EXIF:ApertureValue 1.79999999993144 \n",
      "\n",
      "EXIF:BrightnessValue -2.034238287 \n",
      "\n",
      "EXIF:ExposureCompensation 0 \n",
      "\n",
      "EXIF:MeteringMode 5 \n",
      "\n",
      "EXIF:Flash 16 \n",
      "\n",
      "EXIF:FocalLength 3.99 \n",
      "\n",
      "EXIF:SubjectArea 2013 1511 2217 1330 \n",
      "\n",
      "EXIF:SubSecTimeOriginal 371 \n",
      "\n",
      "EXIF:SubSecTimeDigitized 371 \n",
      "\n",
      "EXIF:FlashpixVersion 0100 \n",
      "\n",
      "EXIF:ColorSpace 65535 \n",
      "\n",
      "EXIF:ExifImageWidth 4032 \n",
      "\n",
      "EXIF:ExifImageHeight 3024 \n",
      "\n",
      "EXIF:SensingMethod 2 \n",
      "\n",
      "EXIF:SceneType 1 \n",
      "\n",
      "EXIF:ExposureMode 0 \n",
      "\n",
      "EXIF:WhiteBalance 0 \n",
      "\n",
      "EXIF:FocalLengthIn35mmFormat 28 \n",
      "\n",
      "EXIF:SceneCaptureType 0 \n",
      "\n",
      "EXIF:LensInfo 3.99000001 3.99000001 1.8 1.8 \n",
      "\n",
      "EXIF:LensMake Apple \n",
      "\n",
      "EXIF:LensModel iPhone SE (3rd generation) back camera 3.99mm f/1.8 \n",
      "\n",
      "EXIF:CompositeImage 2 \n",
      "\n",
      "EXIF:GPSLatitudeRef N \n",
      "\n",
      "EXIF:GPSLatitude 34.2393 \n",
      "\n",
      "EXIF:GPSLongitudeRef W \n",
      "\n",
      "EXIF:GPSLongitude 77.9256666666667 \n",
      "\n",
      "EXIF:GPSAltitudeRef 0 \n",
      "\n",
      "EXIF:GPSAltitude 7.524482726 \n",
      "\n",
      "EXIF:GPSSpeedRef K \n",
      "\n",
      "EXIF:GPSSpeed 0.9300000072 \n",
      "\n",
      "EXIF:GPSImgDirectionRef T \n",
      "\n",
      "EXIF:GPSImgDirection 236.7454375 \n",
      "\n",
      "EXIF:GPSDestBearingRef T \n",
      "\n",
      "EXIF:GPSDestBearing 236.7454375 \n",
      "\n",
      "EXIF:GPSHPositioningError 17.84310157 \n",
      "\n",
      "EXIF:Compression 6 \n",
      "\n",
      "EXIF:ThumbnailOffset 2738 \n",
      "\n",
      "EXIF:ThumbnailLength 8123 \n",
      "\n",
      "EXIF:ThumbnailImage (Binary data 8123 bytes, use -b option to extract) \n",
      "\n",
      "MakerNotes:MakerNoteVersion 14 \n",
      "\n",
      "MakerNotes:RunTimeFlags 1 \n",
      "\n",
      "MakerNotes:RunTimeValue 85156166365750 \n",
      "\n",
      "MakerNotes:RunTimeScale 1000000000 \n",
      "\n",
      "MakerNotes:RunTimeEpoch 0 \n",
      "\n",
      "MakerNotes:AEStable 1 \n",
      "\n",
      "MakerNotes:AETarget 81 \n",
      "\n",
      "MakerNotes:AEAverage 87 \n",
      "\n",
      "MakerNotes:AFStable 1 \n",
      "\n",
      "MakerNotes:AccelerationVector 0.07133936136 -0.8612871164 -0.4873352351 \n",
      "\n",
      "MakerNotes:FocusDistanceRange 2.7265625 0.921875 \n",
      "\n",
      "MakerNotes:LivePhotoVideoIndex 1111498752 \n",
      "\n",
      "MakerNotes:HDRHeadroom 0 \n",
      "\n",
      "MakerNotes:SignalToNoiseRatio 20.7390976 \n",
      "\n",
      "MakerNotes:FocusPosition 118 \n",
      "\n",
      "MakerNotes:SemanticStyle {0=1,1=-0.5,2=0,3=3} \n",
      "\n",
      "MakerNotes:FrontFacingCamera 0 \n",
      "\n",
      "ICC_Profile:ProfileCMMType appl \n",
      "\n",
      "ICC_Profile:ProfileVersion 1024 \n",
      "\n",
      "ICC_Profile:ProfileClass mntr \n",
      "\n",
      "ICC_Profile:ColorSpaceData RGB  \n",
      "\n",
      "ICC_Profile:ProfileConnectionSpace XYZ  \n",
      "\n",
      "ICC_Profile:ProfileDateTime 2022:01:01 00:00:00 \n",
      "\n",
      "ICC_Profile:ProfileFileSignature acsp \n",
      "\n",
      "ICC_Profile:PrimaryPlatform APPL \n",
      "\n",
      "ICC_Profile:CMMFlags 0 \n",
      "\n",
      "ICC_Profile:DeviceManufacturer APPL \n",
      "\n",
      "ICC_Profile:DeviceModel  \n",
      "\n",
      "ICC_Profile:DeviceAttributes 0 0 \n",
      "\n",
      "ICC_Profile:RenderingIntent 0 \n",
      "\n",
      "ICC_Profile:ConnectionSpaceIlluminant 0.9642 1 0.82491 \n",
      "\n",
      "ICC_Profile:ProfileCreator appl \n",
      "\n",
      "ICC_Profile:ProfileID 236 253 163 142 56 133 71 195 109 180 189 79 122 218 24 47 \n",
      "\n",
      "ICC_Profile:ProfileDescription Display P3 \n",
      "\n",
      "ICC_Profile:ProfileCopyright Copyright Apple Inc., 2022 \n",
      "\n",
      "ICC_Profile:MediaWhitePoint 0.96419 1 0.82489 \n",
      "\n",
      "ICC_Profile:RedMatrixColumn 0.51512 0.2412 -0.00105 \n",
      "\n",
      "ICC_Profile:GreenMatrixColumn 0.29198 0.69225 0.04189 \n",
      "\n",
      "ICC_Profile:BlueMatrixColumn 0.1571 0.06657 0.78407 \n",
      "\n",
      "ICC_Profile:RedTRC (Binary data 32 bytes, use -b option to extract) \n",
      "\n",
      "ICC_Profile:ChromaticAdaptation 1.04788 0.02292 -0.0502 0.02959 0.99048 -0.01706 -0.00923 0.01508 0.75168 \n",
      "\n",
      "ICC_Profile:BlueTRC (Binary data 32 bytes, use -b option to extract) \n",
      "\n",
      "ICC_Profile:GreenTRC (Binary data 32 bytes, use -b option to extract) \n",
      "\n",
      "Composite:RunTimeSincePowerUp 85156.16636575 \n",
      "\n",
      "Composite:Aperture 1.8 \n",
      "\n",
      "Composite:ImageSize 4032 3024 \n",
      "\n",
      "Composite:Megapixels 12.192768 \n",
      "\n",
      "Composite:ScaleFactor35efl 7.01754385964912 \n",
      "\n",
      "Composite:ShutterSpeed 0.04166666667 \n",
      "\n",
      "Composite:SubSecCreateDate 2023:09:09 21:49:20.371-04:00 \n",
      "\n",
      "Composite:SubSecDateTimeOriginal 2023:09:09 21:49:20.371-04:00 \n",
      "\n",
      "Composite:SubSecModifyDate 2023:09:09 21:49:20-04:00 \n",
      "\n",
      "Composite:GPSAltitude 7.524482726 \n",
      "\n",
      "Composite:GPSLatitude 34.2393 \n",
      "\n",
      "Composite:GPSLongitude -77.9256666666667 \n",
      "\n",
      "Composite:CircleOfConfusion 0.00428159213961349 \n",
      "\n",
      "Composite:FOV 65.4705078447874 \n",
      "\n",
      "Composite:FocalLength35efl 28 \n",
      "\n",
      "Composite:GPSPosition 34.2393 -77.9256666666667 \n",
      "\n",
      "Composite:HyperfocalDistance 2.06570353074275 \n",
      "\n",
      "Composite:LightValue 3.602884408603 \n",
      "\n",
      "Composite:LensID iPhone SE (3rd generation) back camera 3.99mm f/1.8 \n",
      "\n"
     ]
    }
   ],
   "source": [
    "with exiftool.ExifToolHelper() as et:\n",
    "    meta = et.get_metadata(['../data/bella.JPG'])\n",
    "    \n",
    "for k,v in meta[0].items():\n",
    "    print(k,v,'\\n')"
   ]
  },
  {
   "cell_type": "code",
   "execution_count": null,
   "id": "43d67f58",
   "metadata": {},
   "outputs": [],
   "source": []
  }
 ],
 "metadata": {
  "kernelspec": {
   "display_name": "Python 3 (ipykernel)",
   "language": "python",
   "name": "python3"
  },
  "language_info": {
   "codemirror_mode": {
    "name": "ipython",
    "version": 3
   },
   "file_extension": ".py",
   "mimetype": "text/x-python",
   "name": "python",
   "nbconvert_exporter": "python",
   "pygments_lexer": "ipython3",
   "version": "3.11.4"
  },
  "toc": {
   "base_numbering": 1,
   "nav_menu": {},
   "number_sections": true,
   "sideBar": true,
   "skip_h1_title": true,
   "title_cell": "Table of Contents",
   "title_sidebar": "Contents",
   "toc_cell": false,
   "toc_position": {
    "height": "calc(100% - 180px)",
    "left": "10px",
    "top": "150px",
    "width": "214.8px"
   },
   "toc_section_display": true,
   "toc_window_display": true
  }
 },
 "nbformat": 4,
 "nbformat_minor": 5
}
