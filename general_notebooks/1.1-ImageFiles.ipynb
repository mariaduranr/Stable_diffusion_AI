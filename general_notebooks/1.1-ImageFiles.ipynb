{
 "cells": [
  {
   "cell_type": "markdown",
   "id": "4247b258",
   "metadata": {},
   "source": [
    "# Image Files\n",
    "\n",
    "There are many ways to embed text in image files. Steganography is the practice of **hiding** messages in objects such as image files.  You can also embed text that is not hidden, but you have to know how to find it."
   ]
  },
  {
   "cell_type": "markdown",
   "id": "031c043d",
   "metadata": {},
   "source": [
    "## Bytes\n",
    "\n",
    "Every file is a sequence of **bytes**. A byte is a sequence of eight zeros and ones called **bits**.\n",
    "\n",
    "A byte can be associated with a number, and that number can be written in baxe 10, out standard number system. People who work with bytes often express that number in other bases, namely base 2 or base 16.\n",
    "\n",
    "### Base 2\n",
    "\n",
    "**Examples**\n",
    "\n",
    ">$13 = 8+4+1 = 2^3+2^2+2^0 = 1\\cdot 2^3+1\\cdot 2^2+0\\cdot 2^1+1\\cdot 2^0 = 1101\\ base\\ 2$\n",
    "\n",
    ">$18=16+2=2^4+2^1=1\\cdot 2^4+0\\cdot 2^3+0\\cdot 2^2+1\\cdot 2^1+0\\cdot 2^0=10010\\ base\\ 2$\n",
    "\n",
    "The python function `bin()` takes a number as argument and returns a string representation of that number in base 2.\n",
    "\n",
    "**Examples**"
   ]
  },
  {
   "cell_type": "code",
   "execution_count": 2,
   "id": "0712069e",
   "metadata": {},
   "outputs": [
    {
     "data": {
      "text/plain": [
       "'0b10010'"
      ]
     },
     "execution_count": 2,
     "metadata": {},
     "output_type": "execute_result"
    }
   ],
   "source": [
    "bin(18)"
   ]
  },
  {
   "cell_type": "markdown",
   "id": "aeb9e0e4",
   "metadata": {},
   "source": [
    "The `0b` at the start of the string indicates binary or base 2."
   ]
  },
  {
   "cell_type": "markdown",
   "id": "c7c703ba",
   "metadata": {},
   "source": [
    "Base 2 to Base 10\n",
    "\n",
    ">$1011\\ base\\ 2=1\\cdot 2^3+0\\cdot 2^2+1\\cdot 2^1+1\\cdot 2^0=8+2+1=11$\n",
    "\n",
    "If you put `0b1011` in a code cell and evaluate it, python shows you the base 10 form of the number:"
   ]
  },
  {
   "cell_type": "code",
   "execution_count": 4,
   "id": "e54793e3",
   "metadata": {},
   "outputs": [
    {
     "data": {
      "text/plain": [
       "11"
      ]
     },
     "execution_count": 4,
     "metadata": {},
     "output_type": "execute_result"
    }
   ],
   "source": [
    "0b1011"
   ]
  },
  {
   "cell_type": "markdown",
   "id": "986f391a",
   "metadata": {},
   "source": [
    "### Exercises\n",
    "\n",
    "1. Find the base 2 representation of the following numbers and use bin() to check your answers:\n",
    "\n",
    "* 9\n",
    "* 17\n",
    "* 15\n",
    "\n",
    "2. Find the base 10 form of the following base 2 numbers and use python to check your answers:\n",
    "\n",
    "* 0b10110\n",
    "* 0b100011\n",
    "* 0b1000"
   ]
  },
  {
   "cell_type": "markdown",
   "id": "f4e15074",
   "metadata": {},
   "source": [
    "### Base 16\n",
    "\n",
    "In base 16 you need single characters to represent the base 10 numbers 0,1,2,...,14,15.\n",
    "\n",
    "The characters 0,...,9 represent the numbers 0,...,9, and a,b,c,d,e,f represent the numbers 10,11,12,13,14,15.\n",
    "\n",
    "**Examples:**\n",
    "\n",
    ">$27=16+11=1\\cdot 16^1+11\\cdot 16^0=1\\cdot 16^1+b\\cdot 16^0=1b\\ base 16$\n",
    "\n",
    ">$63=3\\cdot 16^1+15\\cdot 16^0=3\\cdot 16^1+f\\cdot 16^0 = 3f\\ base\\ 16$"
   ]
  },
  {
   "cell_type": "markdown",
   "id": "a39e2c7b",
   "metadata": {},
   "source": [
    "The python function `hex()` takes a number argument and returns a string representation of that number in base 16."
   ]
  },
  {
   "cell_type": "code",
   "execution_count": 13,
   "id": "75c54705",
   "metadata": {},
   "outputs": [
    {
     "data": {
      "text/plain": [
       "'0x3f'"
      ]
     },
     "execution_count": 13,
     "metadata": {},
     "output_type": "execute_result"
    }
   ],
   "source": [
    "hex(63)"
   ]
  },
  {
   "cell_type": "markdown",
   "id": "baff9e0b",
   "metadata": {},
   "source": [
    "The `0x` at the beginning of the string indicate *hexadecimal* or base 16.\n",
    "\n",
    "If you put `0x3f` in a code cell and evaluate it, python shows you the base 10 form of the number."
   ]
  },
  {
   "cell_type": "code",
   "execution_count": 14,
   "id": "baf918a0",
   "metadata": {},
   "outputs": [
    {
     "data": {
      "text/plain": [
       "63"
      ]
     },
     "execution_count": 14,
     "metadata": {},
     "output_type": "execute_result"
    }
   ],
   "source": [
    "0x3f"
   ]
  },
  {
   "cell_type": "markdown",
   "id": "b9126093",
   "metadata": {},
   "source": [
    "### Exercises\n",
    "\n",
    "1. Find the base 16 form of the following numbers and use hex() to check your answers:\n",
    "\n",
    "* 21\n",
    "* 30\n",
    "* 283\n",
    "\n",
    "2. Find the base 10 form of the following base 16 numbers and use python to check your answers:\n",
    "\n",
    "* 0xff\n",
    "* 0x3a7\n",
    "* 0x11c"
   ]
  },
  {
   "cell_type": "code",
   "execution_count": 16,
   "id": "7c8956eb",
   "metadata": {},
   "outputs": [
    {
     "data": {
      "text/plain": [
       "('0x11b', '0x15', '0x1e')"
      ]
     },
     "execution_count": 16,
     "metadata": {},
     "output_type": "execute_result"
    }
   ],
   "source": [
    "hex(283),hex(21),hex(30)"
   ]
  },
  {
   "cell_type": "code",
   "execution_count": 17,
   "id": "eefa588f",
   "metadata": {},
   "outputs": [
    {
     "data": {
      "text/plain": [
       "(255, 935, 284)"
      ]
     },
     "execution_count": 17,
     "metadata": {},
     "output_type": "execute_result"
    }
   ],
   "source": [
    "0xff,0x3a7,0x11c"
   ]
  },
  {
   "cell_type": "markdown",
   "id": "e50d6da6",
   "metadata": {},
   "source": [
    "It is cumbersome to use base 2 to represent numbers because they have so many digits. Programmers like to take one byte, an eight digit base 2 number and split it into two sets of four bits, then represent each four digit base 2 number as a base 16 number.\n",
    "\n",
    "**Examples**\n",
    "\n",
    "> $11111111= 1111\\ \\ 1111= 15\\ \\ 15=ff\\  base\\ 16= 15\\cdot 16^1+15\\cdot 16^0=255$\n",
    "\n",
    "> $10011110= 1001\\ \\ 1110= 9\\ \\ 14=9e\\ base\\ 16=9\\cdot 16^1+14\\cdot 16^0=158$"
   ]
  },
  {
   "cell_type": "code",
   "execution_count": 18,
   "id": "7a618158",
   "metadata": {},
   "outputs": [
    {
     "data": {
      "text/plain": [
       "'0xff'"
      ]
     },
     "execution_count": 18,
     "metadata": {},
     "output_type": "execute_result"
    }
   ],
   "source": [
    "hex(0b11111111)"
   ]
  },
  {
   "cell_type": "code",
   "execution_count": 20,
   "id": "b6f3d56e",
   "metadata": {},
   "outputs": [
    {
     "data": {
      "text/plain": [
       "'0x9e'"
      ]
     },
     "execution_count": 20,
     "metadata": {},
     "output_type": "execute_result"
    }
   ],
   "source": [
    "hex(0b10011110)"
   ]
  },
  {
   "cell_type": "code",
   "execution_count": 21,
   "id": "a7c3749d",
   "metadata": {},
   "outputs": [
    {
     "data": {
      "text/plain": [
       "255"
      ]
     },
     "execution_count": 21,
     "metadata": {},
     "output_type": "execute_result"
    }
   ],
   "source": [
    "0xff"
   ]
  },
  {
   "cell_type": "code",
   "execution_count": 22,
   "id": "d52d7159",
   "metadata": {},
   "outputs": [
    {
     "data": {
      "text/plain": [
       "158"
      ]
     },
     "execution_count": 22,
     "metadata": {},
     "output_type": "execute_result"
    }
   ],
   "source": [
    "0x9e"
   ]
  },
  {
   "cell_type": "markdown",
   "id": "bc7cf14e",
   "metadata": {},
   "source": [
    "## ASCII\n",
    "\n",
    "Writing in English requires a small number of characters compared to other languages. For example, the western European languages use most of our letter characters, but they also need characters for the accent marks that are not used in English.\n",
    "\n",
    "The ASCII character set consists of 128 different characters, some printable and some not. An example of a non-printable character is the bell character.\n",
    "\n",
    "In decimal form (base 10) the characters are numbered 0 through 127\n",
    "\n",
    "In binary form (base 2) the characters are numbered 0 through 1111111.\n",
    "\n",
    "in hexadecimal form (base 16) the characters are numbered 0 through df.\n",
    "\n",
    "### 0-31\n",
    "\n",
    "These are the control characters, for example the **backspace character** is 8\n",
    "\n",
    "|Decimal | Hexadecimal | Binary|\n",
    "|---|---|---|\n",
    "|8|0x08|0b00001000|\n",
    "\n",
    "The **escape character** is 27:\n",
    "\n",
    "|Decimal | Hexadecimal | Binary|\n",
    "|---|---|---|\n",
    "|27|0x1b|0b00011011|\n",
    "\n",
    "### 32-127\n",
    "\n",
    "These are the printable characters, for example A is 65 and a is 97.\n",
    "\n",
    "The python function `chr()` shows the printable characters:"
   ]
  },
  {
   "cell_type": "code",
   "execution_count": 28,
   "id": "1bb021a5",
   "metadata": {},
   "outputs": [
    {
     "data": {
      "text/plain": [
       "('A', 'A', 'A')"
      ]
     },
     "execution_count": 28,
     "metadata": {},
     "output_type": "execute_result"
    }
   ],
   "source": [
    "chr(65),chr(0x41),chr(0b01000001)"
   ]
  },
  {
   "cell_type": "code",
   "execution_count": 29,
   "id": "76129fa3",
   "metadata": {},
   "outputs": [
    {
     "data": {
      "text/plain": [
       "('a', 'a', 'a')"
      ]
     },
     "execution_count": 29,
     "metadata": {},
     "output_type": "execute_result"
    }
   ],
   "source": [
    "chr(97),chr(0x61),chr(0b01100001)"
   ]
  },
  {
   "cell_type": "markdown",
   "id": "b89a7595",
   "metadata": {},
   "source": [
    "Here is a link to the ASCII character set: https://www.ascii-code.com/\n",
    "\n",
    "Because there are only 128 ascii characters, and 128 = 0b1111111, the 128 ascii characters can each be represented a single byte that starts with 0."
   ]
  },
  {
   "cell_type": "markdown",
   "id": "f357f402",
   "metadata": {},
   "source": [
    "## Latin-1\n",
    "\n",
    "As the European countries started representing their languages in digital file, they started to use the netire byte, not just the bytes that start with 0. This gave them enough room to represent the ascii characters as well as their accents and other non-standard character.\n",
    "\n",
    "That worked (sort of), but then different countries started using different codes for their accents, and it was a mess.  If you were given a text file you needed to know which numbers corresponded to which characters.\n",
    "\n",
    "The problem is much more complicated when you look at Asian languages that use thousands of characters.\n",
    "\n",
    "## UTF-8\n",
    "\n",
    "UTF-8 is an encoding system that uses more than one byte for some characters. It gets a little complicated!"
   ]
  },
  {
   "cell_type": "markdown",
   "id": "116d036b",
   "metadata": {},
   "source": [
    "## strings command\n",
    "\n",
    "The linux command `strings` searches for printable groups of characters in a binary file.\n",
    "\n",
    "If picture.png is the name of an image file, then the command `strings picture.png` produces a lot of output, most of it junk.\n",
    "\n",
    "The linux command `head` shows the first ten line of a file by default. `head -n 100` shows the first 100 lines.\n",
    "\n",
    "The command `strings picture.png | head -n 100` pipes the output of strings, which is many lines to head, which with the flag `-n 100` shows just the first 100 lines.\n",
    "\n",
    "The file `../data/image.png` is an image produced by webui."
   ]
  },
  {
   "cell_type": "code",
   "execution_count": 1,
   "id": "f626c3e2",
   "metadata": {},
   "outputs": [
    {
     "name": "stdout",
     "output_type": "stream",
     "text": [
      "IHDR\r\n",
      "tEXtparameters\r\n",
      "((old dog)), mixed breed dachsund, and boykin spaniel, long hair, dark brown\r\n",
      "Steps: 20, Sampler: DPM++ 2M Karras, CFG scale: 7, Seed: 716484137, Size: 512x512, Model hash: aadddd3d75, Model: deliberate_v3, Version: v1.6.0\r\n",
      "IDATx\r\n",
      "*+3c\r\n",
      "F#h$h\r\n",
      "O@$A@\"!$\r\n",
      "TJJe*33\r\n",
      "9\"\"2\"\r\n"
     ]
    }
   ],
   "source": [
    "!strings ../data/image.png | head"
   ]
  },
  {
   "cell_type": "code",
   "execution_count": null,
   "id": "8f7fd245",
   "metadata": {},
   "outputs": [],
   "source": []
  }
 ],
 "metadata": {
  "kernelspec": {
   "display_name": "Python 3 (ipykernel)",
   "language": "python",
   "name": "python3"
  },
  "language_info": {
   "codemirror_mode": {
    "name": "ipython",
    "version": 3
   },
   "file_extension": ".py",
   "mimetype": "text/x-python",
   "name": "python",
   "nbconvert_exporter": "python",
   "pygments_lexer": "ipython3",
   "version": "3.11.4"
  },
  "toc": {
   "base_numbering": 1,
   "nav_menu": {},
   "number_sections": true,
   "sideBar": true,
   "skip_h1_title": true,
   "title_cell": "Table of Contents",
   "title_sidebar": "Contents",
   "toc_cell": false,
   "toc_position": {},
   "toc_section_display": true,
   "toc_window_display": false
  }
 },
 "nbformat": 4,
 "nbformat_minor": 5
}
