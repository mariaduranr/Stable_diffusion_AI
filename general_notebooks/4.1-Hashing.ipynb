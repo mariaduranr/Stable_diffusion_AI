{
 "cells": [
  {
   "cell_type": "markdown",
   "id": "86283ab1",
   "metadata": {},
   "source": [
    "# Hashing\n",
    "\n",
    "\n",
    "https://www.sentinelone.com/cybersecurity-101/hashing/\n",
    "\n",
    "https://www.geeksforgeeks.org/introduction-to-hashing-data-structure-and-algorithm-tutorials/\n",
    "\n",
    "https://crypto.stanford.edu/~mironov/papers/hash_survey.pdf\n",
    "\n",
    "A hash function takes an arbitrary file as input and produces a *unique*, fixed length code that identifies that file.\n",
    "\n",
    "A *perfect hash function* would be one-to-one, so two different files would not have the same hash code.\n",
    "\n",
    "Given that there are infinitely many possible input files, and a fixed length hash code, there *cannot be a perfect hash function*.  However, hash functions are designed so that the chance of two different files having the same hash code is not likely."
   ]
  },
  {
   "cell_type": "markdown",
   "id": "0566fe42",
   "metadata": {},
   "source": [
    "## The hashlib Package\n",
    "\n",
    "The python package hashlib implements quite a few of the best known hash functions.\n",
    "\n",
    "The attribute hashlib.algorithms_guaranteed is a set of algorithm names that are guaranteed to be available in the package.\n",
    "\n",
    "Additional algorithms may be present, depending on the python version. The set of all available algorithms is in the attribute hashlib.algorithms_available."
   ]
  },
  {
   "cell_type": "code",
   "execution_count": 2,
   "id": "4fddf418",
   "metadata": {},
   "outputs": [
    {
     "data": {
      "text/plain": [
       "{'blake2b',\n",
       " 'blake2s',\n",
       " 'md5',\n",
       " 'sha1',\n",
       " 'sha224',\n",
       " 'sha256',\n",
       " 'sha384',\n",
       " 'sha3_224',\n",
       " 'sha3_256',\n",
       " 'sha3_384',\n",
       " 'sha3_512',\n",
       " 'sha512',\n",
       " 'shake_128',\n",
       " 'shake_256'}"
      ]
     },
     "execution_count": 2,
     "metadata": {},
     "output_type": "execute_result"
    }
   ],
   "source": [
    "import hashlib\n",
    "\n",
    "hashlib.algorithms_guaranteed"
   ]
  },
  {
   "cell_type": "code",
   "execution_count": 3,
   "id": "856d6eaa",
   "metadata": {},
   "outputs": [
    {
     "data": {
      "text/plain": [
       "{'blake2b',\n",
       " 'blake2s',\n",
       " 'md4',\n",
       " 'md5',\n",
       " 'md5-sha1',\n",
       " 'mdc2',\n",
       " 'ripemd160',\n",
       " 'sha1',\n",
       " 'sha224',\n",
       " 'sha256',\n",
       " 'sha384',\n",
       " 'sha3_224',\n",
       " 'sha3_256',\n",
       " 'sha3_384',\n",
       " 'sha3_512',\n",
       " 'sha512',\n",
       " 'sha512_224',\n",
       " 'sha512_256',\n",
       " 'shake_128',\n",
       " 'shake_256',\n",
       " 'sm3',\n",
       " 'whirlpool'}"
      ]
     },
     "execution_count": 3,
     "metadata": {},
     "output_type": "execute_result"
    }
   ],
   "source": [
    "hashlib.algorithms_available"
   ]
  },
  {
   "cell_type": "markdown",
   "id": "57ebfbf3",
   "metadata": {},
   "source": [
    "We will see examples of hashing data files, but we start by using a short byte array object:"
   ]
  },
  {
   "cell_type": "code",
   "execution_count": 4,
   "id": "b64d324e",
   "metadata": {},
   "outputs": [],
   "source": [
    "input = b'gpu envy'"
   ]
  },
  {
   "cell_type": "markdown",
   "id": "6d4c8158",
   "metadata": {},
   "source": [
    "The hashlib package has a new() constructor that can take the name of an algorithm and create an object that will produce that type of hash.\n",
    "\n",
    "Example:"
   ]
  },
  {
   "cell_type": "code",
   "execution_count": 5,
   "id": "96eefc35",
   "metadata": {},
   "outputs": [
    {
     "data": {
      "text/plain": [
       "'3398e366e9d659d6cf5398101012f972'"
      ]
     },
     "execution_count": 5,
     "metadata": {},
     "output_type": "execute_result"
    }
   ],
   "source": [
    "h = hashlib.new('md5')\n",
    "\n",
    "h.update(b'gpu envy')\n",
    "\n",
    "h.hexdigest()"
   ]
  },
  {
   "cell_type": "markdown",
   "id": "15271cd7",
   "metadata": {},
   "source": [
    "There are also named constructors for the algorithms:"
   ]
  },
  {
   "cell_type": "code",
   "execution_count": 8,
   "id": "4b951e99",
   "metadata": {},
   "outputs": [
    {
     "data": {
      "text/plain": [
       "'3398e366e9d659d6cf5398101012f972'"
      ]
     },
     "execution_count": 8,
     "metadata": {},
     "output_type": "execute_result"
    }
   ],
   "source": [
    "h = hashlib.md5(b'gpu envy')\n",
    "h.hexdigest()"
   ]
  },
  {
   "cell_type": "markdown",
   "id": "fe4e4af2",
   "metadata": {},
   "source": [
    "In this example I will create the hash codes of a few of the guaranteed algorithms for the input b'gpu envy':"
   ]
  },
  {
   "cell_type": "code",
   "execution_count": 10,
   "id": "7ab53373",
   "metadata": {},
   "outputs": [
    {
     "name": "stdout",
     "output_type": "stream",
     "text": [
      "md5 \n",
      " 3398e366e9d659d6cf5398101012f972 \n",
      "\n",
      "\n",
      "sha256 \n",
      " 54d880294627db997dc0af19671f472bcf2d34d955a4681e9331d8b2c2fdfdaf \n",
      "\n",
      "\n",
      "blake2b \n",
      " a04bf3e12ad5529c424485d414ab16f43faab171fe99e1b5bfc6372ceca42a9b6b5daeea5b71c370021c08c3e10fd521c56dd497c9e6d7ca48fdf69787f92b36 \n",
      "\n",
      "\n"
     ]
    }
   ],
   "source": [
    "for a in ['md5','sha256','blake2b']:\n",
    "    h = hashlib.new(a)\n",
    "    h.update(b'gpu envy')\n",
    "    print(a,'\\n',h.hexdigest(),'\\n\\n')"
   ]
  },
  {
   "cell_type": "markdown",
   "id": "b84440e9",
   "metadata": {},
   "source": [
    "## Civitai Hashes\n",
    "\n",
    "Civitai has thousands of models, and it uses hash codes to identify them.\n",
    "\n",
    "Here is a screen shot of the civitai info on one model:\n",
    "\n",
    "<img src='../data/realistic.png'>"
   ]
  },
  {
   "cell_type": "markdown",
   "id": "7bd34cab",
   "metadata": {},
   "source": [
    "Notice in the lower right that it shows the beginning of the SHA256 hash of the realistic vision model.\n",
    "\n",
    "For the purpose of this demo notebook, I have put that model the directory /tmp\n",
    "\n",
    "The file is 4.0G, so I put it in /tmp where it will eventually disappear."
   ]
  },
  {
   "cell_type": "code",
   "execution_count": 13,
   "id": "1790258a",
   "metadata": {},
   "outputs": [
    {
     "name": "stdout",
     "output_type": "stream",
     "text": [
      "-rw-r--r-- 1 brownj brownj 4.0G Jan 31 07:26 /tmp/realisticVisionV60B1_v60B1VAE.safetensors\r\n"
     ]
    }
   ],
   "source": [
    "!ls -lh /tmp/real*"
   ]
  },
  {
   "cell_type": "markdown",
   "id": "e4d6e428",
   "metadata": {},
   "source": [
    "In the examples we have seen so far, I created the hash object, then called it update() method one time with a short bytes object.\n",
    "\n",
    "To hash a file I will open the file for reading bytes, then read chunks of the file, calling update on each chunk. When I have read the complete file I call hexdigest().\n",
    "\n",
    "This model file is large, so the cell below takes over 10 seconds to complete."
   ]
  },
  {
   "cell_type": "code",
   "execution_count": 15,
   "id": "f4d5cca1",
   "metadata": {},
   "outputs": [
    {
     "data": {
      "text/plain": [
       "'e5f3cbc5f7669457d3bec1fd492420995fb9a79e735dce438b81af61fd5d77f0'"
      ]
     },
     "execution_count": 15,
     "metadata": {},
     "output_type": "execute_result"
    }
   ],
   "source": [
    "BUF_SIZE = 65536\n",
    "\n",
    "sha256 = hashlib.sha256()\n",
    "\n",
    "with open('/tmp/realisticVisionV60B1_v60B1VAE.safetensors', 'rb') as f:\n",
    "    \n",
    "    while True:\n",
    "        data = f.read(BUF_SIZE)\n",
    "\n",
    "        if not data:\n",
    "            break\n",
    "\n",
    "        sha256.update(data)\n",
    "        \n",
    "sha256.hexdigest()"
   ]
  },
  {
   "cell_type": "markdown",
   "id": "5f2c22e5",
   "metadata": {},
   "source": [
    "This hash code is different from the one in the screen shot because that is a pruned version.\n",
    "\n",
    "hashlib also has a file_digest() method that handles reading the chunks."
   ]
  },
  {
   "cell_type": "code",
   "execution_count": 16,
   "id": "4f4fb62c",
   "metadata": {},
   "outputs": [
    {
     "data": {
      "text/plain": [
       "'e5f3cbc5f7669457d3bec1fd492420995fb9a79e735dce438b81af61fd5d77f0'"
      ]
     },
     "execution_count": 16,
     "metadata": {},
     "output_type": "execute_result"
    }
   ],
   "source": [
    "with open('/tmp/realisticVisionV60B1_v60B1VAE.safetensors', 'rb') as f:\n",
    "    digest = hashlib.file_digest(f,'sha256')\n",
    "    \n",
    "digest.hexdigest()"
   ]
  },
  {
   "cell_type": "code",
   "execution_count": null,
   "id": "b39173ce",
   "metadata": {},
   "outputs": [],
   "source": []
  }
 ],
 "metadata": {
  "hide_input": false,
  "kernelspec": {
   "display_name": "Python 3 (ipykernel)",
   "language": "python",
   "name": "python3"
  },
  "language_info": {
   "codemirror_mode": {
    "name": "ipython",
    "version": 3
   },
   "file_extension": ".py",
   "mimetype": "text/x-python",
   "name": "python",
   "nbconvert_exporter": "python",
   "pygments_lexer": "ipython3",
   "version": "3.11.4"
  },
  "toc": {
   "base_numbering": 1,
   "nav_menu": {},
   "number_sections": true,
   "sideBar": true,
   "skip_h1_title": true,
   "title_cell": "Table of Contents",
   "title_sidebar": "Contents",
   "toc_cell": false,
   "toc_position": {},
   "toc_section_display": true,
   "toc_window_display": false
  }
 },
 "nbformat": 4,
 "nbformat_minor": 5
}
