{
 "cells": [
  {
   "cell_type": "code",
   "execution_count": 1,
   "id": "d2fbb567",
   "metadata": {},
   "outputs": [],
   "source": [
    "import matplotlib.pyplot as plt"
   ]
  },
  {
   "cell_type": "code",
   "execution_count": 2,
   "id": "0b3cff50",
   "metadata": {},
   "outputs": [
    {
     "name": "stdout",
     "output_type": "stream",
     "text": [
      "total 824\r\n",
      "-rw-r--r-- 1 brownj brownj 235605 Mar 21 15:35 cat3-nightshade-intensity-DEFAULT-V1.png\r\n",
      "-rw-r--r-- 1 brownj brownj 266502 Mar 21 15:35 cat3-nightshade-intensity-HIGH-V1.png\r\n",
      "-rw-r--r-- 1 brownj brownj 276548 Mar 21 15:35 cat3.png\r\n",
      "-rw-r--r-- 1 brownj brownj  50628 Mar 21 15:35 NightshadeApp.png\r\n",
      "-rw-r--r-- 1 brownj brownj    227 Mar 21 15:35 nightshade-result.txt\r\n"
     ]
    }
   ],
   "source": [
    "!ls -l ../data/shady"
   ]
  },
  {
   "cell_type": "markdown",
   "id": "dd76baca",
   "metadata": {},
   "source": [
    "# Nightshade Application\n",
    "\n",
    "## First Step\n",
    "\n",
    "I got the app to run on my computer in Windows mode. Here is a screen shot of the app running:\n",
    "\n",
    "<img src='../data/shady/NightshadeApp.png'>"
   ]
  },
  {
   "cell_type": "markdown",
   "id": "ed18821a",
   "metadata": {},
   "source": [
    "I found a picture of a cat and I ran it through the app twice.\n",
    "\n",
    "The first time through I had the intensity slider in the middle at Default and the render quality slider all the way to the left at Faster.\n",
    "\n",
    "The time estimates shown in the app are based on a much smaller GPU that what I have.  Instead of 5 minutes, the first run took less than a minute.\n",
    "\n",
    "The second time through both sliders were all the way to the right as in the picture. It took between 4 and 5 minutes.\n",
    "\n",
    "Here are the images:\n",
    "\n",
    "<table>\n",
    "    <tr><td>Original</td><td><img src='../data/shady/cat3.png'></td></tr>\n",
    "    <tr><td>Light Poison</td><td><img src='../data/shady/cat3-nightshade-intensity-DEFAULT-V1.png'></td></tr>\n",
    "    <tr><td>Heavy Poison</td><td><img src='../data/shady/cat3-nightshade-intensity-HIGH-V1.png'></td></tr>\n",
    "</table>"
   ]
  },
  {
   "cell_type": "markdown",
   "id": "490b2b48",
   "metadata": {},
   "source": [
    "The first two images look very similar, and that is the goal.  The third one is quite different."
   ]
  },
  {
   "cell_type": "markdown",
   "id": "1f914bcb",
   "metadata": {},
   "source": [
    "## Next Steps\n",
    "\n",
    "Given that the app only runs on Windows or Mac, using my machine for poisoning is the easiest way to go.\n",
    "\n",
    "The app developers say that 100-150 images will be sufficient to damage the model significantly. My machine will not handle that many images for a Dreambooth train, but I think the new machine will be able to handle it."
   ]
  },
  {
   "cell_type": "code",
   "execution_count": null,
   "id": "aff98216",
   "metadata": {},
   "outputs": [],
   "source": []
  }
 ],
 "metadata": {
  "hide_input": false,
  "kernelspec": {
   "display_name": "Python 3 (ipykernel)",
   "language": "python",
   "name": "python3"
  },
  "language_info": {
   "codemirror_mode": {
    "name": "ipython",
    "version": 3
   },
   "file_extension": ".py",
   "mimetype": "text/x-python",
   "name": "python",
   "nbconvert_exporter": "python",
   "pygments_lexer": "ipython3",
   "version": "3.11.4"
  },
  "toc": {
   "base_numbering": 1,
   "nav_menu": {},
   "number_sections": true,
   "sideBar": true,
   "skip_h1_title": true,
   "title_cell": "Table of Contents",
   "title_sidebar": "Contents",
   "toc_cell": false,
   "toc_position": {},
   "toc_section_display": true,
   "toc_window_display": false
  }
 },
 "nbformat": 4,
 "nbformat_minor": 5
}
