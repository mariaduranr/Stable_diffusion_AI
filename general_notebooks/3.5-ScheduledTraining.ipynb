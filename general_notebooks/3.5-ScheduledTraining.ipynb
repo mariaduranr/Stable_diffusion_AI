{
 "cells": [
  {
   "cell_type": "markdown",
   "id": "e915c465",
   "metadata": {},
   "source": [
    "# Scheduling API Calls"
   ]
  },
  {
   "cell_type": "markdown",
   "id": "47d8c212",
   "metadata": {},
   "source": [
    "https://www.baeldung.com/linux/job-control-disown-nohup\n",
    "    \n",
    "https://unix.stackexchange.com/questions/3886/difference-between-nohup-disown-and\n",
    "\n",
    "https://en.wikipedia.org/wiki/Cron"
   ]
  },
  {
   "cell_type": "markdown",
   "id": "bbdb433c",
   "metadata": {},
   "source": [
    "## Environment Variable WEBUI_PORT\n",
    "\n",
    "Users of the lambda1 machine need to use their own port number when starting the the GUI to avoid having their output tangled up with that of other users. I edited each user's webui-user.sh file to include their port number when I setup the users.\n",
    "\n",
    "In this notebook I will introduce several scripts for controlling the webui API, and two of those scripts need to know the user's port number.\n",
    "\n",
    "We are going to add a line to each user's ~/.bashrc file to store their port number as an environment variable. It would be pretty easy for me to edit each user's file to make the change, but users need to know about the nano editor in order to schedule their jobs to run on the API, so I will demonstrate how this is done in class, and users can follow along.\n",
    "\n",
    "### .bashrc\n",
    "\n",
    "\n",
    "The file ~/.bashrc has start up commands for bash shell processes.\n",
    "\n",
    "For example, the line `alias ll='ls -alF` creates the alias ll, which is short for `ls -alF`.\n",
    "\n",
    "We need to add the `export WEBUI_PORT=XXXX`, where you will substitute your port number for XXXX.\n",
    "\n",
    "### nano\n",
    "\n",
    "nano is a basic text editor.  It is easy to use because the commands you need are shown at the bottom of the screen.\n",
    "\n",
    "ssh to lambda1 and we will all edit our .bashrc files."
   ]
  },
  {
   "cell_type": "markdown",
   "id": "896e044a",
   "metadata": {},
   "source": [
    "## Scripts\n",
    "\n",
    "Your path contains the directory ~/.local/bin, so if you put a script in that directory, then you can call it by name.  There are three scripts in the directory /opt/models/scripts that you should copy to your ./local/bin directory.\n",
    "\n",
    "**Commands**\n",
    "\n",
    ">cd .local/bin\n",
    ">\n",
    ">cp /opt/models/scripts/\\*.sh .\n",
    ">\n",
    ">cd\n",
    ">\n",
    ">ping.sh"
   ]
  },
  {
   "cell_type": "markdown",
   "id": "f885f290",
   "metadata": {},
   "source": [
    "## ping.sh\n",
    "\n",
    "This should return `API is available` if your webui API is running, and `API needs to be started` if it is not."
   ]
  },
  {
   "cell_type": "markdown",
   "id": "60732224",
   "metadata": {},
   "source": [
    "## start.sh\n",
    "\n",
    "<img src='../data/api-start.png'>\n",
    "\n",
    "* start.sh 3 starts the webui.sh with flags --api and --device-id=3\n",
    "* First call to ping said the API needs to be started. It was still starting up.\n",
    "\n",
    "Here is the script:"
   ]
  },
  {
   "cell_type": "code",
   "execution_count": 3,
   "id": "e90e8518",
   "metadata": {},
   "outputs": [
    {
     "name": "stdout",
     "output_type": "stream",
     "text": [
      "#!/bin/bash\r\n",
      "\r\n",
      "cd /home/${USER}/stable-diffusion-webui\r\n",
      "\r\n",
      "if [ $# -gt 0 ]\r\n",
      "then\r\n",
      "\tnohup ./webui.sh --api --device-id=$1 &\r\n",
      "else\r\n",
      "\tnohup ./webui.sh --api &\r\n",
      "fi\r\n",
      "\r\n",
      "echo $!>process_id\r\n"
     ]
    }
   ],
   "source": [
    "!cat ../data/start.sh"
   ]
  },
  {
   "cell_type": "markdown",
   "id": "c7e8a55e",
   "metadata": {},
   "source": [
    "## train_lora.sh\n",
    "\n",
    "<img src='../data/api-train.png'>\n",
    "\n",
    "Here is the script:"
   ]
  },
  {
   "cell_type": "code",
   "execution_count": 4,
   "id": "1c40b262",
   "metadata": {},
   "outputs": [
    {
     "name": "stdout",
     "output_type": "stream",
     "text": [
      "#!/bin/bash\r\n",
      "\r\n",
      "if [ $# -lt 1 ]\r\n",
      "then\r\n",
      "\techo \"Supply your model name as an argument\"\r\n",
      "else\r\n",
      "\tmyping=\"`curl -X 'GET' --silent --output /dev/null \\\r\n",
      "\t\t--write-out '%{http_code}' \\\r\n",
      "\t\thttp://localhost:${WEBUI_PORT}/internal/ping`\"\r\n",
      "\r\n",
      "\tif [ $myping -eq 200 ]\r\n",
      "\tthen\r\n",
      "\t\techo \"Calling curl ...\"\r\n",
      "\t\turl=\"http://localhost:${WEBUI_PORT}/dreambooth/start_training?model_name=${1}&use_tx2img=true\"\r\n",
      "        \techo $url\r\n",
      "\r\n",
      "\t\tresp=\"`curl -X 'POST' --silent $url -H 'accept: application/json' -d ''`\"\r\n",
      "\t\techo \"Done with curl\"\r\n",
      "\t\techo $resp\r\n",
      "\telse\r\n",
      "\t\techo \"API needs to be started\"\r\n",
      "\tfi\r\n",
      "fi\r\n"
     ]
    }
   ],
   "source": [
    "!cat ../data/train_lora.sh"
   ]
  },
  {
   "cell_type": "markdown",
   "id": "c07709ad",
   "metadata": {},
   "source": [
    "## nohup.out\n",
    "\n",
    "The start.sh script changed to the stable-diffusion directory and started the webui with nohup.\n",
    "\n",
    "The output of the command is sent to the file nohup.out.\n",
    "\n",
    "tail -f nohup.out will show the nohup.out file, updating as the file changes.\n",
    "\n",
    "<img src='../data/api-tail.png'>"
   ]
  },
  {
   "cell_type": "markdown",
   "id": "8c7f9a68",
   "metadata": {},
   "source": [
    "## Stop Webui\n",
    "\n",
    "<img src='../data/api-stop.png'>\n",
    "\n",
    "ps -ef shows details of running processes.\n",
    "\n",
    "Pipe the output to grep and look for rows that contain launch.py.  The first one is the process we want to kill."
   ]
  },
  {
   "cell_type": "markdown",
   "id": "5636c49d",
   "metadata": {},
   "source": [
    "## Crontab\n",
    "\n",
    "Demonstrate in class ..."
   ]
  },
  {
   "cell_type": "code",
   "execution_count": null,
   "id": "61ad9304",
   "metadata": {},
   "outputs": [],
   "source": []
  }
 ],
 "metadata": {
  "kernelspec": {
   "display_name": "Python 3 (ipykernel)",
   "language": "python",
   "name": "python3"
  },
  "language_info": {
   "codemirror_mode": {
    "name": "ipython",
    "version": 3
   },
   "file_extension": ".py",
   "mimetype": "text/x-python",
   "name": "python",
   "nbconvert_exporter": "python",
   "pygments_lexer": "ipython3",
   "version": "3.11.4"
  },
  "toc": {
   "base_numbering": 1,
   "nav_menu": {},
   "number_sections": true,
   "sideBar": true,
   "skip_h1_title": true,
   "title_cell": "Table of Contents",
   "title_sidebar": "Contents",
   "toc_cell": false,
   "toc_position": {},
   "toc_section_display": true,
   "toc_window_display": false
  }
 },
 "nbformat": 4,
 "nbformat_minor": 5
}
