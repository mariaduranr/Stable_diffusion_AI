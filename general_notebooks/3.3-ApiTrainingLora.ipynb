{
 "cells": [
  {
   "cell_type": "markdown",
   "id": "ff4ad848",
   "metadata": {},
   "source": [
    "# API Lora Training"
   ]
  },
  {
   "cell_type": "markdown",
   "id": "afff55e9",
   "metadata": {},
   "source": [
    "## Create Model API\n",
    "\n",
    "When you start webui with the flag --api, then go to http://localhost:7101/docs you see links to the methods available through the API.\n",
    "\n",
    "There is one named `dreambooth/create_model`\n",
    "\n",
    "I have tried repeatedly to make this work with no luck.\n",
    "\n",
    "Then it occurred to me that I could create and configure the model through the GUI, but leave it untrained.\n",
    "\n",
    "The creation and configuration take very little time and minimal compute resources.\n",
    "\n",
    "Then I can use the API to train the model.\n",
    "\n",
    "## Create Model GUI\n",
    "\n",
    "I selected the Dreambooth tab, used the name test1, set the type v1x and selected a source check point:\n",
    "\n",
    "<img src='../data/R1.png'>\n",
    "\n",
    "I clicked the Create Model button and this completed in about 12 seconds.\n",
    "\n",
    "## Concepts\n",
    "\n",
    "In concept 1 I entered the full path to the processed images, used \\[filewords] for the prompt, selected a nonsense instance token, and used `man` for the class token.\n",
    "\n",
    "<img src='../data/R2.png'>"
   ]
  },
  {
   "cell_type": "markdown",
   "id": "7d320d4c",
   "metadata": {},
   "source": [
    "## Parameters\n",
    "\n",
    "In Parameters I checked the `Use LORA` box.\n",
    "\n",
    "<img src='../data/R3.png'>"
   ]
  },
  {
   "cell_type": "markdown",
   "id": "841c07f4",
   "metadata": {},
   "source": [
    "## Save Settings\n",
    "\n",
    "I clicked the Save Settings button.  I am not sure if that is necessary.\n",
    "\n",
    "## API\n",
    "\n",
    "I changed the location box in the browser to http://localhost:7101/docs and clicked the `dreambooth/start_training` tab.\n",
    "\n",
    "<img src='../data/R5.png'>\n",
    "\n",
    "There was a `Try it out` button, and I clicked it.  Then I entered the model name, test1, and clicked Execute.\n",
    "\n",
    "I could see in the window where I started the webui that it was working.\n",
    "\n",
    "<img src='../data/R4.png'>"
   ]
  },
  {
   "cell_type": "markdown",
   "id": "bbb085ac",
   "metadata": {},
   "source": [
    "## Train from Command Line\n",
    "\n",
    "I used the GUI to create and configure another model named `test2`, then I went to another terminal on lambda1, and executed this curl command:\n",
    "\n",
    "<img src='../data/R6.png'>"
   ]
  },
  {
   "cell_type": "markdown",
   "id": "830840d0",
   "metadata": {},
   "source": [
    "## Next Steps\n",
    "\n",
    "* Write scripts (bash, python) that will start the training.\n",
    "\n",
    "\n",
    "* Have the script determine if the API is available, and start it if necessary.\n",
    "\n",
    "\n",
    "* Use CRONTAB to schedule the execution of the script.\n",
    "\n",
    "\n",
    "* Have the script determine which GPU to use."
   ]
  }
 ],
 "metadata": {
  "kernelspec": {
   "display_name": "Python 3 (ipykernel)",
   "language": "python",
   "name": "python3"
  },
  "language_info": {
   "codemirror_mode": {
    "name": "ipython",
    "version": 3
   },
   "file_extension": ".py",
   "mimetype": "text/x-python",
   "name": "python",
   "nbconvert_exporter": "python",
   "pygments_lexer": "ipython3",
   "version": "3.11.4"
  },
  "toc": {
   "base_numbering": 1,
   "nav_menu": {},
   "number_sections": true,
   "sideBar": true,
   "skip_h1_title": true,
   "title_cell": "Table of Contents",
   "title_sidebar": "Contents",
   "toc_cell": false,
   "toc_position": {},
   "toc_section_display": true,
   "toc_window_display": false
  }
 },
 "nbformat": 4,
 "nbformat_minor": 5
}
