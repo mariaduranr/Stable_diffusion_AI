{
 "cells": [
  {
   "cell_type": "markdown",
   "id": "8ed4e465",
   "metadata": {},
   "source": [
    "# API\n",
    "\n",
    "In this module we will work on accessing APIs from python.\n",
    "\n",
    "The long-term goal is to start training Loras from scripts instead of using the webui GUI."
   ]
  },
  {
   "cell_type": "code",
   "execution_count": 4,
   "id": "52e62985",
   "metadata": {},
   "outputs": [],
   "source": [
    "import requests\n",
    "\n",
    "from PIL import Image\n",
    "\n",
    "import io\n",
    "import base64\n",
    "import matplotlib.pyplot as plt"
   ]
  },
  {
   "cell_type": "markdown",
   "id": "c55d9eff",
   "metadata": {},
   "source": [
    "## The requests package\n",
    "\n",
    "The requests package has methods for accessing HTTP sites.\n",
    "\n",
    "Here is an example of a very simple web page that contains just a few words:\n",
    "\n",
    "http://ppmdev.com\n",
    "\n",
    "You can use the get() method to pull in the contents of that page:"
   ]
  },
  {
   "cell_type": "code",
   "execution_count": 3,
   "id": "eb7aeba9",
   "metadata": {},
   "outputs": [
    {
     "data": {
      "text/plain": [
       "requests.models.Response"
      ]
     },
     "execution_count": 3,
     "metadata": {},
     "output_type": "execute_result"
    }
   ],
   "source": [
    "w = requests.get('http://ppmdev.com')\n",
    "type(w)"
   ]
  },
  {
   "cell_type": "markdown",
   "id": "3d434deb",
   "metadata": {},
   "source": [
    "The Response object has a text attribute that shows the contents:"
   ]
  },
  {
   "cell_type": "code",
   "execution_count": 5,
   "id": "6887f94d",
   "metadata": {},
   "outputs": [
    {
     "data": {
      "text/plain": [
       "'<h1>Mobile Education</h1>\\n<h2>Under Construction</h2>\\n'"
      ]
     },
     "execution_count": 5,
     "metadata": {},
     "output_type": "execute_result"
    }
   ],
   "source": [
    "w.text"
   ]
  },
  {
   "cell_type": "code",
   "execution_count": 7,
   "id": "757deaf5",
   "metadata": {},
   "outputs": [
    {
     "data": {
      "text/plain": [
       "200"
      ]
     },
     "execution_count": 7,
     "metadata": {},
     "output_type": "execute_result"
    }
   ],
   "source": [
    "resp = requests.get('https://uncw.edu')\n",
    "resp.status_code"
   ]
  },
  {
   "cell_type": "code",
   "execution_count": 8,
   "id": "4fc7619e",
   "metadata": {},
   "outputs": [
    {
     "data": {
      "text/plain": [
       "223433"
      ]
     },
     "execution_count": 8,
     "metadata": {},
     "output_type": "execute_result"
    }
   ],
   "source": [
    "len(resp.text)"
   ]
  },
  {
   "cell_type": "code",
   "execution_count": 9,
   "id": "753e40cc",
   "metadata": {},
   "outputs": [
    {
     "data": {
      "text/plain": [
       "'<!DOCTYPE html>\\n<html xmlns=\"http://www.w3.org/1999/xhtml\" class=\"h-100\" lang=\"en\">\\n\\t<head>\\n\\t\\t                <meta charset=\"utf-8\"/>\\n<meta content=\"As a Seahawk, your flight is your own. We each launch from communities that have shaped us, and we build new communities as we goâ\\x80\\x94some right here on '"
      ]
     },
     "execution_count": 9,
     "metadata": {},
     "output_type": "execute_result"
    }
   ],
   "source": [
    "resp.text[:300]"
   ]
  },
  {
   "cell_type": "markdown",
   "id": "ad6099b5",
   "metadata": {},
   "source": [
    "## The flag --nowebui\n",
    "\n",
    "If you start the webui program on lambda1 with the command:\n",
    "\n",
    ">./webui.sh --nowebui\n",
    "\n",
    "it does not give you the usual GUI, but it does give you information on the API for stable diffusion.\n",
    "\n",
    "I will demo this in class by doing the following:\n",
    "\n",
    "* ssh to lambda1 with tunnel\n",
    "* start webui with the flag --nowebui\n",
    "* open localhost:7101/docs\n",
    "\n",
    "Note there are GET and POST commands.  GET is used to get information, POST is used to supply data and get a response."
   ]
  },
  {
   "cell_type": "markdown",
   "id": "17d037e2",
   "metadata": {},
   "source": [
    "## The flag --share\n",
    "\n",
    "Starting the webui sends output to your port, and you access it via localhost:port.\n",
    "\n",
    "If you use the --share flag, it also produces a URL that you can use to access the API.\n",
    "\n",
    "<img src='../data/shareURL.png'>\n",
    "\n",
    "Here is a screen shot of a notebook I made on dive10 while accessing the API through the public URL:\n",
    "\n",
    "<img src='../data/working.png'>"
   ]
  },
  {
   "cell_type": "code",
   "execution_count": 2,
   "id": "962606c2",
   "metadata": {},
   "outputs": [],
   "source": [
    "#Public URL created 11-14-2023 10:30 am\n",
    "\n",
    "url = \"https://24e5027aceed096d93.gradio.live/sdapi/v1/txt2img\""
   ]
  },
  {
   "cell_type": "code",
   "execution_count": 5,
   "id": "b136aa39",
   "metadata": {},
   "outputs": [
    {
     "data": {
      "text/plain": [
       "404"
      ]
     },
     "execution_count": 5,
     "metadata": {},
     "output_type": "execute_result"
    }
   ],
   "source": [
    "resp = requests.post(url,json={'prompt':'beagle puppy'})\n",
    "\n",
    "resp.status_code"
   ]
  },
  {
   "cell_type": "code",
   "execution_count": null,
   "id": "a28ee81c",
   "metadata": {},
   "outputs": [],
   "source": []
  }
 ],
 "metadata": {
  "kernelspec": {
   "display_name": "Python 3 (ipykernel)",
   "language": "python",
   "name": "python3"
  },
  "language_info": {
   "codemirror_mode": {
    "name": "ipython",
    "version": 3
   },
   "file_extension": ".py",
   "mimetype": "text/x-python",
   "name": "python",
   "nbconvert_exporter": "python",
   "pygments_lexer": "ipython3",
   "version": "3.11.4"
  },
  "toc": {
   "base_numbering": 1,
   "nav_menu": {},
   "number_sections": true,
   "sideBar": true,
   "skip_h1_title": true,
   "title_cell": "Table of Contents",
   "title_sidebar": "Contents",
   "toc_cell": false,
   "toc_position": {},
   "toc_section_display": true,
   "toc_window_display": false
  }
 },
 "nbformat": 4,
 "nbformat_minor": 5
}
