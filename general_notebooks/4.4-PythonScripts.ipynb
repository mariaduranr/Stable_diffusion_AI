{
 "cells": [
  {
   "cell_type": "markdown",
   "id": "c478fd3c",
   "metadata": {},
   "source": [
    "# Python Scripts\n",
    "\n",
    "## Calling Scripts\n",
    "\n",
    "The simplest type of python script is a file that contains python code that is executed when the script is called. Python scripts usually have the extension .py, but that is not required.\n",
    "\n",
    "My scripts directory on lambda1 contains a script named script1.py that is about as simple as a script can be. It has one line of code: `print('Hello Data Science!')`.\n",
    "\n",
    "1. The simplest way to execute a python scripts is with the command `python script_file.py`.\n",
    "\n",
    "I will be executing scripts on the lambda1 machine.  Here is a screen shot:\n",
    "\n",
    "<img src='../data/4.4.1.png'>"
   ]
  },
  {
   "cell_type": "markdown",
   "id": "d2db635b",
   "metadata": {},
   "source": [
    "2. Another way to execute a python script is to include the shebang line at the beginning of the file: `#!/usr/bin/python`\n",
    "\n",
    "In addition to the shebang line, the file needs to be executable. On a linux machine the command `chmod +x script_file.py`\n",
    "\n",
    "<img src='../data/4.4.2.png' width=80%>"
   ]
  },
  {
   "cell_type": "markdown",
   "id": "d0151a43",
   "metadata": {},
   "source": [
    "**Notes:**\n",
    "\n",
    "* I used the cat command to display the contents of script2.py. It has the shebang and two print commands.\n",
    "* The command `ll s*` shows the long listing of files that start with s. The permissions `-rw-rw-r--` means that the owner and group members can read and write, others can read, but no body has execute permission.\n",
    "* After the `chmod` command is executed, the permissions change to `rwxrwxr-x` so everyone has execute permission.\n",
    "\n",
    "For this work I will stick with the `python script_file.py` approach."
   ]
  },
  {
   "cell_type": "markdown",
   "id": "d68648da",
   "metadata": {},
   "source": [
    "What does `if __name__ == '__main__':` do?\n",
    "\n",
    "You often see python scripts that end with something like this:\n",
    "\n",
    "<code>if \\_\\_name__ == \"\\_\\_main__\":\n",
    "    print(\"Hello, World!\")</code>\n",
    "    \n",
    "When a script is executed, there is a variable named \\_\\_name\\_\\_ available in the script.\n",
    "\n",
    "If the script is executed with either `python script_file.py` or as an executable, then that variable has the value \\_\\_main\\_\\_.  In that case you want the code in the script to be executed.\n",
    "\n",
    "If the script is imported by another script, then the importing script has access to functions defined in the imported script, but you probably don't want the code to be executed on import.\n",
    "\n",
    "For the simple scripts we will be using, we don't need to worry about that issue."
   ]
  },
  {
   "cell_type": "markdown",
   "id": "f10c4ba1",
   "metadata": {},
   "source": [
    "## Arguments\n",
    "\n",
    "When you call a script you can include additional arguments after the file name.  To access the arguments you import sys then use `sys.argv`, which is a list.  The first element of the list is the name of the script.\n",
    "\n",
    "<img src='../data/4.4.3.png' width=80%>"
   ]
  },
  {
   "cell_type": "markdown",
   "id": "57df16e0",
   "metadata": {},
   "source": [
    "## Stable Diffusion API\n",
    "\n",
    "### Is it running?\n",
    "\n",
    "I wrote a bash script named ping.sh that some of you have set up. It tells you either `API is available` or `API needs to be started`\n",
    "\n",
    "Bash scripts look very strange to python programmers, so we will write a python script to check the status of the API. Here is the script ping.py:\n",
    "\n",
    "<blockquote>\n",
    "<code>\n",
    "#!/usr/bin/python\n",
    "\n",
    "import sys\n",
    "import requests\n",
    "\n",
    "if len(sys.argv) < 2:\n",
    "    print('You must supply the port number argument')\n",
    "    sys.exit()\n",
    "\n",
    "\\# Use sys.argv[1] as port number\n",
    "\n",
    "url = 'http://localhost:'+sys.argv[1]+'/internal/ping'\n",
    "\n",
    "try:\n",
    "    resp  = requests.get(url)\n",
    "    print('Status Code:',rest.status_code)\n",
    "except:\n",
    "    print('Error: API needs to be started')\n",
    "</code>\n",
    "    </blockquote>"
   ]
  },
  {
   "cell_type": "markdown",
   "id": "9e15e004",
   "metadata": {},
   "source": [
    "If the API is not running, then the requests.get() method raises an exception that produces a lot of output.  I don't want to see that, so I use a try-except block.\n",
    "\n",
    "### Starting\n",
    "\n",
    "When you are in the stable-diffusion-webui directory the command `./webui.sh --api --device-id=2` starts the GUI and API and it shows you output as commands are executed.\n",
    "\n",
    "To stop the API, use Control-C in the shell where you started the API.\n",
    "\n",
    "This is fine for many use cases.\n",
    "\n",
    "**However**, when you get to the point of scheduling jobs to be executed later, then you need the API to remain running after you log out of lambda1.\n",
    "\n",
    "#### start.sh\n",
    "\n",
    "The bash script start.sh will start the API and run it in the background, so when you log out the API is still available.\n",
    "\n",
    "#### nohup\n",
    "\n",
    "You can also start the API with this command: `nohup ./webui.sh --api --device-id=2`\n",
    "\n",
    "In this screen shot I called the script ping.py, see that the API is not running, then start the API and check again.\n",
    "\n",
    "#### Stopping\n",
    "\n",
    "The command `ps -ef | grep launch` shows you the process id you the running jobs that contain the string 'launch'.\n",
    "\n",
    "Killing that process stops the API:\n",
    "\n",
    "<img src='../data/4.4.4.png'>"
   ]
  },
  {
   "cell_type": "markdown",
   "id": "28c500e4",
   "metadata": {},
   "source": [
    "## Training Script\n",
    "\n",
    "<blockquote>\n",
    "    <code>\n",
    "#!/usr/bin/python\n",
    "\n",
    "import sys\n",
    "import requests\n",
    "\n",
    "if len(sys.argv) < 3:\n",
    "    print('You must supply the model name and port number arguments')\n",
    "    sys.exit()\n",
    "\n",
    "\\# Use sys.argv[1] as model name and sys.argv[2] as port number\n",
    "\n",
    "url = 'http://localhost:'+sys.argv[2]+'/dreambooth/start_training?model_name='+sys.argv[1]+'&use_tx2img=true'\n",
    "print('url:',url)\n",
    "\n",
    "resp  = requests.post(url)\n",
    "print('Status Code:',resp.status_code)\n",
    "                     </code>\n",
    "        </blockquote>"
   ]
  },
  {
   "cell_type": "markdown",
   "id": "78eef705",
   "metadata": {},
   "source": [
    "## Cron\n",
    "\n",
    "`crontab -e` let's you edit your crontab file.\n",
    "\n",
    "`crontab -l` shows the contents of the crontab.\n",
    "\n",
    "\n",
    "\n",
    "<img src='../data/4.4.6.png'>"
   ]
  },
  {
   "cell_type": "markdown",
   "id": "85503961",
   "metadata": {},
   "source": [
    "The image above shows that I have scheduled a cron job for 10:44 on Feb 19.\n",
    "\n",
    "The date command shows the time is now after 10:44.\n",
    "\n",
    "`tail nohup.out` shows the end of the file that records output of the API."
   ]
  },
  {
   "cell_type": "code",
   "execution_count": null,
   "id": "9776b03c",
   "metadata": {},
   "outputs": [],
   "source": []
  }
 ],
 "metadata": {
  "hide_input": false,
  "kernelspec": {
   "display_name": "Python 3 (ipykernel)",
   "language": "python",
   "name": "python3"
  },
  "language_info": {
   "codemirror_mode": {
    "name": "ipython",
    "version": 3
   },
   "file_extension": ".py",
   "mimetype": "text/x-python",
   "name": "python",
   "nbconvert_exporter": "python",
   "pygments_lexer": "ipython3",
   "version": "3.11.4"
  },
  "toc": {
   "base_numbering": 1,
   "nav_menu": {},
   "number_sections": true,
   "sideBar": true,
   "skip_h1_title": true,
   "title_cell": "Table of Contents",
   "title_sidebar": "Contents",
   "toc_cell": false,
   "toc_position": {},
   "toc_section_display": true,
   "toc_window_display": false
  }
 },
 "nbformat": 4,
 "nbformat_minor": 5
}
