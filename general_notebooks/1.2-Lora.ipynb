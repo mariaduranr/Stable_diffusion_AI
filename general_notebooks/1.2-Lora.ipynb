{
 "cells": [
  {
   "cell_type": "markdown",
   "id": "dc0f06c2",
   "metadata": {},
   "source": [
    "# LoRA\n",
    "\n",
    "LoRA stands for low-rank adaptation and Lora models are used for fine tuning.  They are much smaller that base models, such as deliberate and sd1.5.  They usually fine tune a style or individual.\n",
    "\n",
    "1. https://softwarekeep.com/help-center/how-to-use-stable-diffusion-lora-models\n",
    "\n",
    "2. https://stable-diffusion-art.com/lora/\n",
    "\n",
    "3. https://huggingface.co/blog/lora\n",
    "\n",
    "4. https://techtactician.com/how-to-use-lora-models-stable-diffusion-webui/#what-are-lora-models\n"
   ]
  },
  {
   "cell_type": "markdown",
   "id": "a5d19a0d",
   "metadata": {},
   "source": [
    "## Joker LoRA\n",
    "\n",
    "Here is a screen shot of the civitai.com page describing a Lora named Joker.  It is mentioned in the link \\#1."
   ]
  },
  {
   "cell_type": "markdown",
   "id": "3e45c717",
   "metadata": {},
   "source": [
    "<img src='../data/joker2.png'>"
   ]
  },
  {
   "cell_type": "markdown",
   "id": "4066ddf8",
   "metadata": {},
   "source": [
    "Here is a link to the page on civitai.com:\n",
    "\n",
    "https://civitai.com/models/55339/the-joker-or-photorealistic-joker-lora"
   ]
  },
  {
   "cell_type": "markdown",
   "id": "2952f893",
   "metadata": {},
   "source": [
    "## Installing the LoRA\n",
    "\n",
    "I downloaded the Lora file named Joker.safetensors and put it in our model store /opt/models on lambd1.\n",
    "\n",
    "The next step is to put a symbolic link to the file in the folder\n",
    "\n",
    "stable-diffusion-webui/models/Lora\n",
    "\n",
    "Here is a screen shot of commands to create the link:\n",
    "\n",
    "<img src='../data/joker1.png'>"
   ]
  },
  {
   "cell_type": "markdown",
   "id": "f77de56a",
   "metadata": {},
   "source": [
    "## Joker Images\n",
    "\n",
    "After creating the symbolic link, I started the GUI.\n",
    "\n",
    "First I made an image with the prompt `portrait of the joker, high quality, 8k` using the model photomatix_v10.\n",
    "\n",
    "**I did not use the lora yet.**\n",
    "\n",
    "Here I will use strings to extract the creation info from the png file:"
   ]
  },
  {
   "cell_type": "code",
   "execution_count": 4,
   "id": "a47173c2",
   "metadata": {},
   "outputs": [
    {
     "name": "stdout",
     "output_type": "stream",
     "text": [
      "IHDR\r\n",
      "tEXtparameters\r\n",
      "portrait of the joker, high quality, 8k\r\n",
      "Steps: 20, Sampler: DPM++ 2M Karras, CFG scale: 7, Seed: 45236552, Size: 512x512, Model hash: 57661c1ae7, Model: photomatix_v10, Version: v1.6.0\r\n",
      "IDATx\r\n"
     ]
    }
   ],
   "source": [
    "!strings ../data/joker-0.0.png | head -n5"
   ]
  },
  {
   "cell_type": "markdown",
   "id": "dbaeca38",
   "metadata": {},
   "source": [
    "Here is the image with no lora:\n",
    "\n",
    "<img src='../data/joker-0.0.png'>"
   ]
  },
  {
   "cell_type": "markdown",
   "id": "d3e8ff61",
   "metadata": {},
   "source": [
    "Next I used the same prompt with the lora included at strength 0.5.\n",
    "\n",
    "**prompt:** portrait of the joker, high quality, 8k  \\<lora:Joker:0.5>\n",
    "\n",
    "The syntax is angle bracket and word lora: followed by the lora model name (without the .safetensors extension) followed by : and a number between 0.0 and 1.0.\n",
    "\n",
    "**Note:** There are some loras that use a different range of strength values, such as -1.0 to 1.0."
   ]
  },
  {
   "cell_type": "code",
   "execution_count": 5,
   "id": "644916e5",
   "metadata": {},
   "outputs": [
    {
     "name": "stdout",
     "output_type": "stream",
     "text": [
      "IHDR\r\n",
      "tEXtparameters\r\n",
      "portrait of the joker, high quality, 8k  <lora:Joker:0.5>\r\n",
      "Steps: 20, Sampler: DPM++ 2M Karras, CFG scale: 7, Seed: 1537733116, Size: 512x512, Model hash: 57661c1ae7, Model: photomatix_v10, Lora hashes: \"Joker: 8fb5063d377d\", Version: v1.6.0\r\n",
      "IDATx\r\n"
     ]
    }
   ],
   "source": [
    "!strings ../data/joker-0.5.png | head -n5"
   ]
  },
  {
   "cell_type": "markdown",
   "id": "da1222fc",
   "metadata": {},
   "source": [
    "Here is the image with lora strength 0.5:\n",
    "\n",
    "<img src='../data/joker-0.5.png'>"
   ]
  },
  {
   "cell_type": "markdown",
   "id": "e27ad9c5",
   "metadata": {},
   "source": [
    "Here is the image with lora strength 1.0.  It is pretty extreme to use 1.0, and it often produces bad results.\n",
    "\n",
    "<img src='../data/joker-1.0.png'>"
   ]
  },
  {
   "cell_type": "markdown",
   "id": "02a29795",
   "metadata": {},
   "source": [
    "## Creepy Santa\n",
    "\n",
    "I found a lora named LowRA on civitai.com that was made by the same person who made the Deliberate model.\n",
    "\n",
    "Its effect to to darken the image.  I took the prompt from one of the images shown with the Deliberate model.\n",
    "\n",
    "**Note:** The prompt starts with \\<lora:LowRA:0.0>.  Setting the strength to 0.0 is the same as not mentioning the lora at all."
   ]
  },
  {
   "cell_type": "code",
   "execution_count": 8,
   "id": "6db48f04",
   "metadata": {},
   "outputs": [
    {
     "name": "stdout",
     "output_type": "stream",
     "text": [
      "IHDR\r\n",
      "tEXtparameters\r\n",
      "<lora:LowRA:0.0> drunk, creepy santa, muddy, crowded bottles bar, intricate details, hdr, intricate details, hyperdetailed, cinematic, dark shot, muted colors, film grainy, soothing tones, muted colors, technicolor\r\n",
      "Negative prompt: (deformed, distorted, disfigured:1.3), poorly drawn, bad anatomy, wrong anatomy, extra limb, missing limb, floating limbs, (mutated hands and fingers:1.4), disconnected limbs, mutation, mutated, ugly, disgusting, blurry, amputation\r\n",
      "Steps: 26, Sampler: DPM++ 2M Karras, CFG scale: 5, Seed: 2035073191, Size: 640x768, Model hash: aadddd3d75, Model: deliberate_v3, Lora hashes: \"LowRA: 0dfc93870ba3\", Version: v1.6.0\r\n"
     ]
    }
   ],
   "source": [
    "!strings ../data/santa-0.0.png | head -n5"
   ]
  },
  {
   "cell_type": "markdown",
   "id": "19ae316a",
   "metadata": {},
   "source": [
    "Creepy santa with no lora:\n",
    "\n",
    "<img src='../data/santa-0.0.png'>"
   ]
  },
  {
   "cell_type": "markdown",
   "id": "30bafbd9",
   "metadata": {},
   "source": [
    "Here is creepy santa with the LowRA lora at strenght 0.2:"
   ]
  },
  {
   "cell_type": "code",
   "execution_count": 11,
   "id": "452defb6",
   "metadata": {},
   "outputs": [
    {
     "name": "stdout",
     "output_type": "stream",
     "text": [
      "IHDR\r\n",
      "tEXtparameters\r\n",
      "<lora:LowRA:0.2> drunk, creepy santa, muddy, crowded bottles bar, intricate details, hdr, intricate details, hyperdetailed, cinematic, dark shot, muted colors, film grainy, soothing tones, muted colors, technicolor\r\n",
      "Negative prompt: (deformed, distorted, disfigured:1.3), poorly drawn, bad anatomy, wrong anatomy, extra limb, missing limb, floating limbs, (mutated hands and fingers:1.4), disconnected limbs, mutation, mutated, ugly, disgusting, blurry, amputation\r\n",
      "Steps: 26, Sampler: DPM++ 2M Karras, CFG scale: 5, Seed: 2035073191, Size: 640x768, Model hash: aadddd3d75, Model: deliberate_v3, Lora hashes: \"LowRA: 0dfc93870ba3\", Version: v1.6.0\r\n"
     ]
    }
   ],
   "source": [
    "!strings ../data/santa-0.2.png | head -n5"
   ]
  },
  {
   "cell_type": "markdown",
   "id": "b400801d",
   "metadata": {},
   "source": [
    "<img src='../data/santa-0.2.png'>"
   ]
  },
  {
   "cell_type": "markdown",
   "id": "b2b9bfeb",
   "metadata": {},
   "source": [
    "Here is the creepy santa with lora LowRA strength 0.7."
   ]
  },
  {
   "cell_type": "code",
   "execution_count": 12,
   "id": "f4717622",
   "metadata": {},
   "outputs": [
    {
     "name": "stdout",
     "output_type": "stream",
     "text": [
      "IHDR\r\n",
      "tEXtparameters\r\n",
      "<lora:LowRA:0.7> drunk, creepy santa, muddy, crowded bottles bar, intricate details, hdr, intricate details, hyperdetailed, cinematic, dark shot, muted colors, film grainy, soothing tones, muted colors, technicolor\r\n",
      "Negative prompt: (deformed, distorted, disfigured:1.3), poorly drawn, bad anatomy, wrong anatomy, extra limb, missing limb, floating limbs, (mutated hands and fingers:1.4), disconnected limbs, mutation, mutated, ugly, disgusting, blurry, amputation\r\n",
      "Steps: 26, Sampler: DPM++ 2M Karras, CFG scale: 5, Seed: 2035073191, Size: 640x768, Model hash: aadddd3d75, Model: deliberate_v3, Lora hashes: \"LowRA: 0dfc93870ba3\", Version: v1.6.0Y\r\n"
     ]
    }
   ],
   "source": [
    "!strings ../data/santa-0.7.png | head -n5"
   ]
  },
  {
   "cell_type": "markdown",
   "id": "319c9e42",
   "metadata": {},
   "source": [
    "<img src='../data/santa-0.7.png'>"
   ]
  },
  {
   "cell_type": "markdown",
   "id": "a9545f27",
   "metadata": {},
   "source": [
    "## Looking for Loras\n",
    "\n",
    "https://civitai.com"
   ]
  },
  {
   "cell_type": "markdown",
   "id": "71e2e51c",
   "metadata": {},
   "source": [
    "## Homework\n",
    "\n",
    "* Find a lora and download it.\n",
    "\n",
    "* Put the downloaded file in stable-diffusion-webui/models/Lora\n",
    "\n",
    "* Experiment with it and have at least three images to show for next week."
   ]
  },
  {
   "cell_type": "code",
   "execution_count": null,
   "id": "a5b000b3",
   "metadata": {},
   "outputs": [],
   "source": []
  }
 ],
 "metadata": {
  "kernelspec": {
   "display_name": "Python 3 (ipykernel)",
   "language": "python",
   "name": "python3"
  },
  "language_info": {
   "codemirror_mode": {
    "name": "ipython",
    "version": 3
   },
   "file_extension": ".py",
   "mimetype": "text/x-python",
   "name": "python",
   "nbconvert_exporter": "python",
   "pygments_lexer": "ipython3",
   "version": "3.11.4"
  },
  "toc": {
   "base_numbering": 1,
   "nav_menu": {},
   "number_sections": true,
   "sideBar": true,
   "skip_h1_title": true,
   "title_cell": "Table of Contents",
   "title_sidebar": "Contents",
   "toc_cell": false,
   "toc_position": {},
   "toc_section_display": true,
   "toc_window_display": false
  }
 },
 "nbformat": 4,
 "nbformat_minor": 5
}
