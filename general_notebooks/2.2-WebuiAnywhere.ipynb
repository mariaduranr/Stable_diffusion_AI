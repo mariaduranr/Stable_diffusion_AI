{
 "cells": [
  {
   "cell_type": "markdown",
   "id": "a780d23c",
   "metadata": {},
   "source": [
    "Tutorial: Go to Step 2, you don't have to setup the server\n",
    "\n",
    "https://www.juicelabs.co/blog/how-to-setup-juice-software-juice-box-remote-gpu\n",
    "\n",
    "Visual C++ Runtime\n",
    "\n",
    "https://apps.microsoft.com/home?hl=en-us&gl=US\n",
    "\n",
    "Install git??\n",
    "\n",
    "Juice Client: juice.cfg: host should be 152.20.11.178:43210\n",
    "\n",
    "https://github.com/Juice-Labs/Juice-Labs/releases\n",
    "\n",
    "Clone Webui\n",
    "\n",
    "https://github.com/AUTOMATIC1111/stable-diffusion-webui.git\n",
    "\n"
   ]
  },
  {
   "cell_type": "code",
   "execution_count": null,
   "id": "6469a092",
   "metadata": {},
   "outputs": [],
   "source": []
  }
 ],
 "metadata": {
  "kernelspec": {
   "display_name": "Python 3 (ipykernel)",
   "language": "python",
   "name": "python3"
  },
  "language_info": {
   "codemirror_mode": {
    "name": "ipython",
    "version": 3
   },
   "file_extension": ".py",
   "mimetype": "text/x-python",
   "name": "python",
   "nbconvert_exporter": "python",
   "pygments_lexer": "ipython3",
   "version": "3.11.4"
  },
  "toc": {
   "base_numbering": 1,
   "nav_menu": {},
   "number_sections": true,
   "sideBar": true,
   "skip_h1_title": true,
   "title_cell": "Table of Contents",
   "title_sidebar": "Contents",
   "toc_cell": false,
   "toc_position": {},
   "toc_section_display": true,
   "toc_window_display": false
  }
 },
 "nbformat": 4,
 "nbformat_minor": 5
}
