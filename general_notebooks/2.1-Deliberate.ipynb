{
 "cells": [
  {
   "cell_type": "code",
   "execution_count": 2,
   "id": "7da96107",
   "metadata": {},
   "outputs": [],
   "source": [
    "import pandas as pd\n",
    "\n",
    "import json\n",
    "\n",
    "from IPython.display import Image\n",
    "\n",
    "from IPython.core.display import HTML\n",
    "\n",
    "from IPython import display\n"
   ]
  },
  {
   "cell_type": "markdown",
   "id": "4d531ef8",
   "metadata": {},
   "source": [
    "# Exploring Stable Diffusion Models\n",
    "\n",
    "## civitai.com\n",
    "\n",
    "Look at some models and images.\n",
    "\n",
    "Look at API link at bottom of page."
   ]
  },
  {
   "cell_type": "markdown",
   "id": "7a651cb8",
   "metadata": {},
   "source": [
    "## Model: Deliberate\n",
    "\n",
    "id = 4823\n",
    "\n",
    "Civitai has an api for getting information about models, images, users, etc.\n",
    "\n",
    "The linux command `wget` is used to download content.  Here is a screen shot showing wget pulling information from civitai.com about the model Deliberate.\n",
    "\n",
    "<img src='../data/wget.png'>\n",
    "\n",
    "The cell below reads the content of the json file deliberate.json and stores it in the string content."
   ]
  },
  {
   "cell_type": "code",
   "execution_count": 82,
   "id": "c0628be2",
   "metadata": {},
   "outputs": [
    {
     "data": {
      "text/plain": [
       "str"
      ]
     },
     "execution_count": 82,
     "metadata": {},
     "output_type": "execute_result"
    }
   ],
   "source": [
    "with open('../data/deliberate.json') as f:\n",
    "    content = f.read()\n",
    "    \n",
    "type(content)"
   ]
  },
  {
   "cell_type": "markdown",
   "id": "e317f71c",
   "metadata": {},
   "source": [
    "Here is some of that string:"
   ]
  },
  {
   "cell_type": "code",
   "execution_count": 101,
   "id": "e1a3684f",
   "metadata": {},
   "outputs": [
    {
     "data": {
      "text/plain": [
       "'{\"id\":4823,\"name\":\"Deliberate\",\"description\":\"<h1 id=\\\\\"heading-2073\\\\\">Deliberate</h1><h2 id=\\\\\"heading-2074\\\\\">All in One / Any Case Version</h2><ol><li><p><strong>The shorter the prompt – the better th'"
      ]
     },
     "execution_count": 101,
     "metadata": {},
     "output_type": "execute_result"
    }
   ],
   "source": [
    "content[:200]"
   ]
  },
  {
   "cell_type": "markdown",
   "id": "71ed9006",
   "metadata": {},
   "source": [
    "content is a string, but you can see that it appears to be a dictionary.\n",
    "\n",
    "The json package can read the string and turn it into a dictionary."
   ]
  },
  {
   "cell_type": "code",
   "execution_count": 102,
   "id": "b5550285",
   "metadata": {},
   "outputs": [
    {
     "data": {
      "text/plain": [
       "dict"
      ]
     },
     "execution_count": 102,
     "metadata": {},
     "output_type": "execute_result"
    }
   ],
   "source": [
    "delib = json.loads(content)\n",
    "\n",
    "type(delib)"
   ]
  },
  {
   "cell_type": "markdown",
   "id": "94c1d9fd",
   "metadata": {},
   "source": [
    "Now look at the keys in the dict."
   ]
  },
  {
   "cell_type": "code",
   "execution_count": 84,
   "id": "5258009e",
   "metadata": {},
   "outputs": [
    {
     "name": "stdout",
     "output_type": "stream",
     "text": [
      "id\n",
      "name\n",
      "description\n",
      "type\n",
      "poi\n",
      "nsfw\n",
      "allowNoCredit\n",
      "allowCommercialUse\n",
      "allowDerivatives\n",
      "allowDifferentLicense\n",
      "stats\n",
      "creator\n",
      "tags\n",
      "modelVersions\n"
     ]
    }
   ],
   "source": [
    "for k in delib.keys():\n",
    "    print(k)"
   ]
  },
  {
   "cell_type": "markdown",
   "id": "cc369273",
   "metadata": {},
   "source": [
    "Look at the name."
   ]
  },
  {
   "cell_type": "code",
   "execution_count": 103,
   "id": "9b95ffa3",
   "metadata": {},
   "outputs": [
    {
     "data": {
      "text/plain": [
       "'Deliberate'"
      ]
     },
     "execution_count": 103,
     "metadata": {},
     "output_type": "execute_result"
    }
   ],
   "source": [
    "delib['name']"
   ]
  },
  {
   "cell_type": "markdown",
   "id": "f432dcae",
   "metadata": {},
   "source": [
    "NSFW: not safe for work\n",
    "\n",
    "Look at the value associated with the nsfw key."
   ]
  },
  {
   "cell_type": "code",
   "execution_count": 104,
   "id": "d0083a9a",
   "metadata": {},
   "outputs": [
    {
     "data": {
      "text/plain": [
       "False"
      ]
     },
     "execution_count": 104,
     "metadata": {},
     "output_type": "execute_result"
    }
   ],
   "source": [
    "delib['nsfw']"
   ]
  },
  {
   "cell_type": "markdown",
   "id": "5a09bac9",
   "metadata": {},
   "source": [
    "Thank goodness!!\n",
    "\n",
    "Now take a look at the description."
   ]
  },
  {
   "cell_type": "code",
   "execution_count": 49,
   "id": "7f3e0059",
   "metadata": {},
   "outputs": [
    {
     "data": {
      "text/plain": [
       "'<h1 id=\"heading-2073\">Deliberate</h1><h2 id=\"heading-2074\">All in One / Any Case Version</h2><ol><li><p><strong>The shorter the prompt – the better the result</strong><br />You can now forget about <code>extremely detailed</code>, <code>8k</code>, <code>hyperdetailed</code>, <code>masterpiece</code>, etc. You can still use them, but it\\'s not necessary, because you\\'ll get a masterpiece anyway. Just take a look at the demo images and their EXIF data.<br /><u>Masterpiece tip</u>:<br />If you still gonna use <code>masterpiece</code> token in your Prompt, trust me, the real power of this token you can see only if you keep your Negative prompt empty.</p></li><li><p><strong>Trigger Words</strong><br />You can boost the result by adding the <code>mj</code> token (at the start of the prompt), <code>cozy</code> or <code>cinematic</code>. You probably guess what <code>mj</code> means and how the magic works. So you have it.</p></li><li><p><strong>Cinematic</strong><br />I\\'ve completely revamped the <code>cinematic</code> token. As you can see, Deliberate v3 always strives to find reflections and create stunning results (without crazy prompting), much like Midjourney does.<br />At the same time, sometimes we want to achieve the highest level that no photographer can reach. That\\'s why I\\'ve redefined the interpretation of <code>cinematic</code>.</p></li><li><p><strong>Dataset</strong><br />The dataset is truly enormous. In fact, this is the first public model on the internet, where the selection of images was stricter than anywhere else, including Midjourney. Deliberate v3 can work without negatives and still produce masterpieces. This became possible precisely because of the huge dataset. It\\'s unique, it\\'s massive, and it includes only perfect images. Just try typing any word, exclude the negatives, and you\\'ll see that Deliberate knows what to show you without randomness. Even when you\\'re trying to get some ugly result, it still provides you with a spectacular one.</p></li><li><p><strong>License</strong><br />The license type is <a target=\"_blank\" rel=\"ugc\" href=\"https://creativecommons.org/licenses/by-nc-nd/4.0/\"><strong><span style=\"color:rgb(232, 21, 112)\">CC BY-NC-ND 4.0</span></strong></a>. If you want to use Deliberate on your service and/or for commercial purposes, message me on <a target=\"_blank\" rel=\"ugc\" href=\"https://discord.gg/xpuct\">Discord</a>. If you are an individual, not a commercial organization, there are no restrictions for you. The philosophy is very simple – private individuals provide support for the model, not companies, so private individuals can do anything.</p></li><li><p><strong>Easter Egg</strong><br />Now you can stop arguing with people to prove what the best sampler in the world is. You can prompt my nickname on a 512 x 512 and see how good the image looks, count how many fingers the girl has, and check if there is correct sign text or not.<br />From now on, you can just run batch Euler a and UniPC, for example, and see who make the job better.<br /></p></li></ol><p>Have fun ❤</p>'"
      ]
     },
     "execution_count": 49,
     "metadata": {},
     "output_type": "execute_result"
    }
   ],
   "source": [
    "delib['description']"
   ]
  },
  {
   "cell_type": "markdown",
   "id": "9e1428bd",
   "metadata": {},
   "source": [
    "It is HTML.  The HTML() function we imported will display the info for us."
   ]
  },
  {
   "cell_type": "code",
   "execution_count": 105,
   "id": "8eae0328",
   "metadata": {},
   "outputs": [
    {
     "data": {
      "text/html": [
       "<h1 id=\"heading-2073\">Deliberate</h1><h2 id=\"heading-2074\">All in One / Any Case Version</h2><ol><li><p><strong>The shorter the prompt – the better the result</strong><br />You can now forget about <code>extremely detailed</code>, <code>8k</code>, <code>hyperdetailed</code>, <code>masterpiece</code>, etc. You can still use them, but it's not necessary, because you'll get a masterpiece anyway. Just take a look at the demo images and their EXIF data.<br /><u>Masterpiece tip</u>:<br />If you still gonna use <code>masterpiece</code> token in your Prompt, trust me, the real power of this token you can see only if you keep your Negative prompt empty.</p></li><li><p><strong>Trigger Words</strong><br />You can boost the result by adding the <code>mj</code> token (at the start of the prompt), <code>cozy</code> or <code>cinematic</code>. You probably guess what <code>mj</code> means and how the magic works. So you have it.</p></li><li><p><strong>Cinematic</strong><br />I've completely revamped the <code>cinematic</code> token. As you can see, Deliberate v3 always strives to find reflections and create stunning results (without crazy prompting), much like Midjourney does.<br />At the same time, sometimes we want to achieve the highest level that no photographer can reach. That's why I've redefined the interpretation of <code>cinematic</code>.</p></li><li><p><strong>Dataset</strong><br />The dataset is truly enormous. In fact, this is the first public model on the internet, where the selection of images was stricter than anywhere else, including Midjourney. Deliberate v3 can work without negatives and still produce masterpieces. This became possible precisely because of the huge dataset. It's unique, it's massive, and it includes only perfect images. Just try typing any word, exclude the negatives, and you'll see that Deliberate knows what to show you without randomness. Even when you're trying to get some ugly result, it still provides you with a spectacular one.</p></li><li><p><strong>License</strong><br />The license type is <a target=\"_blank\" rel=\"ugc\" href=\"https://creativecommons.org/licenses/by-nc-nd/4.0/\"><strong><span style=\"color:rgb(232, 21, 112)\">CC BY-NC-ND 4.0</span></strong></a>. If you want to use Deliberate on your service and/or for commercial purposes, message me on <a target=\"_blank\" rel=\"ugc\" href=\"https://discord.gg/xpuct\">Discord</a>. If you are an individual, not a commercial organization, there are no restrictions for you. The philosophy is very simple – private individuals provide support for the model, not companies, so private individuals can do anything.</p></li><li><p><strong>Easter Egg</strong><br />Now you can stop arguing with people to prove what the best sampler in the world is. You can prompt my nickname on a 512 x 512 and see how good the image looks, count how many fingers the girl has, and check if there is correct sign text or not.<br />From now on, you can just run batch Euler a and UniPC, for example, and see who make the job better.<br /></p></li></ol><p>Have fun ❤</p>"
      ],
      "text/plain": [
       "<IPython.core.display.HTML object>"
      ]
     },
     "execution_count": 105,
     "metadata": {},
     "output_type": "execute_result"
    }
   ],
   "source": [
    "HTML(delib['description'])"
   ]
  },
  {
   "cell_type": "markdown",
   "id": "58faccfd",
   "metadata": {},
   "source": [
    "delib\\['modelVersions'] is a list, and the second item in the list is a dictionary.\n",
    "\n",
    "That dict has a key called images, and its value is a list."
   ]
  },
  {
   "cell_type": "code",
   "execution_count": 106,
   "id": "fdfccb38",
   "metadata": {},
   "outputs": [
    {
     "data": {
      "text/plain": [
       "list"
      ]
     },
     "execution_count": 106,
     "metadata": {},
     "output_type": "execute_result"
    }
   ],
   "source": [
    "type(delib['modelVersions'])"
   ]
  },
  {
   "cell_type": "code",
   "execution_count": 107,
   "id": "ad37fd64",
   "metadata": {},
   "outputs": [
    {
     "data": {
      "text/plain": [
       "dict"
      ]
     },
     "execution_count": 107,
     "metadata": {},
     "output_type": "execute_result"
    }
   ],
   "source": [
    "type(delib['modelVersions'][1])"
   ]
  },
  {
   "cell_type": "code",
   "execution_count": 108,
   "id": "c9344f16",
   "metadata": {},
   "outputs": [
    {
     "name": "stdout",
     "output_type": "stream",
     "text": [
      "id\n",
      "modelId\n",
      "name\n",
      "createdAt\n",
      "updatedAt\n",
      "trainedWords\n",
      "trainingStatus\n",
      "trainingDetails\n",
      "baseModel\n",
      "baseModelType\n",
      "earlyAccessTimeFrame\n",
      "description\n",
      "vaeId\n",
      "stats\n",
      "files\n",
      "images\n",
      "downloadUrl\n"
     ]
    }
   ],
   "source": [
    "for k in delib['modelVersions'][1].keys():\n",
    "    print(k)"
   ]
  },
  {
   "cell_type": "code",
   "execution_count": 95,
   "id": "c0f00f84",
   "metadata": {},
   "outputs": [
    {
     "data": {
      "text/plain": [
       "10"
      ]
     },
     "execution_count": 95,
     "metadata": {},
     "output_type": "execute_result"
    }
   ],
   "source": [
    "len(delib['modelVersions'][1]['images'])"
   ]
  },
  {
   "cell_type": "code",
   "execution_count": 99,
   "id": "c3326c0c",
   "metadata": {},
   "outputs": [
    {
     "name": "stdout",
     "output_type": "stream",
     "text": [
      "https://image.civitai.com/xG1nkqKTMzGDvpLrqFT7WA/49b06eee-5199-49d4-9551-3601bc37b758/width=450/2373999.jpeg \n",
      "\n",
      "girl, surreal art \n",
      "\n",
      "\n",
      "https://image.civitai.com/xG1nkqKTMzGDvpLrqFT7WA/45c0cace-8f2c-4dd1-a982-56cbce26790e/width=450/2373996.jpeg \n",
      "\n",
      "cozy classroom \n",
      "\n",
      "\n",
      "https://image.civitai.com/xG1nkqKTMzGDvpLrqFT7WA/83e06e93-7c11-482c-912a-ab6e9b2f0c9b/width=450/2373995.jpeg \n",
      "\n",
      "redhead \n",
      "\n",
      "\n",
      "https://image.civitai.com/xG1nkqKTMzGDvpLrqFT7WA/98f55548-07a3-47d6-9cda-180e90565925/width=450/2373998.jpeg \n",
      "\n",
      "superman \n",
      "\n",
      "\n",
      "https://image.civitai.com/xG1nkqKTMzGDvpLrqFT7WA/f7a1462c-b8fb-49d4-a320-06dbf01da1d3/width=450/2373997.jpeg \n",
      "\n",
      "\"a cyborg girl knolling\" \n",
      "\n",
      "\n",
      "https://image.civitai.com/xG1nkqKTMzGDvpLrqFT7WA/4b9d9f32-e790-4ed3-a330-ffc380f108fa/width=450/2374001.jpeg \n",
      "\n",
      "mj, cinematic close up photo of an ethereal neural network organism, divine woman, anatomical face, biomechanical details \n",
      "\n",
      "\n",
      "https://image.civitai.com/xG1nkqKTMzGDvpLrqFT7WA/27ff047f-dcc5-410f-905b-b7ad87a9a151/width=450/2374002.jpeg \n",
      "\n",
      "girl, eclectic art, circles \n",
      "\n",
      "\n",
      "https://image.civitai.com/xG1nkqKTMzGDvpLrqFT7WA/079d520a-9a83-41c8-bd2e-c2f4010733be/width=450/2374036.jpeg \n",
      "\n",
      "extremely detailed micro photo of a miniature village made of houses and bonsai trees in golden hour \n",
      "\n",
      "\n",
      "https://image.civitai.com/xG1nkqKTMzGDvpLrqFT7WA/de3c32fa-16a3-4188-b9d6-1014b4e438a6/width=450/2374004.jpeg \n",
      "\n",
      "mj, waterfall, sunset, cinematic \n",
      "\n",
      "\n",
      "https://image.civitai.com/xG1nkqKTMzGDvpLrqFT7WA/45fec762-291c-4397-988f-c677d79a035a/width=450/2374003.jpeg \n",
      "\n",
      "oxygen \n",
      "\n",
      "\n"
     ]
    }
   ],
   "source": [
    "for d in delib['modelVersions'][1]['images']:\n",
    "    print(d['url'],'\\n')\n",
    "    print(d['meta']['prompt'],'\\n\\n')"
   ]
  },
  {
   "cell_type": "markdown",
   "id": "52893821",
   "metadata": {},
   "source": [
    "## Exercise\n",
    "\n",
    "Get the name, description, and images from the model with id 46422."
   ]
  },
  {
   "cell_type": "code",
   "execution_count": null,
   "id": "ee531954",
   "metadata": {},
   "outputs": [],
   "source": []
  }
 ],
 "metadata": {
  "kernelspec": {
   "display_name": "Python 3 (ipykernel)",
   "language": "python",
   "name": "python3"
  },
  "language_info": {
   "codemirror_mode": {
    "name": "ipython",
    "version": 3
   },
   "file_extension": ".py",
   "mimetype": "text/x-python",
   "name": "python",
   "nbconvert_exporter": "python",
   "pygments_lexer": "ipython3",
   "version": "3.11.4"
  },
  "toc": {
   "base_numbering": 1,
   "nav_menu": {},
   "number_sections": true,
   "sideBar": true,
   "skip_h1_title": true,
   "title_cell": "Table of Contents",
   "title_sidebar": "Contents",
   "toc_cell": false,
   "toc_position": {},
   "toc_section_display": true,
   "toc_window_display": false
  }
 },
 "nbformat": 4,
 "nbformat_minor": 5
}
